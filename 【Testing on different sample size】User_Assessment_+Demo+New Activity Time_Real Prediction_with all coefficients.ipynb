{
 "cells": [
  {
   "cell_type": "code",
   "execution_count": 222,
   "metadata": {},
   "outputs": [],
   "source": [
    "import sys \n",
    "import numpy as np\n",
    "import pandas as pd\n",
    "import statsmodels.api as sm\n",
    "import sklearn\n",
    "import scipy as sp\n",
    "%matplotlib inline \n",
    "import matplotlib.pyplot as plt\n",
    "\n",
    "from sklearn.preprocessing import StandardScaler\n",
    "from sklearn.neighbors import KNeighborsClassifier"
   ]
  },
  {
   "cell_type": "markdown",
   "metadata": {},
   "source": [
    "# Read the data"
   ]
  },
  {
   "cell_type": "code",
   "execution_count": 223,
   "metadata": {},
   "outputs": [
    {
     "data": {
      "text/html": [
       "<div>\n",
       "<style scoped>\n",
       "    .dataframe tbody tr th:only-of-type {\n",
       "        vertical-align: middle;\n",
       "    }\n",
       "\n",
       "    .dataframe tbody tr th {\n",
       "        vertical-align: top;\n",
       "    }\n",
       "\n",
       "    .dataframe thead th {\n",
       "        text-align: right;\n",
       "    }\n",
       "</style>\n",
       "<table border=\"1\" class=\"dataframe\">\n",
       "  <thead>\n",
       "    <tr style=\"text-align: right;\">\n",
       "      <th></th>\n",
       "      <th>userId</th>\n",
       "      <th>age</th>\n",
       "      <th>registeredMonthCnt</th>\n",
       "      <th>followCnt</th>\n",
       "      <th>level</th>\n",
       "      <th>gender_female</th>\n",
       "      <th>gender_male</th>\n",
       "      <th>gender_unknown</th>\n",
       "    </tr>\n",
       "  </thead>\n",
       "  <tbody>\n",
       "    <tr>\n",
       "      <th>0</th>\n",
       "      <td>MCPCHCMCHCIC</td>\n",
       "      <td>21.000000</td>\n",
       "      <td>80.0</td>\n",
       "      <td>44.0</td>\n",
       "      <td>9.0</td>\n",
       "      <td>0</td>\n",
       "      <td>1</td>\n",
       "      <td>0</td>\n",
       "    </tr>\n",
       "    <tr>\n",
       "      <th>1</th>\n",
       "      <td>NCOCKCPCMCGCGC</td>\n",
       "      <td>23.000000</td>\n",
       "      <td>76.0</td>\n",
       "      <td>59.0</td>\n",
       "      <td>8.0</td>\n",
       "      <td>0</td>\n",
       "      <td>1</td>\n",
       "      <td>0</td>\n",
       "    </tr>\n",
       "    <tr>\n",
       "      <th>2</th>\n",
       "      <td>PCKCOCMCGCGCHCKC</td>\n",
       "      <td>21.507805</td>\n",
       "      <td>69.0</td>\n",
       "      <td>21.0</td>\n",
       "      <td>7.0</td>\n",
       "      <td>0</td>\n",
       "      <td>0</td>\n",
       "      <td>0</td>\n",
       "    </tr>\n",
       "    <tr>\n",
       "      <th>3</th>\n",
       "      <td>MCICHCKCKCGCMCIC</td>\n",
       "      <td>21.507805</td>\n",
       "      <td>66.0</td>\n",
       "      <td>38.0</td>\n",
       "      <td>10.0</td>\n",
       "      <td>0</td>\n",
       "      <td>0</td>\n",
       "      <td>0</td>\n",
       "    </tr>\n",
       "    <tr>\n",
       "      <th>4</th>\n",
       "      <td>NCJCHCPCNCICNCNC</td>\n",
       "      <td>20.000000</td>\n",
       "      <td>57.0</td>\n",
       "      <td>29.0</td>\n",
       "      <td>8.0</td>\n",
       "      <td>0</td>\n",
       "      <td>1</td>\n",
       "      <td>0</td>\n",
       "    </tr>\n",
       "  </tbody>\n",
       "</table>\n",
       "</div>"
      ],
      "text/plain": [
       "             userId        age  registeredMonthCnt  followCnt  level  \\\n",
       "0      MCPCHCMCHCIC  21.000000                80.0       44.0    9.0   \n",
       "1    NCOCKCPCMCGCGC  23.000000                76.0       59.0    8.0   \n",
       "2  PCKCOCMCGCGCHCKC  21.507805                69.0       21.0    7.0   \n",
       "3  MCICHCKCKCGCMCIC  21.507805                66.0       38.0   10.0   \n",
       "4  NCJCHCPCNCICNCNC  20.000000                57.0       29.0    8.0   \n",
       "\n",
       "   gender_female  gender_male  gender_unknown  \n",
       "0              0            1               0  \n",
       "1              0            1               0  \n",
       "2              0            0               0  \n",
       "3              0            0               0  \n",
       "4              0            1               0  "
      ]
     },
     "execution_count": 223,
     "metadata": {},
     "output_type": "execute_result"
    }
   ],
   "source": [
    "df_demo = pd.read_csv('user_demographics.csv')                        # Read the demographics Data\n",
    "df_demo['age'] = df_demo['age'].fillna(df_demo['age'].mean())\n",
    "df_demo = df_demo.drop(columns=['province'])\n",
    "df_demo = pd.get_dummies(df_demo,columns=['gender'],dummy_na=False)\n",
    "df_demo.head()"
   ]
  },
  {
   "cell_type": "code",
   "execution_count": 224,
   "metadata": {},
   "outputs": [
    {
     "data": {
      "text/plain": [
       "57750395"
      ]
     },
     "execution_count": 224,
     "metadata": {},
     "output_type": "execute_result"
    }
   ],
   "source": [
    "df_impression_s = pd.read_csv('impression_data.csv',index_col=False)  # Read the Action Data\n",
    "len(df_impression_s)"
   ]
  },
  {
   "cell_type": "code",
   "execution_count": 225,
   "metadata": {},
   "outputs": [
    {
     "data": {
      "text/plain": [
       "57750012"
      ]
     },
     "execution_count": 225,
     "metadata": {},
     "output_type": "execute_result"
    }
   ],
   "source": [
    "df_impression_c = pd.merge(df_impression_s,df_demo,how='inner',on='userId') # Match Action with Demographical Data\n",
    "len(df_impression_c)"
   ]
  },
  {
   "cell_type": "code",
   "execution_count": 226,
   "metadata": {},
   "outputs": [
    {
     "data": {
      "text/html": [
       "<div>\n",
       "<style scoped>\n",
       "    .dataframe tbody tr th:only-of-type {\n",
       "        vertical-align: middle;\n",
       "    }\n",
       "\n",
       "    .dataframe tbody tr th {\n",
       "        vertical-align: top;\n",
       "    }\n",
       "\n",
       "    .dataframe thead th {\n",
       "        text-align: right;\n",
       "    }\n",
       "</style>\n",
       "<table border=\"1\" class=\"dataframe\">\n",
       "  <thead>\n",
       "    <tr style=\"text-align: right;\">\n",
       "      <th></th>\n",
       "      <th>detailMlogInfoList</th>\n",
       "      <th>dt</th>\n",
       "      <th>impressPosition</th>\n",
       "      <th>impressTime</th>\n",
       "      <th>isClick</th>\n",
       "      <th>isComment</th>\n",
       "      <th>isIntoPersonalHomepage</th>\n",
       "      <th>isShare</th>\n",
       "      <th>isViewComment</th>\n",
       "      <th>isLike</th>\n",
       "      <th>mlogId</th>\n",
       "      <th>mlogViewTime</th>\n",
       "      <th>userId</th>\n",
       "      <th>age</th>\n",
       "      <th>registeredMonthCnt</th>\n",
       "      <th>followCnt</th>\n",
       "      <th>level</th>\n",
       "      <th>gender_female</th>\n",
       "      <th>gender_male</th>\n",
       "      <th>gender_unknown</th>\n",
       "    </tr>\n",
       "  </thead>\n",
       "  <tbody>\n",
       "    <tr>\n",
       "      <th>0</th>\n",
       "      <td>NaN</td>\n",
       "      <td>29</td>\n",
       "      <td>1</td>\n",
       "      <td>1574980776000</td>\n",
       "      <td>0</td>\n",
       "      <td>0</td>\n",
       "      <td>0</td>\n",
       "      <td>0</td>\n",
       "      <td>0</td>\n",
       "      <td>0</td>\n",
       "      <td>NCLCPCJCOCGCJC</td>\n",
       "      <td>NaN</td>\n",
       "      <td>PCNCGCGCLCOCOCOCJCGC</td>\n",
       "      <td>22.0</td>\n",
       "      <td>21.0</td>\n",
       "      <td>2.0</td>\n",
       "      <td>6.0</td>\n",
       "      <td>0</td>\n",
       "      <td>1</td>\n",
       "      <td>0</td>\n",
       "    </tr>\n",
       "    <tr>\n",
       "      <th>1</th>\n",
       "      <td>NaN</td>\n",
       "      <td>25</td>\n",
       "      <td>6</td>\n",
       "      <td>1574684613000</td>\n",
       "      <td>0</td>\n",
       "      <td>0</td>\n",
       "      <td>0</td>\n",
       "      <td>0</td>\n",
       "      <td>0</td>\n",
       "      <td>0</td>\n",
       "      <td>KCNCOCNCMCOCMC</td>\n",
       "      <td>NaN</td>\n",
       "      <td>PCNCGCGCLCOCOCOCJCGC</td>\n",
       "      <td>22.0</td>\n",
       "      <td>21.0</td>\n",
       "      <td>2.0</td>\n",
       "      <td>6.0</td>\n",
       "      <td>0</td>\n",
       "      <td>1</td>\n",
       "      <td>0</td>\n",
       "    </tr>\n",
       "    <tr>\n",
       "      <th>2</th>\n",
       "      <td>[{'isZan': '0', 'isComment': '0', 'mlogId': 'K...</td>\n",
       "      <td>25</td>\n",
       "      <td>1</td>\n",
       "      <td>1574684241000</td>\n",
       "      <td>1</td>\n",
       "      <td>0</td>\n",
       "      <td>0</td>\n",
       "      <td>0</td>\n",
       "      <td>0</td>\n",
       "      <td>0</td>\n",
       "      <td>NCHCGCICLCPCGC</td>\n",
       "      <td>2.98</td>\n",
       "      <td>PCNCGCGCLCOCOCOCJCGC</td>\n",
       "      <td>22.0</td>\n",
       "      <td>21.0</td>\n",
       "      <td>2.0</td>\n",
       "      <td>6.0</td>\n",
       "      <td>0</td>\n",
       "      <td>1</td>\n",
       "      <td>0</td>\n",
       "    </tr>\n",
       "    <tr>\n",
       "      <th>3</th>\n",
       "      <td>NaN</td>\n",
       "      <td>15</td>\n",
       "      <td>3</td>\n",
       "      <td>1573767973000</td>\n",
       "      <td>0</td>\n",
       "      <td>0</td>\n",
       "      <td>0</td>\n",
       "      <td>0</td>\n",
       "      <td>0</td>\n",
       "      <td>0</td>\n",
       "      <td>PCNCNCPCICLCGC</td>\n",
       "      <td>NaN</td>\n",
       "      <td>PCNCGCGCLCOCOCOCJCGC</td>\n",
       "      <td>22.0</td>\n",
       "      <td>21.0</td>\n",
       "      <td>2.0</td>\n",
       "      <td>6.0</td>\n",
       "      <td>0</td>\n",
       "      <td>1</td>\n",
       "      <td>0</td>\n",
       "    </tr>\n",
       "    <tr>\n",
       "      <th>4</th>\n",
       "      <td>NaN</td>\n",
       "      <td>15</td>\n",
       "      <td>2</td>\n",
       "      <td>1573767973000</td>\n",
       "      <td>0</td>\n",
       "      <td>0</td>\n",
       "      <td>0</td>\n",
       "      <td>0</td>\n",
       "      <td>0</td>\n",
       "      <td>0</td>\n",
       "      <td>NCHCICPCOCLCOC</td>\n",
       "      <td>NaN</td>\n",
       "      <td>PCNCGCGCLCOCOCOCJCGC</td>\n",
       "      <td>22.0</td>\n",
       "      <td>21.0</td>\n",
       "      <td>2.0</td>\n",
       "      <td>6.0</td>\n",
       "      <td>0</td>\n",
       "      <td>1</td>\n",
       "      <td>0</td>\n",
       "    </tr>\n",
       "  </tbody>\n",
       "</table>\n",
       "</div>"
      ],
      "text/plain": [
       "                                  detailMlogInfoList  dt  impressPosition  \\\n",
       "0                                                NaN  29                1   \n",
       "1                                                NaN  25                6   \n",
       "2  [{'isZan': '0', 'isComment': '0', 'mlogId': 'K...  25                1   \n",
       "3                                                NaN  15                3   \n",
       "4                                                NaN  15                2   \n",
       "\n",
       "     impressTime  isClick  isComment  isIntoPersonalHomepage  isShare  \\\n",
       "0  1574980776000        0          0                       0        0   \n",
       "1  1574684613000        0          0                       0        0   \n",
       "2  1574684241000        1          0                       0        0   \n",
       "3  1573767973000        0          0                       0        0   \n",
       "4  1573767973000        0          0                       0        0   \n",
       "\n",
       "   isViewComment  isLike          mlogId  mlogViewTime                userId  \\\n",
       "0              0       0  NCLCPCJCOCGCJC           NaN  PCNCGCGCLCOCOCOCJCGC   \n",
       "1              0       0  KCNCOCNCMCOCMC           NaN  PCNCGCGCLCOCOCOCJCGC   \n",
       "2              0       0  NCHCGCICLCPCGC          2.98  PCNCGCGCLCOCOCOCJCGC   \n",
       "3              0       0  PCNCNCPCICLCGC           NaN  PCNCGCGCLCOCOCOCJCGC   \n",
       "4              0       0  NCHCICPCOCLCOC           NaN  PCNCGCGCLCOCOCOCJCGC   \n",
       "\n",
       "    age  registeredMonthCnt  followCnt  level  gender_female  gender_male  \\\n",
       "0  22.0                21.0        2.0    6.0              0            1   \n",
       "1  22.0                21.0        2.0    6.0              0            1   \n",
       "2  22.0                21.0        2.0    6.0              0            1   \n",
       "3  22.0                21.0        2.0    6.0              0            1   \n",
       "4  22.0                21.0        2.0    6.0              0            1   \n",
       "\n",
       "   gender_unknown  \n",
       "0               0  \n",
       "1               0  \n",
       "2               0  \n",
       "3               0  \n",
       "4               0  "
      ]
     },
     "execution_count": 226,
     "metadata": {},
     "output_type": "execute_result"
    }
   ],
   "source": [
    "# The major sample table ready for further sampling\n",
    "df_impression_c.head()"
   ]
  },
  {
   "cell_type": "code",
   "execution_count": 227,
   "metadata": {},
   "outputs": [
    {
     "data": {
      "text/html": [
       "<div>\n",
       "<style scoped>\n",
       "    .dataframe tbody tr th:only-of-type {\n",
       "        vertical-align: middle;\n",
       "    }\n",
       "\n",
       "    .dataframe tbody tr th {\n",
       "        vertical-align: top;\n",
       "    }\n",
       "\n",
       "    .dataframe thead th {\n",
       "        text-align: right;\n",
       "    }\n",
       "</style>\n",
       "<table border=\"1\" class=\"dataframe\">\n",
       "  <thead>\n",
       "    <tr style=\"text-align: right;\">\n",
       "      <th></th>\n",
       "      <th>detailMlogInfoList</th>\n",
       "      <th>dt</th>\n",
       "      <th>impressPosition</th>\n",
       "      <th>impressTime</th>\n",
       "      <th>isClick</th>\n",
       "      <th>isComment</th>\n",
       "      <th>isIntoPersonalHomepage</th>\n",
       "      <th>isShare</th>\n",
       "      <th>isViewComment</th>\n",
       "      <th>isLike</th>\n",
       "      <th>mlogId</th>\n",
       "      <th>mlogViewTime</th>\n",
       "      <th>userId</th>\n",
       "      <th>age</th>\n",
       "      <th>registeredMonthCnt</th>\n",
       "      <th>followCnt</th>\n",
       "      <th>level</th>\n",
       "      <th>gender_female</th>\n",
       "      <th>gender_male</th>\n",
       "      <th>gender_unknown</th>\n",
       "    </tr>\n",
       "  </thead>\n",
       "  <tbody>\n",
       "    <tr>\n",
       "      <th>0</th>\n",
       "      <td>NaN</td>\n",
       "      <td>29</td>\n",
       "      <td>1</td>\n",
       "      <td>1574980776000</td>\n",
       "      <td>0</td>\n",
       "      <td>0</td>\n",
       "      <td>0</td>\n",
       "      <td>0</td>\n",
       "      <td>0</td>\n",
       "      <td>0</td>\n",
       "      <td>NCLCPCJCOCGCJC</td>\n",
       "      <td>0.00</td>\n",
       "      <td>PCNCGCGCLCOCOCOCJCGC</td>\n",
       "      <td>22.0</td>\n",
       "      <td>21.0</td>\n",
       "      <td>2.0</td>\n",
       "      <td>6.0</td>\n",
       "      <td>0</td>\n",
       "      <td>1</td>\n",
       "      <td>0</td>\n",
       "    </tr>\n",
       "    <tr>\n",
       "      <th>1</th>\n",
       "      <td>NaN</td>\n",
       "      <td>25</td>\n",
       "      <td>6</td>\n",
       "      <td>1574684613000</td>\n",
       "      <td>0</td>\n",
       "      <td>0</td>\n",
       "      <td>0</td>\n",
       "      <td>0</td>\n",
       "      <td>0</td>\n",
       "      <td>0</td>\n",
       "      <td>KCNCOCNCMCOCMC</td>\n",
       "      <td>0.00</td>\n",
       "      <td>PCNCGCGCLCOCOCOCJCGC</td>\n",
       "      <td>22.0</td>\n",
       "      <td>21.0</td>\n",
       "      <td>2.0</td>\n",
       "      <td>6.0</td>\n",
       "      <td>0</td>\n",
       "      <td>1</td>\n",
       "      <td>0</td>\n",
       "    </tr>\n",
       "    <tr>\n",
       "      <th>2</th>\n",
       "      <td>[{'isZan': '0', 'isComment': '0', 'mlogId': 'K...</td>\n",
       "      <td>25</td>\n",
       "      <td>1</td>\n",
       "      <td>1574684241000</td>\n",
       "      <td>1</td>\n",
       "      <td>0</td>\n",
       "      <td>0</td>\n",
       "      <td>0</td>\n",
       "      <td>0</td>\n",
       "      <td>0</td>\n",
       "      <td>NCHCGCICLCPCGC</td>\n",
       "      <td>2.98</td>\n",
       "      <td>PCNCGCGCLCOCOCOCJCGC</td>\n",
       "      <td>22.0</td>\n",
       "      <td>21.0</td>\n",
       "      <td>2.0</td>\n",
       "      <td>6.0</td>\n",
       "      <td>0</td>\n",
       "      <td>1</td>\n",
       "      <td>0</td>\n",
       "    </tr>\n",
       "    <tr>\n",
       "      <th>3</th>\n",
       "      <td>NaN</td>\n",
       "      <td>15</td>\n",
       "      <td>3</td>\n",
       "      <td>1573767973000</td>\n",
       "      <td>0</td>\n",
       "      <td>0</td>\n",
       "      <td>0</td>\n",
       "      <td>0</td>\n",
       "      <td>0</td>\n",
       "      <td>0</td>\n",
       "      <td>PCNCNCPCICLCGC</td>\n",
       "      <td>0.00</td>\n",
       "      <td>PCNCGCGCLCOCOCOCJCGC</td>\n",
       "      <td>22.0</td>\n",
       "      <td>21.0</td>\n",
       "      <td>2.0</td>\n",
       "      <td>6.0</td>\n",
       "      <td>0</td>\n",
       "      <td>1</td>\n",
       "      <td>0</td>\n",
       "    </tr>\n",
       "    <tr>\n",
       "      <th>4</th>\n",
       "      <td>NaN</td>\n",
       "      <td>15</td>\n",
       "      <td>2</td>\n",
       "      <td>1573767973000</td>\n",
       "      <td>0</td>\n",
       "      <td>0</td>\n",
       "      <td>0</td>\n",
       "      <td>0</td>\n",
       "      <td>0</td>\n",
       "      <td>0</td>\n",
       "      <td>NCHCICPCOCLCOC</td>\n",
       "      <td>0.00</td>\n",
       "      <td>PCNCGCGCLCOCOCOCJCGC</td>\n",
       "      <td>22.0</td>\n",
       "      <td>21.0</td>\n",
       "      <td>2.0</td>\n",
       "      <td>6.0</td>\n",
       "      <td>0</td>\n",
       "      <td>1</td>\n",
       "      <td>0</td>\n",
       "    </tr>\n",
       "  </tbody>\n",
       "</table>\n",
       "</div>"
      ],
      "text/plain": [
       "                                  detailMlogInfoList  dt  impressPosition  \\\n",
       "0                                                NaN  29                1   \n",
       "1                                                NaN  25                6   \n",
       "2  [{'isZan': '0', 'isComment': '0', 'mlogId': 'K...  25                1   \n",
       "3                                                NaN  15                3   \n",
       "4                                                NaN  15                2   \n",
       "\n",
       "     impressTime  isClick  isComment  isIntoPersonalHomepage  isShare  \\\n",
       "0  1574980776000        0          0                       0        0   \n",
       "1  1574684613000        0          0                       0        0   \n",
       "2  1574684241000        1          0                       0        0   \n",
       "3  1573767973000        0          0                       0        0   \n",
       "4  1573767973000        0          0                       0        0   \n",
       "\n",
       "   isViewComment  isLike          mlogId  mlogViewTime                userId  \\\n",
       "0              0       0  NCLCPCJCOCGCJC          0.00  PCNCGCGCLCOCOCOCJCGC   \n",
       "1              0       0  KCNCOCNCMCOCMC          0.00  PCNCGCGCLCOCOCOCJCGC   \n",
       "2              0       0  NCHCGCICLCPCGC          2.98  PCNCGCGCLCOCOCOCJCGC   \n",
       "3              0       0  PCNCNCPCICLCGC          0.00  PCNCGCGCLCOCOCOCJCGC   \n",
       "4              0       0  NCHCICPCOCLCOC          0.00  PCNCGCGCLCOCOCOCJCGC   \n",
       "\n",
       "    age  registeredMonthCnt  followCnt  level  gender_female  gender_male  \\\n",
       "0  22.0                21.0        2.0    6.0              0            1   \n",
       "1  22.0                21.0        2.0    6.0              0            1   \n",
       "2  22.0                21.0        2.0    6.0              0            1   \n",
       "3  22.0                21.0        2.0    6.0              0            1   \n",
       "4  22.0                21.0        2.0    6.0              0            1   \n",
       "\n",
       "   gender_unknown  \n",
       "0               0  \n",
       "1               0  \n",
       "2               0  \n",
       "3               0  \n",
       "4               0  "
      ]
     },
     "execution_count": 227,
     "metadata": {},
     "output_type": "execute_result"
    }
   ],
   "source": [
    "df_impression_c['mlogViewTime'] = df_impression_c['mlogViewTime'].fillna(0)\n",
    "df_impression_c.head()"
   ]
  },
  {
   "cell_type": "code",
   "execution_count": 228,
   "metadata": {},
   "outputs": [
    {
     "data": {
      "text/plain": [
       "500000"
      ]
     },
     "execution_count": 228,
     "metadata": {},
     "output_type": "execute_result"
    }
   ],
   "source": [
    "df_impression = df_impression_c.sample(n=500000)                # Try on small sample of the data first \n",
    "df_impression.head()\n",
    "len(df_impression)"
   ]
  },
  {
   "cell_type": "code",
   "execution_count": 229,
   "metadata": {},
   "outputs": [
    {
     "data": {
      "text/plain": [
       "293405"
      ]
     },
     "execution_count": 229,
     "metadata": {},
     "output_type": "execute_result"
    }
   ],
   "source": [
    "df_change = df_impression.drop_duplicates(subset=['userId'])   # To make sure all the users' action record that we're gonna use has its corresponding demographic records\n",
    "len(df_change)                                                 # Only choose the users that have both info. "
   ]
  },
  {
   "cell_type": "code",
   "execution_count": 230,
   "metadata": {},
   "outputs": [
    {
     "data": {
      "text/html": [
       "<div>\n",
       "<style scoped>\n",
       "    .dataframe tbody tr th:only-of-type {\n",
       "        vertical-align: middle;\n",
       "    }\n",
       "\n",
       "    .dataframe tbody tr th {\n",
       "        vertical-align: top;\n",
       "    }\n",
       "\n",
       "    .dataframe thead th {\n",
       "        text-align: right;\n",
       "    }\n",
       "</style>\n",
       "<table border=\"1\" class=\"dataframe\">\n",
       "  <thead>\n",
       "    <tr style=\"text-align: right;\">\n",
       "      <th></th>\n",
       "      <th>userFrequency</th>\n",
       "    </tr>\n",
       "  </thead>\n",
       "  <tbody>\n",
       "    <tr>\n",
       "      <th>count</th>\n",
       "      <td>293405.000000</td>\n",
       "    </tr>\n",
       "    <tr>\n",
       "      <th>mean</th>\n",
       "      <td>1.704129</td>\n",
       "    </tr>\n",
       "    <tr>\n",
       "      <th>std</th>\n",
       "      <td>2.495012</td>\n",
       "    </tr>\n",
       "    <tr>\n",
       "      <th>min</th>\n",
       "      <td>1.000000</td>\n",
       "    </tr>\n",
       "    <tr>\n",
       "      <th>25%</th>\n",
       "      <td>1.000000</td>\n",
       "    </tr>\n",
       "    <tr>\n",
       "      <th>50%</th>\n",
       "      <td>1.000000</td>\n",
       "    </tr>\n",
       "    <tr>\n",
       "      <th>75%</th>\n",
       "      <td>2.000000</td>\n",
       "    </tr>\n",
       "    <tr>\n",
       "      <th>max</th>\n",
       "      <td>202.000000</td>\n",
       "    </tr>\n",
       "  </tbody>\n",
       "</table>\n",
       "</div>"
      ],
      "text/plain": [
       "       userFrequency\n",
       "count  293405.000000\n",
       "mean        1.704129\n",
       "std         2.495012\n",
       "min         1.000000\n",
       "25%         1.000000\n",
       "50%         1.000000\n",
       "75%         2.000000\n",
       "max       202.000000"
      ]
     },
     "execution_count": 230,
     "metadata": {},
     "output_type": "execute_result"
    }
   ],
   "source": [
    "df_name_rk = df_impression.value_counts(subset='userId')\n",
    "df_name_rk = df_name_rk.to_frame()                      \n",
    "\n",
    "df_name_rk = df_name_rk.rename(columns={0:'userFrequency'})\n",
    "df_name_rk.head()\n",
    "df_name_rk.describe()"
   ]
  },
  {
   "cell_type": "code",
   "execution_count": 231,
   "metadata": {},
   "outputs": [
    {
     "data": {
      "text/plain": [
       "125173"
      ]
     },
     "execution_count": 231,
     "metadata": {},
     "output_type": "execute_result"
    }
   ],
   "source": [
    "# Drop users who only have 2 or less record. Because their stastics for training and testing are too random\n",
    "df_name_rk_1 = df_name_rk[df_name_rk['userFrequency']<=4] \n",
    "dict = df_name_rk_1.to_dict('index')\n",
    "a = list(dict.keys())\n",
    "df_impression = df_impression[~df_impression['userId'].isin(a)]\n",
    "len(df_impression)\n"
   ]
  },
  {
   "cell_type": "code",
   "execution_count": 232,
   "metadata": {},
   "outputs": [
    {
     "data": {
      "text/plain": [
       "13623"
      ]
     },
     "execution_count": 232,
     "metadata": {},
     "output_type": "execute_result"
    }
   ],
   "source": [
    "df_user_name_arr = df_impression['userId'].unique()\n",
    "len(df_user_name_arr)"
   ]
  },
  {
   "cell_type": "code",
   "execution_count": 233,
   "metadata": {},
   "outputs": [
    {
     "name": "stdout",
     "output_type": "stream",
     "text": [
      "100,200,300,400,500,600,700,800,900,1000,1100,1200,1300,1400,1500,1600,1700,1800,1900,2000,2100,2200,2300,2400,2500,2600,2700,2800,2900,3000,3100,3200,3300,3400,3500,3600,3700,3800,3900,4000,4100,4200,4300,4400,4500,4600,4700,4800,4900,5000,5100,5200,5300,5400,5500,5600,5700,5800,5900,6000,6100,6200,6300,6400,6500,6600,6700,6800,6900,7000,7100,7200,7300,7400,7500,7600,7700,7800,7900,8000,8100,8200,8300,8400,8500,8600,8700,8800,8900,9000,9100,9200,9300,9400,9500,9600,9700,9800,9900,10000,10100,10200,10300,10400,10500,10600,10700,10800,10900,11000,11100,11200,11300,11400,11500,11600,11700,11800,11900,12000,12100,12200,12300,12400,12500,12600,12700,12800,12900,13000,13100,13200,13300,13400,13500,13600,13700,13800,13900,14000,14100,14200,14300,14400,14500,14600,14700,14800,14900,15000,15100,15200,15300,15400,15500,15600,15700,15800,15900,16000,16100,16200,16300,16400,16500,16600,16700,16800,16900,17000,17100,17200,17300,17400,17500,17600,17700,17800,17900,18000,18100,18200,18300,18400,18500,18600,18700,18800,18900,19000,19100,19200,19300,19400,19500,19600,19700,19800,19900,20000,20100,20200,20300,20400,20500,20600,20700,20800,20900,21000,21100,21200,21300,21400,21500,21600,21700,21800,21900,22000,22100,22200,22300,22400,22500,22600,22700,22800,22900,23000,23100,23200,23300,23400,23500,23600,23700,23800,23900,24000,24100,24200,24300,24400,24500,24600,24700,24800,24900,25000,25100,25200,25300,25400,25500,25600,25700,25800,25900,26000,26100,26200,26300,26400,26500,26600,26700,26800,26900,27000,27100,27200,27300,27400,27500,27600,27700,27800,27900,28000,28100,28200,28300,28400,28500,28600,28700,28800,28900,29000,29100,29200,29300,29400,29500,29600,29700,29800,29900,30000,30100,30200,30300,30400,30500,30600,30700,30800,30900,31000,31100,31200,31300,31400,31500,31600,31700,31800,31900,32000,32100,32200,32300,32400,32500,32600,32700,32800,32900,33000,33100,33200,33300,33400,33500,33600,33700,33800,33900,34000,34100,34200,34300,34400,34500,34600,34700,34800,34900,35000,35100,35200,35300,35400,35500,35600,35700,35800,35900,36000,36100,36200,36300,36400,36500,36600,36700,36800,36900,37000,37100,37200,37300,37400,37500,37600,37700,37800,37900,38000,38100,38200,38300,38400,38500,38600,38700,38800,38900,39000,39100,39200,39300,39400,39500,39600,39700,39800,39900,40000,40100,40200,40300,40400,40500,40600,40700,40800,40900,41000,41100,41200,41300,41400,41500,41600,41700,41800,41900,42000,42100,42200,42300,42400,42500,42600,42700,42800,42900,43000,43100,43200,43300,43400,43500,43600,43700,43800,43900,44000,44100,44200,44300,44400,44500,44600,44700,44800,44900,45000,45100,45200,45300,45400,45500,45600,45700,45800,45900,46000,46100,46200,46300,46400,46500,46600,46700,46800,46900,47000,47100,47200,47300,47400,47500,47600,47700,47800,47900,48000,48100,48200,48300,48400,48500,48600,48700,48800,48900,49000,49100,49200,49300,49400,49500,49600,49700,49800,49900,50000,50100,50200,50300,50400,50500,50600,50700,50800,50900,51000,51100,51200,51300,51400,51500,51600,51700,51800,51900,52000,52100,52200,52300,52400,52500,52600,52700,52800,52900,53000,53100,53200,53300,53400,53500,53600,53700,53800,53900,54000,54100,54200,54300,54400,54500,54600,54700,54800,54900,55000,55100,55200,55300,55400,55500,55600,55700,55800,55900,56000,56100,56200,56300,56400,56500,56600,56700,56800,56900,57000,57100,57200,57300,57400,57500,57600,57700,57800,57900,58000,58100,58200,58300,58400,58500,58600,58700,58800,58900,59000,59100,59200,59300,59400,59500,59600,59700,59800,59900,60000,60100,60200,60300,60400,60500,60600,60700,60800,60900,61000,61100,61200,61300,61400,61500,61600,61700,61800,61900,62000,62100,62200,62300,62400,62500,62600,62700,62800,62900,63000,63100,63200,63300,63400,63500,63600,63700,63800,63900,64000,64100,64200,64300,64400,64500,64600,64700,64800,64900,65000,65100,65200,65300,65400,65500,65600,65700,65800,65900,66000,66100,66200,66300,66400,66500,66600,66700,66800,66900,67000,67100,67200,67300,67400,67500,67600,67700,67800,67900,68000,68100,68200,68300,68400,68500,68600,68700,68800,68900,69000,69100,69200,69300,69400,69500,69600,69700,69800,69900,70000,70100,70200,70300,70400,70500,70600,70700,70800,70900,71000,71100,71200,71300,71400,71500,71600,71700,71800,71900,72000,72100,72200,72300,72400,72500,72600,72700,72800,72900,73000,73100,73200,73300,73400,73500,73600,73700,73800,73900,74000,74100,74200,74300,74400,74500,74600,74700,74800,74900,75000,75100,75200,75300,75400,75500,75600,75700,75800,75900,76000,76100,76200,76300,76400,76500,76600,76700,76800,76900,77000,77100,77200,77300,77400,77500,77600,77700,77800,77900,78000,78100,78200,78300,78400,78500,78600,78700,78800,78900,79000,79100,79200,79300,79400,79500,79600,79700,79800,79900,80000,80100,80200,80300,80400,80500,80600,80700,80800,80900,81000,81100,81200,81300,81400,81500,81600,81700,81800,81900,82000,82100,82200,82300,82400,82500,82600,82700,82800,82900,83000,83100,83200,83300,83400,83500,83600,83700,83800,83900,84000,84100,84200,84300,84400,84500,84600,84700,84800,84900,85000,85100,85200,85300,85400,85500,85600,85700,85800,85900,86000,86100,86200,86300,86400,86500,86600,86700,86800,86900,87000,87100,87200,87300,87400,87500,87600,87700,87800,87900,88000,88100,88200,88300,88400,88500,88600,88700,88800,88900,89000,89100,89200,89300,89400,89500,89600,89700,89800,89900,90000,90100,90200,90300,90400,90500,90600,90700,90800,90900,91000,91100,91200,91300,91400,91500,91600,91700,91800,91900,92000,92100,92200,92300,92400,92500,92600,92700,92800,92900,93000,93100,93200,93300,93400,93500,93600,93700,93800,93900,94000,94100,94200,94300,94400,94500,94600,94700,94800,94900,95000,95100,95200,95300,95400,95500,95600,95700,95800,95900,96000,96100,96200,96300,96400,96500,96600,96700,96800,96900,97000,97100,97200,97300,97400,97500,97600,97700,97800,97900,98000,98100,98200,98300,98400,98500,98600,98700,98800,98900,99000,99100,99200,99300,99400,99500,99600,99700,99800,99900,100000,100100,100200,100300,100400,100500,100600,100700,100800,100900,101000,101100,101200,101300,101400,101500,101600,101700,101800,101900,102000,102100,102200,102300,102400,102500,102600,102700,102800,102900,103000,103100,103200,103300,103400,103500,103600,103700,103800,103900,104000,104100,104200,104300,104400,104500,104600,104700,104800,104900,105000,105100,105200,105300,105400,105500,105600,105700,105800,105900,106000,106100,106200,106300,106400,106500,106600,106700,106800,106900,107000,107100,107200,107300,107400,107500,107600,107700,107800,107900,108000,108100,108200,108300,108400,108500,108600,108700,108800,108900,109000,109100,109200,109300,109400,109500,109600,109700,109800,109900,110000,110100,110200,110300,110400,110500,110600,110700,110800,110900,111000,111100,111200,111300,111400,111500,111600,111700,111800,111900,112000,112100,112200,112300,112400,112500,112600,112700,112800,112900,113000,113100,113200,113300,113400,113500,113600,113700,113800,113900,114000,114100,114200,114300,114400,114500,114600,114700,114800,114900,115000,115100,115200,115300,115400,115500,115600,115700,115800,115900,116000,116100,116200,116300,116400,116500,116600,116700,116800,116900,117000,117100,117200,117300,117400,117500,117600,117700,117800,117900,118000,118100,118200,118300,118400,118500,118600,118700,118800,118900,119000,119100,119200,119300,119400,119500,119600,119700,119800,119900,120000,120100,120200,120300,120400,120500,120600,120700,120800,120900,121000,121100,121200,121300,121400,121500,121600,121700,121800,121900,122000,122100,122200,122300,122400,122500,122600,122700,122800,122900,123000,123100,123200,123300,123400,123500,123600,123700,123800,123900,124000,124100,124200,124300,124400,124500,124600,124700,124800,124900,125000,125100,"
     ]
    }
   ],
   "source": [
    "# According to the dataset description, this is the nested data hidden in the ['detailMlogInfoList']\n",
    "extra_view_time = []\n",
    "count = 0 # Track the progress of the transition\n",
    "for index,row in df_impression.iterrows():\n",
    "    if isinstance(df_impression['detailMlogInfoList'][index],float):\n",
    "        extra_view_time.append(0)\n",
    "    else:\n",
    "        str_1 = df_impression['detailMlogInfoList'][index]\n",
    "        substr = 'mlogViewTime'\n",
    "        res_start = [i for i in range(len(str_1)) if str_1.startswith(substr, i)]\n",
    "        # print(\"The start indices of the substrings are : \" + str(res_start))\n",
    "\n",
    "        substr = 'isShare'\n",
    "        res_end = [i for i in range(len(str_1)) if str_1.startswith(substr, i)]\n",
    "        # print(\"The start indices of the substrings are : \" + str(res_end))\n",
    "\n",
    "        num_to_add = 0\n",
    "        for IndexInList in range(len(res_start)):\n",
    "            start = res_start[IndexInList] + 16\n",
    "            end = res_end[IndexInList] - 4\n",
    "            num_to_add+= float(str_1[start:end])\n",
    "        # print(num_to_add)\n",
    "        extra_view_time.append(num_to_add)\n",
    "    count+=1\n",
    "    if count%100 == 0:\n",
    "        print(count,end=',')"
   ]
  },
  {
   "cell_type": "code",
   "execution_count": 234,
   "metadata": {},
   "outputs": [],
   "source": [
    "df_impression['extra_view_time'] = extra_view_time"
   ]
  },
  {
   "cell_type": "code",
   "execution_count": 235,
   "metadata": {},
   "outputs": [
    {
     "data": {
      "text/html": [
       "<div>\n",
       "<style scoped>\n",
       "    .dataframe tbody tr th:only-of-type {\n",
       "        vertical-align: middle;\n",
       "    }\n",
       "\n",
       "    .dataframe tbody tr th {\n",
       "        vertical-align: top;\n",
       "    }\n",
       "\n",
       "    .dataframe thead th {\n",
       "        text-align: right;\n",
       "    }\n",
       "</style>\n",
       "<table border=\"1\" class=\"dataframe\">\n",
       "  <thead>\n",
       "    <tr style=\"text-align: right;\">\n",
       "      <th></th>\n",
       "      <th>detailMlogInfoList</th>\n",
       "      <th>dt</th>\n",
       "      <th>impressPosition</th>\n",
       "      <th>impressTime</th>\n",
       "      <th>isClick</th>\n",
       "      <th>isComment</th>\n",
       "      <th>isIntoPersonalHomepage</th>\n",
       "      <th>isShare</th>\n",
       "      <th>isViewComment</th>\n",
       "      <th>isLike</th>\n",
       "      <th>...</th>\n",
       "      <th>mlogViewTime</th>\n",
       "      <th>userId</th>\n",
       "      <th>age</th>\n",
       "      <th>registeredMonthCnt</th>\n",
       "      <th>followCnt</th>\n",
       "      <th>level</th>\n",
       "      <th>gender_female</th>\n",
       "      <th>gender_male</th>\n",
       "      <th>gender_unknown</th>\n",
       "      <th>extra_view_time</th>\n",
       "    </tr>\n",
       "  </thead>\n",
       "  <tbody>\n",
       "    <tr>\n",
       "      <th>26701599</th>\n",
       "      <td>NaN</td>\n",
       "      <td>3</td>\n",
       "      <td>83</td>\n",
       "      <td>1572749130000</td>\n",
       "      <td>0</td>\n",
       "      <td>0</td>\n",
       "      <td>0</td>\n",
       "      <td>0</td>\n",
       "      <td>0</td>\n",
       "      <td>0</td>\n",
       "      <td>...</td>\n",
       "      <td>0.0</td>\n",
       "      <td>PCHCICJCMCICHCKCLCMC</td>\n",
       "      <td>23.000000</td>\n",
       "      <td>3.0</td>\n",
       "      <td>5.0</td>\n",
       "      <td>5.0</td>\n",
       "      <td>0</td>\n",
       "      <td>1</td>\n",
       "      <td>0</td>\n",
       "      <td>0.0</td>\n",
       "    </tr>\n",
       "    <tr>\n",
       "      <th>34678112</th>\n",
       "      <td>NaN</td>\n",
       "      <td>15</td>\n",
       "      <td>66</td>\n",
       "      <td>1573753453000</td>\n",
       "      <td>0</td>\n",
       "      <td>0</td>\n",
       "      <td>0</td>\n",
       "      <td>0</td>\n",
       "      <td>0</td>\n",
       "      <td>0</td>\n",
       "      <td>...</td>\n",
       "      <td>0.0</td>\n",
       "      <td>NCGCGCPCMCLCNCICKC</td>\n",
       "      <td>18.000000</td>\n",
       "      <td>36.0</td>\n",
       "      <td>7.0</td>\n",
       "      <td>8.0</td>\n",
       "      <td>1</td>\n",
       "      <td>0</td>\n",
       "      <td>0</td>\n",
       "      <td>0.0</td>\n",
       "    </tr>\n",
       "    <tr>\n",
       "      <th>50827629</th>\n",
       "      <td>NaN</td>\n",
       "      <td>16</td>\n",
       "      <td>93</td>\n",
       "      <td>1573900033000</td>\n",
       "      <td>0</td>\n",
       "      <td>0</td>\n",
       "      <td>0</td>\n",
       "      <td>0</td>\n",
       "      <td>0</td>\n",
       "      <td>0</td>\n",
       "      <td>...</td>\n",
       "      <td>0.0</td>\n",
       "      <td>NCJCHCPCOCHCKCOCKC</td>\n",
       "      <td>21.507805</td>\n",
       "      <td>35.0</td>\n",
       "      <td>15.0</td>\n",
       "      <td>8.0</td>\n",
       "      <td>0</td>\n",
       "      <td>0</td>\n",
       "      <td>0</td>\n",
       "      <td>0.0</td>\n",
       "    </tr>\n",
       "    <tr>\n",
       "      <th>53295167</th>\n",
       "      <td>NaN</td>\n",
       "      <td>19</td>\n",
       "      <td>28</td>\n",
       "      <td>1574142817000</td>\n",
       "      <td>0</td>\n",
       "      <td>0</td>\n",
       "      <td>0</td>\n",
       "      <td>0</td>\n",
       "      <td>0</td>\n",
       "      <td>0</td>\n",
       "      <td>...</td>\n",
       "      <td>0.0</td>\n",
       "      <td>PCNCGCJCKCPCGCHCMCIC</td>\n",
       "      <td>21.507805</td>\n",
       "      <td>21.0</td>\n",
       "      <td>5.0</td>\n",
       "      <td>5.0</td>\n",
       "      <td>0</td>\n",
       "      <td>0</td>\n",
       "      <td>0</td>\n",
       "      <td>0.0</td>\n",
       "    </tr>\n",
       "    <tr>\n",
       "      <th>35991711</th>\n",
       "      <td>NaN</td>\n",
       "      <td>14</td>\n",
       "      <td>2</td>\n",
       "      <td>1573717019000</td>\n",
       "      <td>0</td>\n",
       "      <td>0</td>\n",
       "      <td>0</td>\n",
       "      <td>0</td>\n",
       "      <td>0</td>\n",
       "      <td>0</td>\n",
       "      <td>...</td>\n",
       "      <td>0.0</td>\n",
       "      <td>KCHCMCNCGCMCMCICPC</td>\n",
       "      <td>21.507805</td>\n",
       "      <td>31.0</td>\n",
       "      <td>20.0</td>\n",
       "      <td>8.0</td>\n",
       "      <td>0</td>\n",
       "      <td>0</td>\n",
       "      <td>0</td>\n",
       "      <td>0.0</td>\n",
       "    </tr>\n",
       "  </tbody>\n",
       "</table>\n",
       "<p>5 rows × 21 columns</p>\n",
       "</div>"
      ],
      "text/plain": [
       "         detailMlogInfoList  dt  impressPosition    impressTime  isClick  \\\n",
       "26701599                NaN   3               83  1572749130000        0   \n",
       "34678112                NaN  15               66  1573753453000        0   \n",
       "50827629                NaN  16               93  1573900033000        0   \n",
       "53295167                NaN  19               28  1574142817000        0   \n",
       "35991711                NaN  14                2  1573717019000        0   \n",
       "\n",
       "          isComment  isIntoPersonalHomepage  isShare  isViewComment  isLike  \\\n",
       "26701599          0                       0        0              0       0   \n",
       "34678112          0                       0        0              0       0   \n",
       "50827629          0                       0        0              0       0   \n",
       "53295167          0                       0        0              0       0   \n",
       "35991711          0                       0        0              0       0   \n",
       "\n",
       "          ... mlogViewTime                userId        age  \\\n",
       "26701599  ...          0.0  PCHCICJCMCICHCKCLCMC  23.000000   \n",
       "34678112  ...          0.0    NCGCGCPCMCLCNCICKC  18.000000   \n",
       "50827629  ...          0.0    NCJCHCPCOCHCKCOCKC  21.507805   \n",
       "53295167  ...          0.0  PCNCGCJCKCPCGCHCMCIC  21.507805   \n",
       "35991711  ...          0.0    KCHCMCNCGCMCMCICPC  21.507805   \n",
       "\n",
       "          registeredMonthCnt  followCnt  level  gender_female  gender_male  \\\n",
       "26701599                 3.0        5.0    5.0              0            1   \n",
       "34678112                36.0        7.0    8.0              1            0   \n",
       "50827629                35.0       15.0    8.0              0            0   \n",
       "53295167                21.0        5.0    5.0              0            0   \n",
       "35991711                31.0       20.0    8.0              0            0   \n",
       "\n",
       "          gender_unknown  extra_view_time  \n",
       "26701599               0              0.0  \n",
       "34678112               0              0.0  \n",
       "50827629               0              0.0  \n",
       "53295167               0              0.0  \n",
       "35991711               0              0.0  \n",
       "\n",
       "[5 rows x 21 columns]"
      ]
     },
     "execution_count": 235,
     "metadata": {},
     "output_type": "execute_result"
    }
   ],
   "source": [
    "df_impression.head()"
   ]
  },
  {
   "cell_type": "markdown",
   "metadata": {},
   "source": [
    "# Define and calculate the features"
   ]
  },
  {
   "cell_type": "code",
   "execution_count": 236,
   "metadata": {},
   "outputs": [
    {
     "name": "stdout",
     "output_type": "stream",
     "text": [
      "100,200,300,400,500,600,700,800,900,1000,1100,1200,1300,1400,1500,1600,1700,1800,1900,2000,2100,2200,2300,2400,2500,2600,2700,2800,2900,3000,3100,3200,3300,3400,3500,3600,3700,3800,3900,4000,4100,4200,4300,4400,4500,4600,4700,4800,4900,5000,5100,5200,5300,5400,5500,5600,5700,5800,5900,6000,6100,6200,6300,6400,6500,6600,6700,6800,6900,7000,7100,7200,7300,7400,7500,7600,7700,7800,7900,8000,8100,8200,8300,8400,8500,8600,8700,8800,8900,9000,9100,9200,9300,9400,9500,9600,9700,9800,9900,10000,10100,10200,10300,10400,10500,10600,10700,10800,10900,11000,11100,11200,11300,11400,11500,11600,11700,11800,11900,12000,12100,12200,12300,12400,12500,12600,12700,12800,12900,13000,13100,13200,13300,13400,13500,13600,"
     ]
    }
   ],
   "source": [
    "# Caculate the probability of previous actions\n",
    "Avg_Cli = []\n",
    "Avg_Com = []\n",
    "Avg_IPH = []\n",
    "Avg_S = []\n",
    "Avg_VC = []\n",
    "Avg_L = []\n",
    "Avg_View_Time = []\n",
    "Avg_Extra_View_Time = []\n",
    "\n",
    "Age = []\n",
    "G_female = []\n",
    "G_male  = []\n",
    "G_U = []\n",
    "Level = []\n",
    "followCnt = []\n",
    "R_Month = []\n",
    "p = 0\n",
    "\n",
    "for i in df_user_name_arr:\n",
    "    # Fetch all records of a specific users\n",
    "    df_i = df_impression.loc[df_impression['userId'] == i]\n",
    "    # Cut them in half, generate features from the first half and target from the second half.\n",
    "    df_i_first_half = df_i[:int(len(df_i)/2)]\n",
    "    df_i_second_half = df_i[int(len(df_i)/2):]\n",
    "    \n",
    "    # First half for features\n",
    "    df_ii = df_i_first_half.describe().loc['mean']\n",
    "    Avg_Com.append(df_ii['isComment'])\n",
    "    Avg_IPH.append(df_ii['isIntoPersonalHomepage'])\n",
    "    Avg_S.append(df_ii['isShare'])\n",
    "    Avg_VC.append(df_ii['isViewComment'])\n",
    "    Avg_L.append(df_ii['isLike'])\n",
    "    Avg_View_Time.append(df_ii['mlogViewTime'])\n",
    "    Avg_Extra_View_Time.append(df_ii['extra_view_time'])\n",
    "    \n",
    "    # Second half for target\n",
    "    df_iii = df_i_second_half.describe().loc['mean']\n",
    "    Avg_Cli.append(df_iii['isClick'])\n",
    "\n",
    "    # Append the demographics data\n",
    "    Age.append(df_ii['age'])\n",
    "    G_female.append(df_ii['gender_female'])\n",
    "    G_male.append(df_ii['gender_male'])\n",
    "    G_U.append(df_ii['gender_unknown'])\n",
    "    Level.append(df_ii['level'])\n",
    "    followCnt.append(df_ii['followCnt'])\n",
    "    R_Month.append(df_ii['registeredMonthCnt'])\n",
    "\n",
    "    #tracking the progress of processing\n",
    "    p += 1\n",
    "    if p%100 == 0:\n",
    "        print(p,end=',')\n"
   ]
  },
  {
   "cell_type": "code",
   "execution_count": 269,
   "metadata": {},
   "outputs": [
    {
     "data": {
      "text/html": [
       "<div>\n",
       "<style scoped>\n",
       "    .dataframe tbody tr th:only-of-type {\n",
       "        vertical-align: middle;\n",
       "    }\n",
       "\n",
       "    .dataframe tbody tr th {\n",
       "        vertical-align: top;\n",
       "    }\n",
       "\n",
       "    .dataframe thead th {\n",
       "        text-align: right;\n",
       "    }\n",
       "</style>\n",
       "<table border=\"1\" class=\"dataframe\">\n",
       "  <thead>\n",
       "    <tr style=\"text-align: right;\">\n",
       "      <th></th>\n",
       "      <th>Avg_Cli</th>\n",
       "      <th>Avg_IPH</th>\n",
       "      <th>Avg_Com</th>\n",
       "      <th>Avg_S</th>\n",
       "      <th>Avg_VC</th>\n",
       "      <th>Avg_L</th>\n",
       "      <th>Avg_View_Time</th>\n",
       "      <th>Avg_Extra_View_Time</th>\n",
       "      <th>Age</th>\n",
       "      <th>G_female</th>\n",
       "      <th>G_male</th>\n",
       "      <th>G_U</th>\n",
       "      <th>Level</th>\n",
       "      <th>followCnt</th>\n",
       "      <th>R_Month</th>\n",
       "    </tr>\n",
       "  </thead>\n",
       "  <tbody>\n",
       "    <tr>\n",
       "      <th>count</th>\n",
       "      <td>13623.000000</td>\n",
       "      <td>13623.000000</td>\n",
       "      <td>13623.000000</td>\n",
       "      <td>13623.000000</td>\n",
       "      <td>13623.000000</td>\n",
       "      <td>13623.000000</td>\n",
       "      <td>13623.000000</td>\n",
       "      <td>13623.000000</td>\n",
       "      <td>13623.000000</td>\n",
       "      <td>13623.000000</td>\n",
       "      <td>13623.000000</td>\n",
       "      <td>13623.000000</td>\n",
       "      <td>13623.000000</td>\n",
       "      <td>13623.000000</td>\n",
       "      <td>13623.000000</td>\n",
       "    </tr>\n",
       "    <tr>\n",
       "      <th>mean</th>\n",
       "      <td>0.070860</td>\n",
       "      <td>0.000794</td>\n",
       "      <td>0.000134</td>\n",
       "      <td>0.000347</td>\n",
       "      <td>0.012263</td>\n",
       "      <td>0.003470</td>\n",
       "      <td>1.797376</td>\n",
       "      <td>4.067268</td>\n",
       "      <td>20.938678</td>\n",
       "      <td>0.255597</td>\n",
       "      <td>0.322396</td>\n",
       "      <td>0.011818</td>\n",
       "      <td>6.661088</td>\n",
       "      <td>31.926668</td>\n",
       "      <td>25.861998</td>\n",
       "    </tr>\n",
       "    <tr>\n",
       "      <th>std</th>\n",
       "      <td>0.137557</td>\n",
       "      <td>0.015689</td>\n",
       "      <td>0.006713</td>\n",
       "      <td>0.010288</td>\n",
       "      <td>0.063653</td>\n",
       "      <td>0.033692</td>\n",
       "      <td>7.953473</td>\n",
       "      <td>36.033196</td>\n",
       "      <td>2.822461</td>\n",
       "      <td>0.436212</td>\n",
       "      <td>0.467411</td>\n",
       "      <td>0.108071</td>\n",
       "      <td>1.674124</td>\n",
       "      <td>72.354003</td>\n",
       "      <td>14.798442</td>\n",
       "    </tr>\n",
       "    <tr>\n",
       "      <th>min</th>\n",
       "      <td>0.000000</td>\n",
       "      <td>0.000000</td>\n",
       "      <td>0.000000</td>\n",
       "      <td>0.000000</td>\n",
       "      <td>0.000000</td>\n",
       "      <td>0.000000</td>\n",
       "      <td>0.000000</td>\n",
       "      <td>0.000000</td>\n",
       "      <td>12.000000</td>\n",
       "      <td>0.000000</td>\n",
       "      <td>0.000000</td>\n",
       "      <td>0.000000</td>\n",
       "      <td>0.000000</td>\n",
       "      <td>0.000000</td>\n",
       "      <td>0.000000</td>\n",
       "    </tr>\n",
       "    <tr>\n",
       "      <th>25%</th>\n",
       "      <td>0.000000</td>\n",
       "      <td>0.000000</td>\n",
       "      <td>0.000000</td>\n",
       "      <td>0.000000</td>\n",
       "      <td>0.000000</td>\n",
       "      <td>0.000000</td>\n",
       "      <td>0.000000</td>\n",
       "      <td>0.000000</td>\n",
       "      <td>20.000000</td>\n",
       "      <td>0.000000</td>\n",
       "      <td>0.000000</td>\n",
       "      <td>0.000000</td>\n",
       "      <td>6.000000</td>\n",
       "      <td>5.000000</td>\n",
       "      <td>14.000000</td>\n",
       "    </tr>\n",
       "    <tr>\n",
       "      <th>50%</th>\n",
       "      <td>0.000000</td>\n",
       "      <td>0.000000</td>\n",
       "      <td>0.000000</td>\n",
       "      <td>0.000000</td>\n",
       "      <td>0.000000</td>\n",
       "      <td>0.000000</td>\n",
       "      <td>0.000000</td>\n",
       "      <td>0.000000</td>\n",
       "      <td>21.507805</td>\n",
       "      <td>0.000000</td>\n",
       "      <td>0.000000</td>\n",
       "      <td>0.000000</td>\n",
       "      <td>7.000000</td>\n",
       "      <td>13.000000</td>\n",
       "      <td>27.000000</td>\n",
       "    </tr>\n",
       "    <tr>\n",
       "      <th>75%</th>\n",
       "      <td>0.083333</td>\n",
       "      <td>0.000000</td>\n",
       "      <td>0.000000</td>\n",
       "      <td>0.000000</td>\n",
       "      <td>0.000000</td>\n",
       "      <td>0.000000</td>\n",
       "      <td>0.000000</td>\n",
       "      <td>0.000000</td>\n",
       "      <td>21.507805</td>\n",
       "      <td>1.000000</td>\n",
       "      <td>1.000000</td>\n",
       "      <td>0.000000</td>\n",
       "      <td>8.000000</td>\n",
       "      <td>33.000000</td>\n",
       "      <td>36.000000</td>\n",
       "    </tr>\n",
       "    <tr>\n",
       "      <th>max</th>\n",
       "      <td>1.000000</td>\n",
       "      <td>0.500000</td>\n",
       "      <td>0.500000</td>\n",
       "      <td>0.666667</td>\n",
       "      <td>1.000000</td>\n",
       "      <td>0.750000</td>\n",
       "      <td>519.400000</td>\n",
       "      <td>1130.705000</td>\n",
       "      <td>36.000000</td>\n",
       "      <td>1.000000</td>\n",
       "      <td>1.000000</td>\n",
       "      <td>1.000000</td>\n",
       "      <td>10.000000</td>\n",
       "      <td>2000.000000</td>\n",
       "      <td>80.000000</td>\n",
       "    </tr>\n",
       "  </tbody>\n",
       "</table>\n",
       "</div>"
      ],
      "text/plain": [
       "            Avg_Cli       Avg_IPH       Avg_Com         Avg_S        Avg_VC  \\\n",
       "count  13623.000000  13623.000000  13623.000000  13623.000000  13623.000000   \n",
       "mean       0.070860      0.000794      0.000134      0.000347      0.012263   \n",
       "std        0.137557      0.015689      0.006713      0.010288      0.063653   \n",
       "min        0.000000      0.000000      0.000000      0.000000      0.000000   \n",
       "25%        0.000000      0.000000      0.000000      0.000000      0.000000   \n",
       "50%        0.000000      0.000000      0.000000      0.000000      0.000000   \n",
       "75%        0.083333      0.000000      0.000000      0.000000      0.000000   \n",
       "max        1.000000      0.500000      0.500000      0.666667      1.000000   \n",
       "\n",
       "              Avg_L  Avg_View_Time  Avg_Extra_View_Time           Age  \\\n",
       "count  13623.000000   13623.000000         13623.000000  13623.000000   \n",
       "mean       0.003470       1.797376             4.067268     20.938678   \n",
       "std        0.033692       7.953473            36.033196      2.822461   \n",
       "min        0.000000       0.000000             0.000000     12.000000   \n",
       "25%        0.000000       0.000000             0.000000     20.000000   \n",
       "50%        0.000000       0.000000             0.000000     21.507805   \n",
       "75%        0.000000       0.000000             0.000000     21.507805   \n",
       "max        0.750000     519.400000          1130.705000     36.000000   \n",
       "\n",
       "           G_female        G_male           G_U         Level     followCnt  \\\n",
       "count  13623.000000  13623.000000  13623.000000  13623.000000  13623.000000   \n",
       "mean       0.255597      0.322396      0.011818      6.661088     31.926668   \n",
       "std        0.436212      0.467411      0.108071      1.674124     72.354003   \n",
       "min        0.000000      0.000000      0.000000      0.000000      0.000000   \n",
       "25%        0.000000      0.000000      0.000000      6.000000      5.000000   \n",
       "50%        0.000000      0.000000      0.000000      7.000000     13.000000   \n",
       "75%        1.000000      1.000000      0.000000      8.000000     33.000000   \n",
       "max        1.000000      1.000000      1.000000     10.000000   2000.000000   \n",
       "\n",
       "            R_Month  \n",
       "count  13623.000000  \n",
       "mean      25.861998  \n",
       "std       14.798442  \n",
       "min        0.000000  \n",
       "25%       14.000000  \n",
       "50%       27.000000  \n",
       "75%       36.000000  \n",
       "max       80.000000  "
      ]
     },
     "execution_count": 269,
     "metadata": {},
     "output_type": "execute_result"
    }
   ],
   "source": [
    "# Produce the dataframe that will be used for classfication tasks\n",
    "df_user = pd.DataFrame(df_user_name_arr,columns=['userId'])\n",
    "df_user['Avg_Cli'] = Avg_Cli\n",
    "df_user['Avg_IPH'] = Avg_IPH\n",
    "df_user['Avg_Com'] = Avg_Com\n",
    "df_user['Avg_S'] = Avg_S\n",
    "df_user['Avg_VC'] = Avg_VC\n",
    "df_user['Avg_L'] = Avg_L\n",
    "df_user['Avg_View_Time'] = Avg_View_Time\n",
    "df_user['Avg_Extra_View_Time'] = Avg_Extra_View_Time\n",
    "df_user['Age'] = Age\n",
    "df_user['G_female'] = G_female\n",
    "df_user['G_male'] = G_male\n",
    "df_user['G_U'] = G_U\n",
    "df_user['Level'] = Level\n",
    "df_user['followCnt'] =followCnt\n",
    "df_user['R_Month'] =R_Month\n",
    "\n",
    "df_user.describe()"
   ]
  },
  {
   "cell_type": "code",
   "execution_count": 270,
   "metadata": {},
   "outputs": [
    {
     "data": {
      "text/html": [
       "<div>\n",
       "<style scoped>\n",
       "    .dataframe tbody tr th:only-of-type {\n",
       "        vertical-align: middle;\n",
       "    }\n",
       "\n",
       "    .dataframe tbody tr th {\n",
       "        vertical-align: top;\n",
       "    }\n",
       "\n",
       "    .dataframe thead th {\n",
       "        text-align: right;\n",
       "    }\n",
       "</style>\n",
       "<table border=\"1\" class=\"dataframe\">\n",
       "  <thead>\n",
       "    <tr style=\"text-align: right;\">\n",
       "      <th></th>\n",
       "      <th>Avg_Cli</th>\n",
       "      <th>Avg_IPH</th>\n",
       "      <th>Avg_Com</th>\n",
       "      <th>Avg_S</th>\n",
       "      <th>Avg_VC</th>\n",
       "      <th>Avg_L</th>\n",
       "      <th>Avg_View_Time</th>\n",
       "      <th>Age</th>\n",
       "      <th>G_female</th>\n",
       "      <th>G_male</th>\n",
       "      <th>G_U</th>\n",
       "      <th>Level</th>\n",
       "      <th>followCnt</th>\n",
       "      <th>R_Month</th>\n",
       "    </tr>\n",
       "  </thead>\n",
       "  <tbody>\n",
       "    <tr>\n",
       "      <th>count</th>\n",
       "      <td>13623.000000</td>\n",
       "      <td>13623.000000</td>\n",
       "      <td>13623.000000</td>\n",
       "      <td>13623.000000</td>\n",
       "      <td>13623.000000</td>\n",
       "      <td>13623.000000</td>\n",
       "      <td>13623.000000</td>\n",
       "      <td>13623.000000</td>\n",
       "      <td>13623.000000</td>\n",
       "      <td>13623.000000</td>\n",
       "      <td>13623.000000</td>\n",
       "      <td>13623.000000</td>\n",
       "      <td>13623.000000</td>\n",
       "      <td>13623.000000</td>\n",
       "    </tr>\n",
       "    <tr>\n",
       "      <th>mean</th>\n",
       "      <td>0.070860</td>\n",
       "      <td>0.000794</td>\n",
       "      <td>0.000134</td>\n",
       "      <td>0.000347</td>\n",
       "      <td>0.012263</td>\n",
       "      <td>0.003470</td>\n",
       "      <td>5.864644</td>\n",
       "      <td>20.938678</td>\n",
       "      <td>0.255597</td>\n",
       "      <td>0.322396</td>\n",
       "      <td>0.011818</td>\n",
       "      <td>6.661088</td>\n",
       "      <td>31.926668</td>\n",
       "      <td>25.861998</td>\n",
       "    </tr>\n",
       "    <tr>\n",
       "      <th>std</th>\n",
       "      <td>0.137557</td>\n",
       "      <td>0.015689</td>\n",
       "      <td>0.006713</td>\n",
       "      <td>0.010288</td>\n",
       "      <td>0.063653</td>\n",
       "      <td>0.033692</td>\n",
       "      <td>38.186156</td>\n",
       "      <td>2.822461</td>\n",
       "      <td>0.436212</td>\n",
       "      <td>0.467411</td>\n",
       "      <td>0.108071</td>\n",
       "      <td>1.674124</td>\n",
       "      <td>72.354003</td>\n",
       "      <td>14.798442</td>\n",
       "    </tr>\n",
       "    <tr>\n",
       "      <th>min</th>\n",
       "      <td>0.000000</td>\n",
       "      <td>0.000000</td>\n",
       "      <td>0.000000</td>\n",
       "      <td>0.000000</td>\n",
       "      <td>0.000000</td>\n",
       "      <td>0.000000</td>\n",
       "      <td>0.000000</td>\n",
       "      <td>12.000000</td>\n",
       "      <td>0.000000</td>\n",
       "      <td>0.000000</td>\n",
       "      <td>0.000000</td>\n",
       "      <td>0.000000</td>\n",
       "      <td>0.000000</td>\n",
       "      <td>0.000000</td>\n",
       "    </tr>\n",
       "    <tr>\n",
       "      <th>25%</th>\n",
       "      <td>0.000000</td>\n",
       "      <td>0.000000</td>\n",
       "      <td>0.000000</td>\n",
       "      <td>0.000000</td>\n",
       "      <td>0.000000</td>\n",
       "      <td>0.000000</td>\n",
       "      <td>0.000000</td>\n",
       "      <td>20.000000</td>\n",
       "      <td>0.000000</td>\n",
       "      <td>0.000000</td>\n",
       "      <td>0.000000</td>\n",
       "      <td>6.000000</td>\n",
       "      <td>5.000000</td>\n",
       "      <td>14.000000</td>\n",
       "    </tr>\n",
       "    <tr>\n",
       "      <th>50%</th>\n",
       "      <td>0.000000</td>\n",
       "      <td>0.000000</td>\n",
       "      <td>0.000000</td>\n",
       "      <td>0.000000</td>\n",
       "      <td>0.000000</td>\n",
       "      <td>0.000000</td>\n",
       "      <td>0.000000</td>\n",
       "      <td>21.507805</td>\n",
       "      <td>0.000000</td>\n",
       "      <td>0.000000</td>\n",
       "      <td>0.000000</td>\n",
       "      <td>7.000000</td>\n",
       "      <td>13.000000</td>\n",
       "      <td>27.000000</td>\n",
       "    </tr>\n",
       "    <tr>\n",
       "      <th>75%</th>\n",
       "      <td>0.083333</td>\n",
       "      <td>0.000000</td>\n",
       "      <td>0.000000</td>\n",
       "      <td>0.000000</td>\n",
       "      <td>0.000000</td>\n",
       "      <td>0.000000</td>\n",
       "      <td>0.000000</td>\n",
       "      <td>21.507805</td>\n",
       "      <td>1.000000</td>\n",
       "      <td>1.000000</td>\n",
       "      <td>0.000000</td>\n",
       "      <td>8.000000</td>\n",
       "      <td>33.000000</td>\n",
       "      <td>36.000000</td>\n",
       "    </tr>\n",
       "    <tr>\n",
       "      <th>max</th>\n",
       "      <td>1.000000</td>\n",
       "      <td>0.500000</td>\n",
       "      <td>0.500000</td>\n",
       "      <td>0.666667</td>\n",
       "      <td>1.000000</td>\n",
       "      <td>0.750000</td>\n",
       "      <td>1158.945000</td>\n",
       "      <td>36.000000</td>\n",
       "      <td>1.000000</td>\n",
       "      <td>1.000000</td>\n",
       "      <td>1.000000</td>\n",
       "      <td>10.000000</td>\n",
       "      <td>2000.000000</td>\n",
       "      <td>80.000000</td>\n",
       "    </tr>\n",
       "  </tbody>\n",
       "</table>\n",
       "</div>"
      ],
      "text/plain": [
       "            Avg_Cli       Avg_IPH       Avg_Com         Avg_S        Avg_VC  \\\n",
       "count  13623.000000  13623.000000  13623.000000  13623.000000  13623.000000   \n",
       "mean       0.070860      0.000794      0.000134      0.000347      0.012263   \n",
       "std        0.137557      0.015689      0.006713      0.010288      0.063653   \n",
       "min        0.000000      0.000000      0.000000      0.000000      0.000000   \n",
       "25%        0.000000      0.000000      0.000000      0.000000      0.000000   \n",
       "50%        0.000000      0.000000      0.000000      0.000000      0.000000   \n",
       "75%        0.083333      0.000000      0.000000      0.000000      0.000000   \n",
       "max        1.000000      0.500000      0.500000      0.666667      1.000000   \n",
       "\n",
       "              Avg_L  Avg_View_Time           Age      G_female        G_male  \\\n",
       "count  13623.000000   13623.000000  13623.000000  13623.000000  13623.000000   \n",
       "mean       0.003470       5.864644     20.938678      0.255597      0.322396   \n",
       "std        0.033692      38.186156      2.822461      0.436212      0.467411   \n",
       "min        0.000000       0.000000     12.000000      0.000000      0.000000   \n",
       "25%        0.000000       0.000000     20.000000      0.000000      0.000000   \n",
       "50%        0.000000       0.000000     21.507805      0.000000      0.000000   \n",
       "75%        0.000000       0.000000     21.507805      1.000000      1.000000   \n",
       "max        0.750000    1158.945000     36.000000      1.000000      1.000000   \n",
       "\n",
       "                G_U         Level     followCnt       R_Month  \n",
       "count  13623.000000  13623.000000  13623.000000  13623.000000  \n",
       "mean       0.011818      6.661088     31.926668     25.861998  \n",
       "std        0.108071      1.674124     72.354003     14.798442  \n",
       "min        0.000000      0.000000      0.000000      0.000000  \n",
       "25%        0.000000      6.000000      5.000000     14.000000  \n",
       "50%        0.000000      7.000000     13.000000     27.000000  \n",
       "75%        0.000000      8.000000     33.000000     36.000000  \n",
       "max        1.000000     10.000000   2000.000000     80.000000  "
      ]
     },
     "execution_count": 270,
     "metadata": {},
     "output_type": "execute_result"
    }
   ],
   "source": [
    "df_user['Avg_View_Time'] = df_user['Avg_View_Time'] + df_user ['Avg_Extra_View_Time']\n",
    "df_user = df_user.drop(columns=['Avg_Extra_View_Time'])\n",
    "df_user.describe()"
   ]
  },
  {
   "cell_type": "markdown",
   "metadata": {},
   "source": [
    "# Redefine Classification Target to 0/1"
   ]
  },
  {
   "cell_type": "code",
   "execution_count": 271,
   "metadata": {},
   "outputs": [
    {
     "data": {
      "text/html": [
       "<div>\n",
       "<style scoped>\n",
       "    .dataframe tbody tr th:only-of-type {\n",
       "        vertical-align: middle;\n",
       "    }\n",
       "\n",
       "    .dataframe tbody tr th {\n",
       "        vertical-align: top;\n",
       "    }\n",
       "\n",
       "    .dataframe thead th {\n",
       "        text-align: right;\n",
       "    }\n",
       "</style>\n",
       "<table border=\"1\" class=\"dataframe\">\n",
       "  <thead>\n",
       "    <tr style=\"text-align: right;\">\n",
       "      <th></th>\n",
       "      <th>Avg_Cli</th>\n",
       "      <th>Avg_IPH</th>\n",
       "      <th>Avg_Com</th>\n",
       "      <th>Avg_S</th>\n",
       "      <th>Avg_VC</th>\n",
       "      <th>Avg_L</th>\n",
       "      <th>Avg_View_Time</th>\n",
       "      <th>Age</th>\n",
       "      <th>G_female</th>\n",
       "      <th>G_male</th>\n",
       "      <th>G_U</th>\n",
       "      <th>Level</th>\n",
       "      <th>followCnt</th>\n",
       "      <th>R_Month</th>\n",
       "      <th>Active</th>\n",
       "    </tr>\n",
       "  </thead>\n",
       "  <tbody>\n",
       "    <tr>\n",
       "      <th>count</th>\n",
       "      <td>13623.000000</td>\n",
       "      <td>13623.000000</td>\n",
       "      <td>13623.000000</td>\n",
       "      <td>13623.000000</td>\n",
       "      <td>13623.000000</td>\n",
       "      <td>13623.000000</td>\n",
       "      <td>13623.000000</td>\n",
       "      <td>13623.000000</td>\n",
       "      <td>13623.000000</td>\n",
       "      <td>13623.000000</td>\n",
       "      <td>13623.000000</td>\n",
       "      <td>13623.000000</td>\n",
       "      <td>13623.000000</td>\n",
       "      <td>13623.000000</td>\n",
       "      <td>13623.000000</td>\n",
       "    </tr>\n",
       "    <tr>\n",
       "      <th>mean</th>\n",
       "      <td>0.070860</td>\n",
       "      <td>0.000794</td>\n",
       "      <td>0.000134</td>\n",
       "      <td>0.000347</td>\n",
       "      <td>0.012263</td>\n",
       "      <td>0.003470</td>\n",
       "      <td>5.864644</td>\n",
       "      <td>20.938678</td>\n",
       "      <td>0.255597</td>\n",
       "      <td>0.322396</td>\n",
       "      <td>0.011818</td>\n",
       "      <td>6.661088</td>\n",
       "      <td>31.926668</td>\n",
       "      <td>25.861998</td>\n",
       "      <td>0.262424</td>\n",
       "    </tr>\n",
       "    <tr>\n",
       "      <th>std</th>\n",
       "      <td>0.137557</td>\n",
       "      <td>0.015689</td>\n",
       "      <td>0.006713</td>\n",
       "      <td>0.010288</td>\n",
       "      <td>0.063653</td>\n",
       "      <td>0.033692</td>\n",
       "      <td>38.186156</td>\n",
       "      <td>2.822461</td>\n",
       "      <td>0.436212</td>\n",
       "      <td>0.467411</td>\n",
       "      <td>0.108071</td>\n",
       "      <td>1.674124</td>\n",
       "      <td>72.354003</td>\n",
       "      <td>14.798442</td>\n",
       "      <td>0.439968</td>\n",
       "    </tr>\n",
       "    <tr>\n",
       "      <th>min</th>\n",
       "      <td>0.000000</td>\n",
       "      <td>0.000000</td>\n",
       "      <td>0.000000</td>\n",
       "      <td>0.000000</td>\n",
       "      <td>0.000000</td>\n",
       "      <td>0.000000</td>\n",
       "      <td>0.000000</td>\n",
       "      <td>12.000000</td>\n",
       "      <td>0.000000</td>\n",
       "      <td>0.000000</td>\n",
       "      <td>0.000000</td>\n",
       "      <td>0.000000</td>\n",
       "      <td>0.000000</td>\n",
       "      <td>0.000000</td>\n",
       "      <td>0.000000</td>\n",
       "    </tr>\n",
       "    <tr>\n",
       "      <th>25%</th>\n",
       "      <td>0.000000</td>\n",
       "      <td>0.000000</td>\n",
       "      <td>0.000000</td>\n",
       "      <td>0.000000</td>\n",
       "      <td>0.000000</td>\n",
       "      <td>0.000000</td>\n",
       "      <td>0.000000</td>\n",
       "      <td>20.000000</td>\n",
       "      <td>0.000000</td>\n",
       "      <td>0.000000</td>\n",
       "      <td>0.000000</td>\n",
       "      <td>6.000000</td>\n",
       "      <td>5.000000</td>\n",
       "      <td>14.000000</td>\n",
       "      <td>0.000000</td>\n",
       "    </tr>\n",
       "    <tr>\n",
       "      <th>50%</th>\n",
       "      <td>0.000000</td>\n",
       "      <td>0.000000</td>\n",
       "      <td>0.000000</td>\n",
       "      <td>0.000000</td>\n",
       "      <td>0.000000</td>\n",
       "      <td>0.000000</td>\n",
       "      <td>0.000000</td>\n",
       "      <td>21.507805</td>\n",
       "      <td>0.000000</td>\n",
       "      <td>0.000000</td>\n",
       "      <td>0.000000</td>\n",
       "      <td>7.000000</td>\n",
       "      <td>13.000000</td>\n",
       "      <td>27.000000</td>\n",
       "      <td>0.000000</td>\n",
       "    </tr>\n",
       "    <tr>\n",
       "      <th>75%</th>\n",
       "      <td>0.083333</td>\n",
       "      <td>0.000000</td>\n",
       "      <td>0.000000</td>\n",
       "      <td>0.000000</td>\n",
       "      <td>0.000000</td>\n",
       "      <td>0.000000</td>\n",
       "      <td>0.000000</td>\n",
       "      <td>21.507805</td>\n",
       "      <td>1.000000</td>\n",
       "      <td>1.000000</td>\n",
       "      <td>0.000000</td>\n",
       "      <td>8.000000</td>\n",
       "      <td>33.000000</td>\n",
       "      <td>36.000000</td>\n",
       "      <td>1.000000</td>\n",
       "    </tr>\n",
       "    <tr>\n",
       "      <th>max</th>\n",
       "      <td>1.000000</td>\n",
       "      <td>0.500000</td>\n",
       "      <td>0.500000</td>\n",
       "      <td>0.666667</td>\n",
       "      <td>1.000000</td>\n",
       "      <td>0.750000</td>\n",
       "      <td>1158.945000</td>\n",
       "      <td>36.000000</td>\n",
       "      <td>1.000000</td>\n",
       "      <td>1.000000</td>\n",
       "      <td>1.000000</td>\n",
       "      <td>10.000000</td>\n",
       "      <td>2000.000000</td>\n",
       "      <td>80.000000</td>\n",
       "      <td>1.000000</td>\n",
       "    </tr>\n",
       "  </tbody>\n",
       "</table>\n",
       "</div>"
      ],
      "text/plain": [
       "            Avg_Cli       Avg_IPH       Avg_Com         Avg_S        Avg_VC  \\\n",
       "count  13623.000000  13623.000000  13623.000000  13623.000000  13623.000000   \n",
       "mean       0.070860      0.000794      0.000134      0.000347      0.012263   \n",
       "std        0.137557      0.015689      0.006713      0.010288      0.063653   \n",
       "min        0.000000      0.000000      0.000000      0.000000      0.000000   \n",
       "25%        0.000000      0.000000      0.000000      0.000000      0.000000   \n",
       "50%        0.000000      0.000000      0.000000      0.000000      0.000000   \n",
       "75%        0.083333      0.000000      0.000000      0.000000      0.000000   \n",
       "max        1.000000      0.500000      0.500000      0.666667      1.000000   \n",
       "\n",
       "              Avg_L  Avg_View_Time           Age      G_female        G_male  \\\n",
       "count  13623.000000   13623.000000  13623.000000  13623.000000  13623.000000   \n",
       "mean       0.003470       5.864644     20.938678      0.255597      0.322396   \n",
       "std        0.033692      38.186156      2.822461      0.436212      0.467411   \n",
       "min        0.000000       0.000000     12.000000      0.000000      0.000000   \n",
       "25%        0.000000       0.000000     20.000000      0.000000      0.000000   \n",
       "50%        0.000000       0.000000     21.507805      0.000000      0.000000   \n",
       "75%        0.000000       0.000000     21.507805      1.000000      1.000000   \n",
       "max        0.750000    1158.945000     36.000000      1.000000      1.000000   \n",
       "\n",
       "                G_U         Level     followCnt       R_Month        Active  \n",
       "count  13623.000000  13623.000000  13623.000000  13623.000000  13623.000000  \n",
       "mean       0.011818      6.661088     31.926668     25.861998      0.262424  \n",
       "std        0.108071      1.674124     72.354003     14.798442      0.439968  \n",
       "min        0.000000      0.000000      0.000000      0.000000      0.000000  \n",
       "25%        0.000000      6.000000      5.000000     14.000000      0.000000  \n",
       "50%        0.000000      7.000000     13.000000     27.000000      0.000000  \n",
       "75%        0.000000      8.000000     33.000000     36.000000      1.000000  \n",
       "max        1.000000     10.000000   2000.000000     80.000000      1.000000  "
      ]
     },
     "execution_count": 271,
     "metadata": {},
     "output_type": "execute_result"
    }
   ],
   "source": [
    "df_user['Active'] = np.where(df_user['Avg_Cli'] > 0, 1, 0)\n",
    "df_user.head()\n",
    "\n",
    "df_user.describe()\n"
   ]
  },
  {
   "cell_type": "code",
   "execution_count": 272,
   "metadata": {},
   "outputs": [
    {
     "data": {
      "text/plain": [
       "array([[<AxesSubplot:title={'center':'Active'}>]], dtype=object)"
      ]
     },
     "execution_count": 272,
     "metadata": {},
     "output_type": "execute_result"
    },
    {
     "data": {
      "image/png": "[encoded data removed]",
      "text/plain": [
       "<Figure size 432x288 with 1 Axes>"
      ]
     },
     "metadata": {},
     "output_type": "display_data"
    }
   ],
   "source": [
    "df_user['Active'].to_frame().hist(bins = 5)"
   ]
  },
  {
   "cell_type": "code",
   "execution_count": 273,
   "metadata": {},
   "outputs": [
    {
     "data": {
      "text/plain": [
       "array([[<AxesSubplot:title={'center':'Active'}>]], dtype=object)"
      ]
     },
     "execution_count": 273,
     "metadata": {},
     "output_type": "execute_result"
    },
    {
     "data": {
      "image/png": "[encoded data removed]",
      "text/plain": [
       "<Figure size 432x288 with 1 Axes>"
      ]
     },
     "metadata": {},
     "output_type": "display_data"
    }
   ],
   "source": [
    "# Manually make the dataset balance by resampling\n",
    "df_user = df_user.groupby(\"Active\").sample(n=4000, random_state=42,replace=True)\n",
    "df_user['Active'].to_frame().hist(bins = 5)"
   ]
  },
  {
   "cell_type": "markdown",
   "metadata": {},
   "source": [
    "# Classification Task\n",
    "    Step 1: Split the data\n",
    "    Step 2: Train models\n",
    "    Step 3: Evaluate Models"
   ]
  },
  {
   "cell_type": "code",
   "execution_count": 328,
   "metadata": {},
   "outputs": [],
   "source": [
    "from sklearn.metrics import fbeta_score\n",
    "from sklearn.metrics import mean_squared_error\n",
    "from sklearn.preprocessing import StandardScaler\n",
    "X = df_user.drop(columns=['Avg_Cli','userId','Active'])\n",
    "y = df_user['Active']\n",
    "\n",
    "from sklearn.model_selection import train_test_split as tr_te_split\n",
    "X_train,X_test,y_train,y_test = tr_te_split(X,y,test_size=0.3)"
   ]
  },
  {
   "cell_type": "code",
   "execution_count": 329,
   "metadata": {},
   "outputs": [],
   "source": [
    "# Define learning curve to check for overfitting\n",
    "from sklearn.model_selection import learning_curve\n",
    "def plot_learning_curve(estimator,title,X,y,axes=None,ylim=None,cv=None,n_jobs=None,train_sizes=np.linspace(0.1, 1.0, 20),):\n",
    "    if axes is None:\n",
    "        _, axes = plt.subplots(1, 3, figsize=(20, 5))\n",
    "\n",
    "    axes.set_title(title)\n",
    "    if ylim is not None:\n",
    "        axes.set_ylim(*ylim)\n",
    "        axes.set_xlabel(\"Training examples\")\n",
    "        axes.set_ylabel(\"Score\")\n",
    "\n",
    "    train_sizes, train_scores, test_scores, fit_times, _ = learning_curve(estimator,X,y,cv=cv,n_jobs=n_jobs,train_sizes=train_sizes,return_times=True)\n",
    "    \n",
    "    train_scores_mean = np.mean(train_scores, axis=1)\n",
    "    train_scores_std = np.std(train_scores, axis=1)\n",
    "    test_scores_mean = np.mean(test_scores, axis=1)\n",
    "    test_scores_std = np.std(test_scores, axis=1)\n",
    "    fit_times_mean = np.mean(fit_times, axis=1)\n",
    "    fit_times_std = np.std(fit_times, axis=1)\n",
    "\n",
    "    # Plot learning curve\n",
    "    axes.grid()\n",
    "    axes.fill_between(\n",
    "        train_sizes,\n",
    "        train_scores_mean - train_scores_std,\n",
    "        train_scores_mean + train_scores_std,\n",
    "        alpha=0.1,\n",
    "        color=\"r\",\n",
    "    )\n",
    "    axes.fill_between(\n",
    "        train_sizes,\n",
    "        test_scores_mean - test_scores_std,\n",
    "        test_scores_mean + test_scores_std,\n",
    "        alpha=0.1,\n",
    "        color=\"g\",\n",
    "    )\n",
    "    axes.plot(\n",
    "        train_sizes, train_scores_mean, \"o-\", color=\"r\", label=\"Training score\"\n",
    "    )\n",
    "    axes.plot(\n",
    "        train_sizes, test_scores_mean, \"o-\", color=\"g\", label=\"Cross-validation score\"\n",
    "    )\n",
    "    axes.legend(loc=\"best\")\n",
    "\n",
    "\n",
    "    \n",
    "    return plt"
   ]
  },
  {
   "cell_type": "markdown",
   "metadata": {},
   "source": [
    "### Logistic Regression Model (Baseline Model)"
   ]
  },
  {
   "cell_type": "code",
   "execution_count": 330,
   "metadata": {},
   "outputs": [
    {
     "name": "stdout",
     "output_type": "stream",
     "text": [
      "AUC 0.5645833333333333\n"
     ]
    }
   ],
   "source": [
    "# Fit a Baseline Model with all features\n",
    "# Logistic Regression as Classification\n",
    "from sklearn.linear_model import LogisticRegression as LogitReg\n",
    "LR=LogitReg(max_iter=10000).fit(X_train,y_train)\n",
    "\n",
    "prob_pred=LR.predict_proba(X_test)\n",
    "y_pred=list(map(lambda x: int(x>=0.5),prob_pred[:,1]))\n",
    "accuracy_LR = LR.score(X_test,y_test)\n",
    "print(\"AUC\",accuracy_LR)"
   ]
  },
  {
   "cell_type": "code",
   "execution_count": 331,
   "metadata": {},
   "outputs": [
    {
     "data": {
      "text/plain": [
       "<matplotlib.legend.Legend at 0x7fa78a8f1490>"
      ]
     },
     "execution_count": 331,
     "metadata": {},
     "output_type": "execute_result"
    },
    {
     "data": {
      "image/png": "[encoded data removed]",
      "text/plain": [
       "<Figure size 720x720 with 1 Axes>"
      ]
     },
     "metadata": {},
     "output_type": "display_data"
    }
   ],
   "source": [
    "from sklearn.metrics import roc_curve, auc, plot_roc_curve\n",
    "fpr,tpr,thresholds = roc_curve(y_test,prob_pred[:,1])\n",
    "roc_auc = auc(fpr,tpr)\n",
    "plt.figure(figsize=(10,10))\n",
    "plt.plot(fpr,tpr,color = 'darkorange',lw =2, label = 'ROC curve(AUC=%0.4f)'%roc_auc)\n",
    "plt.plot([0,1],[0,1],color = 'navy',lw=2,linestyle = '--')\n",
    "plt.xlim([0.0,1.0])\n",
    "plt.ylim([0.0,1.05])\n",
    "plt.xlabel('False Postive Rate')\n",
    "plt.ylabel('True Positive Rate')\n",
    "plt.title('Receiver Operating Charateristic(Logistic Regression)')\n",
    "plt.legend(loc='lower right')"
   ]
  },
  {
   "cell_type": "code",
   "execution_count": 332,
   "metadata": {},
   "outputs": [],
   "source": [
    "# from sklearn.model_selection import cross_val_score\n",
    "# from numpy import mean\n",
    "# from numpy import std\n",
    "# import timeit\n",
    "# from sklearn.model_selection import ShuffleSplit\n",
    "\n",
    "# cv = ShuffleSplit(n_splits=50, test_size=0.3, random_state=0)\n",
    "\n",
    "# fig, axes = plt.subplots(figsize=(10, 5))\n",
    "# title = \"Logistic Regression\"\n",
    "# estimator = LogitReg(max_iter=10000)\n",
    "# scores = cross_val_score(estimator, X, y, scoring='accuracy', cv=cv, n_jobs=-1)\n",
    "# # summarize result\n",
    "# print('Mean Accuracy: %.3f (%.3f)' % (mean(scores), std(scores)))\n",
    "# start = timeit.default_timer()\n",
    "# plot_learning_curve(estimator, title, X, y, axes=axes, ylim=(0.4,0.8), cv=cv, n_jobs=4)\n",
    "# stop = timeit.default_timer()\n",
    "# plt.show()\n",
    "# print(stop - start, \"seconds\")"
   ]
  },
  {
   "cell_type": "markdown",
   "metadata": {},
   "source": [
    "* Logistic Regression Analysis"
   ]
  },
  {
   "cell_type": "markdown",
   "metadata": {},
   "source": [
    "- Our Logistic regression has a low AUC of 0.55. By definition, it means that given one random positive outcome and one random negative outcome, the probability (AUC) that this Logistic Regression Model correctly predicts which outcome is postive and which outcome is negative is only 0.55. \n",
    "In principal, a \"random guess\" classification model has a AUC of 0.5(As shown by the navy blue stragith line between (0,0) and (1,1)) so our model has not much edge over a pure random guess. \n",
    "\n",
    "- I choose Logistic regression as a start of the classification. As a model embedded with linear nature, the logistic regression highlights the tradeoff between different features of interest. \n",
    "The relative weight of the features can be captured by the ratio between their coefficients and therefore it draws a rough picture about the relative significance level of them. Based on the coefficient table from Linear regression, we may think of shortlisting the feature and see if dropping some less significant features help improve the model.\n",
    "\n",
    "- The estimated coefficients of the logistic regression model to predict users' clicking probability are shown on Table(). From here, we learn that the average probability of user clicking into the creators' personal homepage, clicking \"likes\" have almost no benefit in help predicting the future clicking possibility, whereas users' action of \"viewing comment\" has a strong predictive power of the target. Then, our next step could be running the same model on less features.\n",
    "\n",
    "- According to the learning curve, the model is suffer from underfitting since both the training and cross-validation score are low. And therefore, there's no need to apply regularization. We should admit that logistic regression is a bad model for the current task, in other words, the logistic regression fails to capture to true underlying relationship of future clicking probability and past actions."
   ]
  },
  {
   "cell_type": "code",
   "execution_count": 333,
   "metadata": {},
   "outputs": [],
   "source": [
    "# # store the coefficients\n",
    "# df_coeff = pd.DataFrame({\n",
    "#     'Feature':df_user.columns.to_list()[2:15],\n",
    "#     'Coefficient': np.array(LR.coef_).reshape(13)\n",
    "# })\n",
    "\n",
    "# df_coeff"
   ]
  },
  {
   "cell_type": "markdown",
   "metadata": {},
   "source": [
    "Surprisingly, the feature \"Average View Time\" has the lowest predictive power among all. In all the users with more than 2 records"
   ]
  },
  {
   "cell_type": "code",
   "execution_count": 334,
   "metadata": {},
   "outputs": [],
   "source": [
    "# # Visualizing Confusion Matrix\n",
    "# from sklearn.metrics import confusion_matrix,ConfusionMatrixDisplay\n",
    "# tn,fp,fn,tp = confusion_matrix(y_test,y_pred).ravel()\n",
    "# cm = confusion_matrix(y_test,y_pred,labels = LR.classes_)\n",
    "# disp = ConfusionMatrixDisplay(confusion_matrix=cm,display_labels=LR.classes_)\n",
    "# disp.plot()\n",
    "# plt.show()"
   ]
  },
  {
   "cell_type": "markdown",
   "metadata": {},
   "source": [
    "Baseline Dummy model for logistic Regression (If Accurcy is bigger than the model, the the model makes no sense)"
   ]
  },
  {
   "cell_type": "code",
   "execution_count": 335,
   "metadata": {},
   "outputs": [],
   "source": [
    "# from sklearn.dummy import DummyClassifier\n",
    "# most_fre_CL=DummyClassifier(strategy='most_frequent')\n",
    "# most_fre_CL.fit(X_train,y_train)\n",
    "# prob_pred=most_fre_CL.predict_proba(X_test)\n",
    "\n",
    "\n",
    "# prob_test=most_fre_CL.predict_proba(X_test)\n",
    "# y_pred_test=list(map(lambda x: int(x>=0.7),prob_test[:,1]))\n",
    "\n",
    "# accuracy_2 = most_fre_CL.score(X_test,y_test)\n",
    "# print(\"accuracy_2\",accuracy_2)\n"
   ]
  },
  {
   "cell_type": "code",
   "execution_count": 336,
   "metadata": {},
   "outputs": [],
   "source": [
    "# fpr,tpr,thresholds = roc_curve(y_test,prob_pred[:,1])\n",
    "# roc_auc = auc(fpr,tpr)\n",
    "# plt.figure(figsize=(10,10))\n",
    "# plt.plot(fpr,tpr,color = 'darkorange',lw =2, label = 'ROC curve(AUC=%0.4f)'%roc_auc)\n",
    "# plt.plot([0,1],[0,1],color = 'navy',lw=2,linestyle = '--')\n",
    "# plt.xlim([0.0,1.0])\n",
    "# plt.ylim([0.0,1.05])\n",
    "# plt.xlabel('False Postive Rate')\n",
    "# plt.ylabel('True Positive Rate')\n",
    "# plt.title('Receiver Operating Charateristic(Dummy Class)')\n",
    "# plt.legend(loc='lower right')"
   ]
  },
  {
   "cell_type": "markdown",
   "metadata": {},
   "source": [
    "Besides the normal logistic regression, a dummy logistic regression model is also applied to assure the ____ of our logistic regression\n",
    "It is the model that only predicts one target, no matter what the inputs are. The rationale behind the comparison is that even though the single AUC of a normal logistic regression may looks good, it still cannot assure the model is satisfying if the classifier that only predicts one outcome have a similar AUC. This normally happen if the dataset is extremly unbalanced. \n",
    "\n",
    "\n",
    "As described in the dataset distribution section, most of the users do log in the platform and listen to music, but not much of them tend to click on the recommendation card and keep vie\n",
    "\n",
    "\n",
    "In my first trial, the comparison provides \n",
    "Dummy logistic regression provide a baseline assesment of the logisticregression model we \n",
    "By testing on a dummy model,"
   ]
  },
  {
   "cell_type": "markdown",
   "metadata": {},
   "source": [
    "### KNN"
   ]
  },
  {
   "cell_type": "markdown",
   "metadata": {},
   "source": [
    "k = 100"
   ]
  },
  {
   "cell_type": "code",
   "execution_count": 337,
   "metadata": {},
   "outputs": [
    {
     "name": "stdout",
     "output_type": "stream",
     "text": [
      "accuracy_knn 0.5666666666666667\n"
     ]
    }
   ],
   "source": [
    "from sklearn.neighbors import KNeighborsClassifier\n",
    "# from sklearn.preprocessing import StandardScaler\n",
    "\n",
    "scaler = StandardScaler().fit(X_train)\n",
    "X_train_st = scaler.transform(X_train)\n",
    "X_test_st = scaler.transform(X_test)\n",
    "\n",
    "scaler_p = StandardScaler().fit(X)\n",
    "df_user_2 = df_user.drop(columns = ['Avg_Cli','userId','Active'])\n",
    "df_user_2 = scaler_p.transform(df_user_2)\n",
    "\n",
    "X_st=scaler_p.transform(X)\n",
    "\n",
    "knn = KNeighborsClassifier(n_neighbors=50).fit(X_train_st,y_train)\n",
    "y_pred = knn.predict(X_test_st)\n",
    "\n",
    "accuracy_knn = knn.score(X_test_st,y_test)\n",
    "print(\"accuracy_knn\",accuracy_knn)"
   ]
  },
  {
   "cell_type": "code",
   "execution_count": 338,
   "metadata": {},
   "outputs": [
    {
     "name": "stdout",
     "output_type": "stream",
     "text": [
      "The out-of-sample AUC for the 1nn is 0.5903\n"
     ]
    },
    {
     "data": {
      "text/plain": [
       "<matplotlib.legend.Legend at 0x7fa7899467c0>"
      ]
     },
     "execution_count": 338,
     "metadata": {},
     "output_type": "execute_result"
    },
    {
     "data": {
      "image/png": "[encoded data removed]",
      "text/plain": [
       "<Figure size 720x720 with 1 Axes>"
      ]
     },
     "metadata": {},
     "output_type": "display_data"
    }
   ],
   "source": [
    "y_score =knn.predict_proba(X_test_st)\n",
    "fpr,tpr,thresholds = roc_curve(y_test,y_score[:,1])\n",
    "roc_auc = auc(fpr,tpr)\n",
    "\n",
    "print(\"The out-of-sample AUC for the 1nn is %0.4f\" % roc_auc)\n",
    "\n",
    "plt.figure(figsize=(10,10))\n",
    "plt.plot(fpr,tpr,color = 'darkorange',lw =2, label = 'ROC curve(AUC=%0.4f)'%roc_auc)\n",
    "plt.plot([0,1],[0,1],color = 'navy',lw=2,linestyle = '--')\n",
    "plt.xlim([0.0,1.0])\n",
    "plt.ylim([0.0,1.05])\n",
    "plt.xlabel('False Postive Rate')\n",
    "plt.ylabel('True Positive Rate')\n",
    "plt.title('Receiver Operating Charateristic(50-NN)')\n",
    "plt.legend(loc='lower right')\n"
   ]
  },
  {
   "cell_type": "markdown",
   "metadata": {},
   "source": [
    "k = 1"
   ]
  },
  {
   "cell_type": "code",
   "execution_count": 339,
   "metadata": {},
   "outputs": [
    {
     "name": "stdout",
     "output_type": "stream",
     "text": [
      "accuracy_knn 0.7108333333333333\n"
     ]
    }
   ],
   "source": [
    "from sklearn.neighbors import KNeighborsClassifier\n",
    "# from sklearn.preprocessing import StandardScaler\n",
    "\n",
    "scaler = StandardScaler().fit(X_train)\n",
    "X_train_st = scaler.transform(X_train)\n",
    "X_test_st = scaler.transform(X_test)\n",
    "\n",
    "scaler_p = StandardScaler().fit(X)\n",
    "df_user_2 = df_user.drop(columns = ['Avg_Cli','userId','Active'])\n",
    "df_user_2 = scaler_p.transform(df_user_2)\n",
    "\n",
    "X_st=scaler_p.transform(X)\n",
    "\n",
    "knn_1 = KNeighborsClassifier(n_neighbors=1).fit(X_train_st,y_train)\n",
    "y_pred = knn.predict(X_test_st)\n",
    "\n",
    "accuracy_knn = knn_1.score(X_test_st,y_test)\n",
    "print(\"accuracy_knn\",accuracy_knn)"
   ]
  },
  {
   "cell_type": "code",
   "execution_count": 340,
   "metadata": {},
   "outputs": [
    {
     "name": "stdout",
     "output_type": "stream",
     "text": [
      "The out-of-sample AUC for the 1nn is 0.7107\n"
     ]
    },
    {
     "data": {
      "text/plain": [
       "<matplotlib.legend.Legend at 0x7f9c4ab355e0>"
      ]
     },
     "execution_count": 340,
     "metadata": {},
     "output_type": "execute_result"
    },
    {
     "data": {
      "image/png": "[encoded data removed]",
      "text/plain": [
       "<Figure size 720x720 with 1 Axes>"
      ]
     },
     "metadata": {},
     "output_type": "display_data"
    }
   ],
   "source": [
    "y_score =knn_1 .predict_proba(X_test_st)\n",
    "fpr,tpr,thresholds = roc_curve(y_test,y_score[:,1])\n",
    "roc_auc = auc(fpr,tpr)\n",
    "\n",
    "print(\"The out-of-sample AUC for the 1nn is %0.4f\" % roc_auc)\n",
    "\n",
    "plt.figure(figsize=(10,10))\n",
    "plt.plot(fpr,tpr,color = 'darkorange',lw =2, label = 'ROC curve(AUC=%0.4f)'%roc_auc)\n",
    "plt.plot([0,1],[0,1],color = 'navy',lw=2,linestyle = '--')\n",
    "plt.xlim([0.0,1.0])\n",
    "plt.ylim([0.0,1.05])\n",
    "plt.xlabel('False Postive Rate')\n",
    "plt.ylabel('True Positive Rate')\n",
    "plt.title('Receiver Operating Charateristic(1-NN)')\n",
    "plt.legend(loc='lower right')\n"
   ]
  },
  {
   "cell_type": "code",
   "execution_count": 341,
   "metadata": {},
   "outputs": [
    {
     "data": {
      "image/png": "[encoded data removed]",
      "text/plain": [
       "<Figure size 432x288 with 2 Axes>"
      ]
     },
     "metadata": {},
     "output_type": "display_data"
    }
   ],
   "source": [
    "# Visualizing Confusion Matrix\n",
    "tn,fp,fn,tp = confusion_matrix(y_test,y_pred).ravel()\n",
    "cm = confusion_matrix(y_test,y_pred,labels = knn_1.classes_)\n",
    "disp = ConfusionMatrixDisplay(confusion_matrix=cm,display_labels=knn_1.classes_)\n",
    "disp.plot()\n",
    "plt.show()"
   ]
  },
  {
   "cell_type": "markdown",
   "metadata": {},
   "source": [
    "k=2"
   ]
  },
  {
   "cell_type": "code",
   "execution_count": 342,
   "metadata": {},
   "outputs": [
    {
     "name": "stdout",
     "output_type": "stream",
     "text": [
      "accuracy_knn_2 0.6470833333333333\n"
     ]
    }
   ],
   "source": [
    "from sklearn.neighbors import KNeighborsClassifier\n",
    "# from sklearn.preprocessing import StandardScaler\n",
    "\n",
    "scaler = StandardScaler().fit(X_train)\n",
    "X_train_st = scaler.transform(X_train)\n",
    "X_test_st = scaler.transform(X_test)\n",
    "\n",
    "scaler_p = StandardScaler().fit(X)\n",
    "df_user_2 = df_user.drop(columns = ['Avg_Cli','userId','Active'])\n",
    "df_user_2 = scaler_p.transform(df_user_2)\n",
    "\n",
    "X_st=scaler_p.transform(X)\n",
    "\n",
    "knn_2 = KNeighborsClassifier(n_neighbors=2).fit(X_train_st,y_train)\n",
    "y_pred = knn.predict(X_test_st)\n",
    "\n",
    "accuracy_knn = knn_2.score(X_test_st,y_test)\n",
    "print(\"accuracy_knn_2\",accuracy_knn)"
   ]
  },
  {
   "cell_type": "code",
   "execution_count": 343,
   "metadata": {},
   "outputs": [
    {
     "name": "stdout",
     "output_type": "stream",
     "text": [
      "The out-of-sample AUC for the 1nn is 0.6894\n"
     ]
    },
    {
     "data": {
      "text/plain": [
       "<matplotlib.legend.Legend at 0x7f9adc2614f0>"
      ]
     },
     "execution_count": 343,
     "metadata": {},
     "output_type": "execute_result"
    },
    {
     "data": {
      "image/png": "[encoded data removed]",
      "text/plain": [
       "<Figure size 720x720 with 1 Axes>"
      ]
     },
     "metadata": {},
     "output_type": "display_data"
    }
   ],
   "source": [
    "y_score =knn_2 .predict_proba(X_test_st)\n",
    "fpr,tpr,thresholds = roc_curve(y_test,y_score[:,1])\n",
    "roc_auc = auc(fpr,tpr)\n",
    "\n",
    "print(\"The out-of-sample AUC for the 1nn is %0.4f\" % roc_auc)\n",
    "\n",
    "plt.figure(figsize=(10,10))\n",
    "plt.plot(fpr,tpr,color = 'darkorange',lw =2, label = 'ROC curve(AUC=%0.4f)'%roc_auc)\n",
    "plt.plot([0,1],[0,1],color = 'navy',lw=2,linestyle = '--')\n",
    "plt.xlim([0.0,1.0])\n",
    "plt.ylim([0.0,1.05])\n",
    "plt.xlabel('False Postive Rate')\n",
    "plt.ylabel('True Positive Rate')\n",
    "plt.title('Receiver Operating Charateristic(2-NN)')\n",
    "plt.legend(loc='lower right')\n"
   ]
  },
  {
   "cell_type": "code",
   "execution_count": 344,
   "metadata": {},
   "outputs": [],
   "source": [
    "# cv = ShuffleSplit(n_splits=50, test_size=0.3, random_state=0)\n",
    "# fig, axes = plt.subplots(figsize=(10, 5))\n",
    "# title = \"kNN_1\"\n",
    "# estimator = knn_1\n",
    "# scores = cross_val_score(estimator, X_st, y, scoring='accuracy', cv=cv, n_jobs=-1)\n",
    "# # summarize result\n",
    "# print('Mean Accuracy: %.3f (%.3f)' % (mean(scores), std(scores)))\n",
    "# start = timeit.default_timer()\n",
    "# plot_learning_curve(estimator, title, X_st, y, axes=axes, ylim=(0.4,1), cv=cv, n_jobs=4)\n",
    "# stop = timeit.default_timer()\n",
    "# plt.show()\n",
    "# print(stop - start, \"seconds\")"
   ]
  },
  {
   "cell_type": "code",
   "execution_count": null,
   "metadata": {},
   "outputs": [],
   "source": []
  },
  {
   "cell_type": "markdown",
   "metadata": {},
   "source": [
    "k- Nearest Neighbor(k-NN) model is also a widely used model for classification. This model estimates P[Y=1|X] directly and builds a classifer by local averaging. The key assumption of the k-NN model is that the distance in the feature space reliably reflects similarities in the outcomes."
   ]
  },
  {
   "cell_type": "markdown",
   "metadata": {},
   "source": [
    "### Decision Tree"
   ]
  },
  {
   "cell_type": "code",
   "execution_count": 345,
   "metadata": {},
   "outputs": [
    {
     "name": "stdout",
     "output_type": "stream",
     "text": [
      "The out-of-sample AUC for Decision Tree is 0.7252\n"
     ]
    },
    {
     "data": {
      "text/plain": [
       "<matplotlib.legend.Legend at 0x7f9ada93e4f0>"
      ]
     },
     "execution_count": 345,
     "metadata": {},
     "output_type": "execute_result"
    },
    {
     "data": {
      "image/png": "[encoded data removed]",
      "text/plain": [
       "<Figure size 720x720 with 1 Axes>"
      ]
     },
     "metadata": {},
     "output_type": "display_data"
    }
   ],
   "source": [
    "# Decision Tree\n",
    "from sklearn.tree import DecisionTreeClassifier\n",
    "tree=DecisionTreeClassifier(max_depth= 1000)\n",
    "tree.fit(X_train,y_train)\n",
    "y_pred=tree.predict(X_test)\n",
    "\n",
    "y_score =tree.predict_proba(X_test)\n",
    "fpr,tpr,thresholds = roc_curve(y_test,y_score[:,1])\n",
    "roc_auc = auc(fpr,tpr)\n",
    "\n",
    "print(\"The out-of-sample AUC for Decision Tree is %0.4f\" % roc_auc)\n",
    "\n",
    "plt.figure(figsize=(10,10))\n",
    "plt.plot(fpr,tpr,color = 'darkorange',lw =2, label = 'ROC curve(AUC=%0.4f)'%roc_auc)\n",
    "plt.plot([0,1],[0,1],color = 'navy',lw=2,linestyle = '--')\n",
    "plt.xlim([0.0,1.0])\n",
    "plt.ylim([0.0,1.05])\n",
    "plt.xlabel('False Postive Rate')\n",
    "plt.ylabel('True Positive Rate')\n",
    "plt.title('Receiver Operating Charateristic(Decision Tree)')\n",
    "plt.legend(loc='lower right')"
   ]
  },
  {
   "cell_type": "code",
   "execution_count": 346,
   "metadata": {},
   "outputs": [],
   "source": [
    "# # Visualizing Confusion Matrix\n",
    "# tn,fp,fn,tp = confusion_matrix(y_test,y_pred).ravel()\n",
    "# cm = confusion_matrix(y_test,y_pred,labels = tree.classes_)\n",
    "# disp = ConfusionMatrixDisplay(confusion_matrix=cm,display_labels=tree.classes_)\n",
    "# disp.plot()\n",
    "# plt.show()"
   ]
  },
  {
   "cell_type": "code",
   "execution_count": 347,
   "metadata": {},
   "outputs": [],
   "source": [
    "# cv = ShuffleSplit(n_splits=50, test_size=0.3, random_state=0)\n",
    "# fig, axes = plt.subplots(figsize=(10, 5))\n",
    "# title = \"Decision Tree\"\n",
    "# estimator = tree\n",
    "# scores = cross_val_score(estimator, X_st, y, scoring='accuracy', cv=cv, n_jobs=-1)\n",
    "# # summarize result\n",
    "# print('Mean Accuracy: %.3f (%.3f)' % (mean(scores), std(scores)))\n",
    "# start = timeit.default_timer()\n",
    "# plot_learning_curve(estimator, title, X_st, y, axes=axes, ylim=(0.4,1), cv=cv, n_jobs=4)\n",
    "# stop = timeit.default_timer()\n",
    "# plt.show()\n",
    "# print(stop - start, \"seconds\")"
   ]
  },
  {
   "cell_type": "markdown",
   "metadata": {},
   "source": [
    "### Random Forest"
   ]
  },
  {
   "cell_type": "code",
   "execution_count": 348,
   "metadata": {},
   "outputs": [
    {
     "name": "stdout",
     "output_type": "stream",
     "text": [
      "accuracy_Random Forest 0.7445833333333334\n",
      "The out-of-sample AUC for the Random Forest is 0.8252\n"
     ]
    },
    {
     "data": {
      "text/plain": [
       "<matplotlib.legend.Legend at 0x7f9afb6c8c40>"
      ]
     },
     "execution_count": 348,
     "metadata": {},
     "output_type": "execute_result"
    },
    {
     "data": {
      "image/png": "[encoded data removed]",
      "text/plain": [
       "<Figure size 720x720 with 1 Axes>"
      ]
     },
     "metadata": {},
     "output_type": "display_data"
    }
   ],
   "source": [
    "from sklearn.ensemble import RandomForestClassifier\n",
    "\n",
    "Forest_cli = RandomForestClassifier(n_estimators = 100)\n",
    "Forest_cli.fit(X_train,y_train)\n",
    "y_pred=Forest_cli.predict(X_test)\n",
    "\n",
    "accuracy_RandomForest = Forest_cli.score(X_test,y_test)\n",
    "print(\"accuracy_Random Forest\",accuracy_RandomForest)\n",
    "\n",
    "y_score =Forest_cli .predict_proba(X_test)\n",
    "fpr,tpr,thresholds = roc_curve(y_test,y_score[:,1])\n",
    "roc_auc = auc(fpr,tpr)\n",
    "\n",
    "print(\"The out-of-sample AUC for the Random Forest is %0.4f\" % roc_auc)\n",
    "\n",
    "plt.figure(figsize=(10,10))\n",
    "plt.plot(fpr,tpr,color = 'darkorange',lw =2, label = 'ROC curve(AUC=%0.4f)'%roc_auc)\n",
    "plt.plot([0,1],[0,1],color = 'navy',lw=2,linestyle = '--')\n",
    "plt.xlim([0.0,1.0])\n",
    "plt.ylim([0.0,1.05])\n",
    "plt.xlabel('False Postive Rate')\n",
    "plt.ylabel('True Positive Rate')\n",
    "plt.title('Receiver Operating Charateristic(Random Forest)')\n",
    "plt.legend(loc='lower right')"
   ]
  },
  {
   "cell_type": "code",
   "execution_count": 349,
   "metadata": {},
   "outputs": [
    {
     "data": {
      "text/html": [
       "<style type=\"text/css\">\n",
       "</style>\n",
       "<table id=\"T_1bff3_\">\n",
       "  <thead>\n",
       "    <tr>\n",
       "      <th class=\"col_heading level0 col0\" >Feature</th>\n",
       "      <th class=\"col_heading level0 col1\" >Importance</th>\n",
       "    </tr>\n",
       "  </thead>\n",
       "  <tbody>\n",
       "    <tr>\n",
       "      <td id=\"T_1bff3_row0_col0\" class=\"data row0 col0\" >Avg_IPH</td>\n",
       "      <td id=\"T_1bff3_row0_col1\" class=\"data row0 col1\" >0.002125</td>\n",
       "    </tr>\n",
       "    <tr>\n",
       "      <td id=\"T_1bff3_row1_col0\" class=\"data row1 col0\" >Avg_Com</td>\n",
       "      <td id=\"T_1bff3_row1_col1\" class=\"data row1 col1\" >0.000204</td>\n",
       "    </tr>\n",
       "    <tr>\n",
       "      <td id=\"T_1bff3_row2_col0\" class=\"data row2 col0\" >Avg_S</td>\n",
       "      <td id=\"T_1bff3_row2_col1\" class=\"data row2 col1\" >0.000816</td>\n",
       "    </tr>\n",
       "    <tr>\n",
       "      <td id=\"T_1bff3_row3_col0\" class=\"data row3 col0\" >Avg_VC</td>\n",
       "      <td id=\"T_1bff3_row3_col1\" class=\"data row3 col1\" >0.019876</td>\n",
       "    </tr>\n",
       "    <tr>\n",
       "      <td id=\"T_1bff3_row4_col0\" class=\"data row4 col0\" >Avg_L</td>\n",
       "      <td id=\"T_1bff3_row4_col1\" class=\"data row4 col1\" >0.005467</td>\n",
       "    </tr>\n",
       "    <tr>\n",
       "      <td id=\"T_1bff3_row5_col0\" class=\"data row5 col0\" >Avg_View_Time</td>\n",
       "      <td id=\"T_1bff3_row5_col1\" class=\"data row5 col1\" >0.133680</td>\n",
       "    </tr>\n",
       "    <tr>\n",
       "      <td id=\"T_1bff3_row6_col0\" class=\"data row6 col0\" >Age</td>\n",
       "      <td id=\"T_1bff3_row6_col1\" class=\"data row6 col1\" >0.129859</td>\n",
       "    </tr>\n",
       "    <tr>\n",
       "      <td id=\"T_1bff3_row7_col0\" class=\"data row7 col0\" >G_female</td>\n",
       "      <td id=\"T_1bff3_row7_col1\" class=\"data row7 col1\" >0.012121</td>\n",
       "    </tr>\n",
       "    <tr>\n",
       "      <td id=\"T_1bff3_row8_col0\" class=\"data row8 col0\" >G_male</td>\n",
       "      <td id=\"T_1bff3_row8_col1\" class=\"data row8 col1\" >0.011826</td>\n",
       "    </tr>\n",
       "    <tr>\n",
       "      <td id=\"T_1bff3_row9_col0\" class=\"data row9 col0\" >G_U</td>\n",
       "      <td id=\"T_1bff3_row9_col1\" class=\"data row9 col1\" >0.003114</td>\n",
       "    </tr>\n",
       "    <tr>\n",
       "      <td id=\"T_1bff3_row10_col0\" class=\"data row10 col0\" >Level</td>\n",
       "      <td id=\"T_1bff3_row10_col1\" class=\"data row10 col1\" >0.083904</td>\n",
       "    </tr>\n",
       "    <tr>\n",
       "      <td id=\"T_1bff3_row11_col0\" class=\"data row11 col0\" >followCnt</td>\n",
       "      <td id=\"T_1bff3_row11_col1\" class=\"data row11 col1\" >0.320721</td>\n",
       "    </tr>\n",
       "    <tr>\n",
       "      <td id=\"T_1bff3_row12_col0\" class=\"data row12 col0\" >R_Month</td>\n",
       "      <td id=\"T_1bff3_row12_col1\" class=\"data row12 col1\" >0.276288</td>\n",
       "    </tr>\n",
       "  </tbody>\n",
       "</table>\n"
      ],
      "text/plain": [
       "<pandas.io.formats.style.Styler at 0x7f9ada92e3a0>"
      ]
     },
     "execution_count": 349,
     "metadata": {},
     "output_type": "execute_result"
    }
   ],
   "source": [
    "df_coeff_rf = pd.DataFrame({\n",
    "    'Feature':df_user.columns.to_list()[2:15],\n",
    "    'Importance': Forest_cli.feature_importances_\n",
    "})\n",
    "\n",
    "df_coeff_rf.style.hide_index()\n",
    "\n",
    "# The feature_importance report the average amount of decrease in Gini index associated with the split on different features used to train the random forest. The larger the decrease, the more important the feature.\n",
    "# As we can see from the results, for the random forest model, the feature        makes the most important contribution to predicting the future clicking probability.\n"
   ]
  },
  {
   "cell_type": "code",
   "execution_count": 350,
   "metadata": {},
   "outputs": [],
   "source": [
    "# cv = ShuffleSplit(n_splits=50, test_size=0.3, random_state=0)\n",
    "# fig, axes = plt.subplots(figsize=(10, 5))\n",
    "# title = \"Random Forest\"\n",
    "# estimator = Forest_cli\n",
    "# scores = cross_val_score(estimator, X_st, y, scoring='accuracy', cv=cv, n_jobs=-1)\n",
    "# # summarize result\n",
    "# print('Mean Accuracy: %.3f (%.3f)' % (mean(scores), std(scores)))\n",
    "# start = timeit.default_timer()\n",
    "# plot_learning_curve(estimator, title, X_st, y, axes=axes, ylim=(0.4,1), cv=cv, n_jobs=4)\n",
    "# stop = timeit.default_timer()\n",
    "# plt.show()\n",
    "# print(stop - start, \"seconds\")"
   ]
  },
  {
   "cell_type": "markdown",
   "metadata": {},
   "source": [
    "### XgBoost"
   ]
  },
  {
   "cell_type": "code",
   "execution_count": 351,
   "metadata": {},
   "outputs": [
    {
     "name": "stdout",
     "output_type": "stream",
     "text": [
      "[13:28:25] WARNING: /Users/runner/work/xgboost/xgboost/src/learner.cc:1115: Starting in XGBoost 1.3.0, the default evaluation metric used with the objective 'binary:logistic' was changed from 'error' to 'logloss'. Explicitly set eval_metric if you'd like to restore the old behavior.\n",
      "accuracy_xgbt 0.7295833333333334\n",
      "The out-of-sample AUC for the XGBT is 0.7831\n"
     ]
    },
    {
     "data": {
      "text/plain": [
       "<matplotlib.legend.Legend at 0x7f9c49859a60>"
      ]
     },
     "execution_count": 351,
     "metadata": {},
     "output_type": "execute_result"
    },
    {
     "data": {
      "image/png": "[encoded data removed]",
      "text/plain": [
       "<Figure size 720x720 with 1 Axes>"
      ]
     },
     "metadata": {},
     "output_type": "display_data"
    }
   ],
   "source": [
    "import xgboost as xgb\n",
    "data_train=xgb.DMatrix(data=X_train,label=y_train)\n",
    "data_test=xgb.DMatrix(data=X_test,label=y_test)\n",
    "\n",
    "xgbt=xgb.XGBClassifier(n_estimators = 1000).fit(X_train,y_train)\n",
    "y_pred=xgbt.predict(X_test)\n",
    "\n",
    "accuracy_xgbt = xgbt.score(X_test,y_test)\n",
    "print(\"accuracy_xgbt\",accuracy_xgbt)\n",
    "\n",
    "y_score = xgbt.predict_proba(X_test)\n",
    "fpr,tpr,thresholds = roc_curve(y_test,y_score[:,1])\n",
    "roc_auc = auc(fpr,tpr)\n",
    "\n",
    "print(\"The out-of-sample AUC for the XGBT is %0.4f\" % roc_auc)\n",
    "\n",
    "plt.figure(figsize=(10,10))\n",
    "plt.plot(fpr,tpr,color = 'darkorange',lw =2, label = 'ROC curve(AUC=%0.4f)'%roc_auc)\n",
    "plt.plot([0,1],[0,1],color = 'navy',lw=2,linestyle = '--')\n",
    "plt.xlim([0.0,1.0])\n",
    "plt.ylim([0.0,1.05])\n",
    "plt.xlabel('False Postive Rate')\n",
    "plt.ylabel('True Positive Rate')\n",
    "plt.title('Receiver Operating Charateristic(xgBoost)')\n",
    "plt.legend(loc='lower right')"
   ]
  },
  {
   "cell_type": "code",
   "execution_count": 352,
   "metadata": {},
   "outputs": [],
   "source": [
    "# # Visualizing Confusion Matrix\n",
    "# from sklearn.metrics import confusion_matrix,ConfusionMatrixDisplay\n",
    "# tn,fp,fn,tp = confusion_matrix(y_test,y_pred).ravel()\n",
    "# cm = confusion_matrix(y_test,y_pred,labels = xgbt.classes_)\n",
    "# disp = ConfusionMatrixDisplay(confusion_matrix=cm,display_labels=xgbt.classes_)\n",
    "# disp.plot()\n",
    "# plt.show()"
   ]
  },
  {
   "cell_type": "code",
   "execution_count": 353,
   "metadata": {},
   "outputs": [],
   "source": [
    "# def Learning_curve_for_XGboost(): \n",
    "#     import warnings\n",
    "#     warnings.filterwarnings(\"ignore\")\n",
    "#     from matplotlib import pyplot\n",
    "#     import matplotlib.pyplot as plt \n",
    "#     from numpy import loadtxt\n",
    "#     from sklearn.metrics import accuracy_score  \n",
    "#     plt.style.use('ggplot')    \n",
    "    \n",
    "#     # fit model no training data\n",
    "#     model = xgbt\n",
    "#     eval_set = [(X_train, y_train), (X_test, y_test)]\n",
    "#     model.fit(X_train, y_train, eval_metric=[\"error\", \"logloss\"], eval_set=eval_set, verbose=False)\n",
    "    \n",
    "#     # make predictions for test data\n",
    "#     y_pred = model.predict(X_test)\n",
    "#     predictions = [round(value) for value in y_pred]\n",
    "    \n",
    "#     # evaluate predictions\n",
    "#     accuracy = accuracy_score(y_test, predictions)\n",
    "#     print(\"Accuracy: %.2f%%\" % (accuracy * 100.0))\n",
    "    \n",
    "#     # retrieve performance metrics\n",
    "#     results = model.evals_result()\n",
    "#     epochs = len(results['validation_0']['error'])\n",
    "#     x_axis = range(0, epochs)\n",
    "    \n",
    "#     # plot log loss\n",
    "#     fig, ax = pyplot.subplots(figsize=(12,12))\n",
    "#     ax.plot(x_axis, results['validation_0']['logloss'], label='Train')\n",
    "#     ax.plot(x_axis, results['validation_1']['logloss'], label='Test')\n",
    "#     ax.legend()\n",
    "    \n",
    "#     pyplot.ylabel('Log Loss')\n",
    "#     pyplot.title('XGBoost Log Loss')\n",
    "#     pyplot.show()\n",
    "    \n",
    "    \n",
    "#     # plot classification error\n",
    "#     fig, ax = pyplot.subplots(figsize=(12,12))\n",
    "#     ax.plot(x_axis, results['validation_0']['error'], label='Train')\n",
    "#     ax.plot(x_axis, results['validation_1']['error'], label='Test')\n",
    "#     ax.legend()\n",
    "    \n",
    "#     pyplot.ylabel('Classification Error')\n",
    "#     pyplot.title('XGBoost Classification Error')\n",
    "#     pyplot.show()\n",
    "# Learning_curve_for_XGboost()"
   ]
  },
  {
   "cell_type": "markdown",
   "metadata": {},
   "source": [
    "Method:\n",
    "\n",
    "In general, boosting algorithm takes a group of weak classifiers(e.g. decision stumps) and add them into a strong classifier while reweighting their contribution. Meanwhile, each weak classifer focus more on the data points that are incorrectly classified by the preceeding weak classifier.\n",
    "\n",
    "In core, a gradient boosting tree adaptively train a series of simple decision trees and transform them into a strong tree with the objective to minimize the sum of the total training loss and the total regularization penalty. The extreme gradient boosting tree (XGBT) is normally expected to more accurate than random forest.\n",
    "\n",
    "\n",
    "xgboost provides the most satisfying result among all models with an out-of-sample AUC of 0.7935. "
   ]
  },
  {
   "cell_type": "markdown",
   "metadata": {},
   "source": [
    "### Gaussian Naive Bayes"
   ]
  },
  {
   "cell_type": "code",
   "execution_count": 354,
   "metadata": {},
   "outputs": [],
   "source": [
    "# from sklearn.naive_bayes import GaussianNB\n",
    "\n",
    "# cv = ShuffleSplit(n_splits=50, test_size=0.3, random_state=0)\n",
    "# fig, axes = plt.subplots(figsize=(10, 5))\n",
    "# title = \"Gausian Naive Bayes\"\n",
    "# estimator = GaussianNB()\n",
    "# scores = cross_val_score(estimator, X, y, scoring='accuracy', cv=cv, n_jobs=-1)\n",
    "# # summarize result\n",
    "# print('Mean Accuracy: %.3f (%.3f)' % (mean(scores), std(scores)))\n",
    "# start = timeit.default_timer()\n",
    "# plot_learning_curve(estimator, title, X, y, axes=axes, ylim=(0.4,0.8), cv=cv, n_jobs=4)\n",
    "# stop = timeit.default_timer()\n",
    "# plt.show()\n",
    "# print(stop - start, \"seconds\")"
   ]
  },
  {
   "cell_type": "markdown",
   "metadata": {},
   "source": [
    "# Compare with deep learning OR neural Network"
   ]
  }
 ],
 "metadata": {
  "interpreter": {
   "hash": "a0c90e3c9acc9e2e0b667a0e48c58992102aca03f015a96ece60b09a312bac60"
  },
  "kernelspec": {
   "display_name": "Python 3.7.7 64-bit",
   "language": "python",
   "name": "python3"
  },
  "language_info": {
   "codemirror_mode": {
    "name": "ipython",
    "version": 3
   },
   "file_extension": ".py",
   "mimetype": "text/x-python",
   "name": "python",
   "nbconvert_exporter": "python",
   "pygments_lexer": "ipython3",
   "version": "3.8.8"
  },
  "metadata": {
   "interpreter": {
    "hash": "cb421fcbfbaf0104cacf837c3c93e5a1272efcec6efbfe33617a554fafda64f9"
   }
  },
  "orig_nbformat": 2
 },
 "nbformat": 4,
 "nbformat_minor": 2
}
