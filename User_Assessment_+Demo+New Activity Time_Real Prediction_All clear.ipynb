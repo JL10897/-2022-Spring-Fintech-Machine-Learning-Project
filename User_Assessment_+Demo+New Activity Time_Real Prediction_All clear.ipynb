{
 "cells": [
  {
   "cell_type": "code",
   "execution_count": 122,
   "metadata": {},
   "outputs": [],
   "source": [
    "import sys \n",
    "import numpy as np\n",
    "import pandas as pd\n",
    "import statsmodels.api as sm\n",
    "import sklearn\n",
    "import scipy as sp\n",
    "%matplotlib inline \n",
    "import matplotlib.pyplot as plt\n",
    "\n",
    "from sklearn.preprocessing import StandardScaler\n",
    "from sklearn.neighbors import KNeighborsClassifier"
   ]
  },
  {
   "cell_type": "markdown",
   "metadata": {},
   "source": [
    "# Read the data"
   ]
  },
  {
   "cell_type": "code",
   "execution_count": 75,
   "metadata": {},
   "outputs": [
    {
     "data": {
      "text/html": [
       "<div>\n",
       "<style scoped>\n",
       "    .dataframe tbody tr th:only-of-type {\n",
       "        vertical-align: middle;\n",
       "    }\n",
       "\n",
       "    .dataframe tbody tr th {\n",
       "        vertical-align: top;\n",
       "    }\n",
       "\n",
       "    .dataframe thead th {\n",
       "        text-align: right;\n",
       "    }\n",
       "</style>\n",
       "<table border=\"1\" class=\"dataframe\">\n",
       "  <thead>\n",
       "    <tr style=\"text-align: right;\">\n",
       "      <th></th>\n",
       "      <th>userId</th>\n",
       "      <th>age</th>\n",
       "      <th>registeredMonthCnt</th>\n",
       "      <th>followCnt</th>\n",
       "      <th>level</th>\n",
       "      <th>gender_female</th>\n",
       "      <th>gender_male</th>\n",
       "      <th>gender_unknown</th>\n",
       "    </tr>\n",
       "  </thead>\n",
       "  <tbody>\n",
       "    <tr>\n",
       "      <th>0</th>\n",
       "      <td>MCPCHCMCHCIC</td>\n",
       "      <td>21.000000</td>\n",
       "      <td>80.0</td>\n",
       "      <td>44.0</td>\n",
       "      <td>9.0</td>\n",
       "      <td>0</td>\n",
       "      <td>1</td>\n",
       "      <td>0</td>\n",
       "    </tr>\n",
       "    <tr>\n",
       "      <th>1</th>\n",
       "      <td>NCOCKCPCMCGCGC</td>\n",
       "      <td>23.000000</td>\n",
       "      <td>76.0</td>\n",
       "      <td>59.0</td>\n",
       "      <td>8.0</td>\n",
       "      <td>0</td>\n",
       "      <td>1</td>\n",
       "      <td>0</td>\n",
       "    </tr>\n",
       "    <tr>\n",
       "      <th>2</th>\n",
       "      <td>PCKCOCMCGCGCHCKC</td>\n",
       "      <td>21.507805</td>\n",
       "      <td>69.0</td>\n",
       "      <td>21.0</td>\n",
       "      <td>7.0</td>\n",
       "      <td>0</td>\n",
       "      <td>0</td>\n",
       "      <td>0</td>\n",
       "    </tr>\n",
       "    <tr>\n",
       "      <th>3</th>\n",
       "      <td>MCICHCKCKCGCMCIC</td>\n",
       "      <td>21.507805</td>\n",
       "      <td>66.0</td>\n",
       "      <td>38.0</td>\n",
       "      <td>10.0</td>\n",
       "      <td>0</td>\n",
       "      <td>0</td>\n",
       "      <td>0</td>\n",
       "    </tr>\n",
       "    <tr>\n",
       "      <th>4</th>\n",
       "      <td>NCJCHCPCNCICNCNC</td>\n",
       "      <td>20.000000</td>\n",
       "      <td>57.0</td>\n",
       "      <td>29.0</td>\n",
       "      <td>8.0</td>\n",
       "      <td>0</td>\n",
       "      <td>1</td>\n",
       "      <td>0</td>\n",
       "    </tr>\n",
       "  </tbody>\n",
       "</table>\n",
       "</div>"
      ],
      "text/plain": [
       "             userId        age  registeredMonthCnt  followCnt  level  \\\n",
       "0      MCPCHCMCHCIC  21.000000                80.0       44.0    9.0   \n",
       "1    NCOCKCPCMCGCGC  23.000000                76.0       59.0    8.0   \n",
       "2  PCKCOCMCGCGCHCKC  21.507805                69.0       21.0    7.0   \n",
       "3  MCICHCKCKCGCMCIC  21.507805                66.0       38.0   10.0   \n",
       "4  NCJCHCPCNCICNCNC  20.000000                57.0       29.0    8.0   \n",
       "\n",
       "   gender_female  gender_male  gender_unknown  \n",
       "0              0            1               0  \n",
       "1              0            1               0  \n",
       "2              0            0               0  \n",
       "3              0            0               0  \n",
       "4              0            1               0  "
      ]
     },
     "execution_count": 75,
     "metadata": {},
     "output_type": "execute_result"
    }
   ],
   "source": [
    "df_demo = pd.read_csv('user_demographics.csv')                        # Read the demographics Data\n",
    "df_demo['age'] = df_demo['age'].fillna(df_demo['age'].mean())\n",
    "df_demo = df_demo.drop(columns=['province'])\n",
    "df_demo = pd.get_dummies(df_demo,columns=['gender'],dummy_na=False)\n",
    "df_demo.head()"
   ]
  },
  {
   "cell_type": "code",
   "execution_count": 76,
   "metadata": {},
   "outputs": [
    {
     "data": {
      "text/plain": [
       "57750395"
      ]
     },
     "execution_count": 76,
     "metadata": {},
     "output_type": "execute_result"
    }
   ],
   "source": [
    "df_impression_s = pd.read_csv('impression_data.csv',index_col=False)  # Read the Action Data\n",
    "len(df_impression_s)"
   ]
  },
  {
   "cell_type": "code",
   "execution_count": 77,
   "metadata": {},
   "outputs": [
    {
     "data": {
      "text/plain": [
       "57750012"
      ]
     },
     "execution_count": 77,
     "metadata": {},
     "output_type": "execute_result"
    }
   ],
   "source": [
    "df_impression_c = pd.merge(df_impression_s,df_demo,how='inner',on='userId') # Match Action with Demographical Data\n",
    "len(df_impression_c)"
   ]
  },
  {
   "cell_type": "code",
   "execution_count": 78,
   "metadata": {},
   "outputs": [
    {
     "data": {
      "text/html": [
       "<div>\n",
       "<style scoped>\n",
       "    .dataframe tbody tr th:only-of-type {\n",
       "        vertical-align: middle;\n",
       "    }\n",
       "\n",
       "    .dataframe tbody tr th {\n",
       "        vertical-align: top;\n",
       "    }\n",
       "\n",
       "    .dataframe thead th {\n",
       "        text-align: right;\n",
       "    }\n",
       "</style>\n",
       "<table border=\"1\" class=\"dataframe\">\n",
       "  <thead>\n",
       "    <tr style=\"text-align: right;\">\n",
       "      <th></th>\n",
       "      <th>detailMlogInfoList</th>\n",
       "      <th>dt</th>\n",
       "      <th>impressPosition</th>\n",
       "      <th>impressTime</th>\n",
       "      <th>isClick</th>\n",
       "      <th>isComment</th>\n",
       "      <th>isIntoPersonalHomepage</th>\n",
       "      <th>isShare</th>\n",
       "      <th>isViewComment</th>\n",
       "      <th>isLike</th>\n",
       "      <th>mlogId</th>\n",
       "      <th>mlogViewTime</th>\n",
       "      <th>userId</th>\n",
       "      <th>age</th>\n",
       "      <th>registeredMonthCnt</th>\n",
       "      <th>followCnt</th>\n",
       "      <th>level</th>\n",
       "      <th>gender_female</th>\n",
       "      <th>gender_male</th>\n",
       "      <th>gender_unknown</th>\n",
       "    </tr>\n",
       "  </thead>\n",
       "  <tbody>\n",
       "    <tr>\n",
       "      <th>0</th>\n",
       "      <td>NaN</td>\n",
       "      <td>29</td>\n",
       "      <td>1</td>\n",
       "      <td>1574980776000</td>\n",
       "      <td>0</td>\n",
       "      <td>0</td>\n",
       "      <td>0</td>\n",
       "      <td>0</td>\n",
       "      <td>0</td>\n",
       "      <td>0</td>\n",
       "      <td>NCLCPCJCOCGCJC</td>\n",
       "      <td>NaN</td>\n",
       "      <td>PCNCGCGCLCOCOCOCJCGC</td>\n",
       "      <td>22.0</td>\n",
       "      <td>21.0</td>\n",
       "      <td>2.0</td>\n",
       "      <td>6.0</td>\n",
       "      <td>0</td>\n",
       "      <td>1</td>\n",
       "      <td>0</td>\n",
       "    </tr>\n",
       "    <tr>\n",
       "      <th>1</th>\n",
       "      <td>NaN</td>\n",
       "      <td>25</td>\n",
       "      <td>6</td>\n",
       "      <td>1574684613000</td>\n",
       "      <td>0</td>\n",
       "      <td>0</td>\n",
       "      <td>0</td>\n",
       "      <td>0</td>\n",
       "      <td>0</td>\n",
       "      <td>0</td>\n",
       "      <td>KCNCOCNCMCOCMC</td>\n",
       "      <td>NaN</td>\n",
       "      <td>PCNCGCGCLCOCOCOCJCGC</td>\n",
       "      <td>22.0</td>\n",
       "      <td>21.0</td>\n",
       "      <td>2.0</td>\n",
       "      <td>6.0</td>\n",
       "      <td>0</td>\n",
       "      <td>1</td>\n",
       "      <td>0</td>\n",
       "    </tr>\n",
       "    <tr>\n",
       "      <th>2</th>\n",
       "      <td>[{'isZan': '0', 'isComment': '0', 'mlogId': 'K...</td>\n",
       "      <td>25</td>\n",
       "      <td>1</td>\n",
       "      <td>1574684241000</td>\n",
       "      <td>1</td>\n",
       "      <td>0</td>\n",
       "      <td>0</td>\n",
       "      <td>0</td>\n",
       "      <td>0</td>\n",
       "      <td>0</td>\n",
       "      <td>NCHCGCICLCPCGC</td>\n",
       "      <td>2.98</td>\n",
       "      <td>PCNCGCGCLCOCOCOCJCGC</td>\n",
       "      <td>22.0</td>\n",
       "      <td>21.0</td>\n",
       "      <td>2.0</td>\n",
       "      <td>6.0</td>\n",
       "      <td>0</td>\n",
       "      <td>1</td>\n",
       "      <td>0</td>\n",
       "    </tr>\n",
       "    <tr>\n",
       "      <th>3</th>\n",
       "      <td>NaN</td>\n",
       "      <td>15</td>\n",
       "      <td>3</td>\n",
       "      <td>1573767973000</td>\n",
       "      <td>0</td>\n",
       "      <td>0</td>\n",
       "      <td>0</td>\n",
       "      <td>0</td>\n",
       "      <td>0</td>\n",
       "      <td>0</td>\n",
       "      <td>PCNCNCPCICLCGC</td>\n",
       "      <td>NaN</td>\n",
       "      <td>PCNCGCGCLCOCOCOCJCGC</td>\n",
       "      <td>22.0</td>\n",
       "      <td>21.0</td>\n",
       "      <td>2.0</td>\n",
       "      <td>6.0</td>\n",
       "      <td>0</td>\n",
       "      <td>1</td>\n",
       "      <td>0</td>\n",
       "    </tr>\n",
       "    <tr>\n",
       "      <th>4</th>\n",
       "      <td>NaN</td>\n",
       "      <td>15</td>\n",
       "      <td>2</td>\n",
       "      <td>1573767973000</td>\n",
       "      <td>0</td>\n",
       "      <td>0</td>\n",
       "      <td>0</td>\n",
       "      <td>0</td>\n",
       "      <td>0</td>\n",
       "      <td>0</td>\n",
       "      <td>NCHCICPCOCLCOC</td>\n",
       "      <td>NaN</td>\n",
       "      <td>PCNCGCGCLCOCOCOCJCGC</td>\n",
       "      <td>22.0</td>\n",
       "      <td>21.0</td>\n",
       "      <td>2.0</td>\n",
       "      <td>6.0</td>\n",
       "      <td>0</td>\n",
       "      <td>1</td>\n",
       "      <td>0</td>\n",
       "    </tr>\n",
       "  </tbody>\n",
       "</table>\n",
       "</div>"
      ],
      "text/plain": [
       "                                  detailMlogInfoList  dt  impressPosition  \\\n",
       "0                                                NaN  29                1   \n",
       "1                                                NaN  25                6   \n",
       "2  [{'isZan': '0', 'isComment': '0', 'mlogId': 'K...  25                1   \n",
       "3                                                NaN  15                3   \n",
       "4                                                NaN  15                2   \n",
       "\n",
       "     impressTime  isClick  isComment  isIntoPersonalHomepage  isShare  \\\n",
       "0  1574980776000        0          0                       0        0   \n",
       "1  1574684613000        0          0                       0        0   \n",
       "2  1574684241000        1          0                       0        0   \n",
       "3  1573767973000        0          0                       0        0   \n",
       "4  1573767973000        0          0                       0        0   \n",
       "\n",
       "   isViewComment  isLike          mlogId  mlogViewTime                userId  \\\n",
       "0              0       0  NCLCPCJCOCGCJC           NaN  PCNCGCGCLCOCOCOCJCGC   \n",
       "1              0       0  KCNCOCNCMCOCMC           NaN  PCNCGCGCLCOCOCOCJCGC   \n",
       "2              0       0  NCHCGCICLCPCGC          2.98  PCNCGCGCLCOCOCOCJCGC   \n",
       "3              0       0  PCNCNCPCICLCGC           NaN  PCNCGCGCLCOCOCOCJCGC   \n",
       "4              0       0  NCHCICPCOCLCOC           NaN  PCNCGCGCLCOCOCOCJCGC   \n",
       "\n",
       "    age  registeredMonthCnt  followCnt  level  gender_female  gender_male  \\\n",
       "0  22.0                21.0        2.0    6.0              0            1   \n",
       "1  22.0                21.0        2.0    6.0              0            1   \n",
       "2  22.0                21.0        2.0    6.0              0            1   \n",
       "3  22.0                21.0        2.0    6.0              0            1   \n",
       "4  22.0                21.0        2.0    6.0              0            1   \n",
       "\n",
       "   gender_unknown  \n",
       "0               0  \n",
       "1               0  \n",
       "2               0  \n",
       "3               0  \n",
       "4               0  "
      ]
     },
     "execution_count": 78,
     "metadata": {},
     "output_type": "execute_result"
    }
   ],
   "source": [
    "# The major sample table ready for further sampling\n",
    "df_impression_c.head()"
   ]
  },
  {
   "cell_type": "code",
   "execution_count": 79,
   "metadata": {},
   "outputs": [
    {
     "data": {
      "text/html": [
       "<div>\n",
       "<style scoped>\n",
       "    .dataframe tbody tr th:only-of-type {\n",
       "        vertical-align: middle;\n",
       "    }\n",
       "\n",
       "    .dataframe tbody tr th {\n",
       "        vertical-align: top;\n",
       "    }\n",
       "\n",
       "    .dataframe thead th {\n",
       "        text-align: right;\n",
       "    }\n",
       "</style>\n",
       "<table border=\"1\" class=\"dataframe\">\n",
       "  <thead>\n",
       "    <tr style=\"text-align: right;\">\n",
       "      <th></th>\n",
       "      <th>detailMlogInfoList</th>\n",
       "      <th>dt</th>\n",
       "      <th>impressPosition</th>\n",
       "      <th>impressTime</th>\n",
       "      <th>isClick</th>\n",
       "      <th>isComment</th>\n",
       "      <th>isIntoPersonalHomepage</th>\n",
       "      <th>isShare</th>\n",
       "      <th>isViewComment</th>\n",
       "      <th>isLike</th>\n",
       "      <th>mlogId</th>\n",
       "      <th>mlogViewTime</th>\n",
       "      <th>userId</th>\n",
       "      <th>age</th>\n",
       "      <th>registeredMonthCnt</th>\n",
       "      <th>followCnt</th>\n",
       "      <th>level</th>\n",
       "      <th>gender_female</th>\n",
       "      <th>gender_male</th>\n",
       "      <th>gender_unknown</th>\n",
       "    </tr>\n",
       "  </thead>\n",
       "  <tbody>\n",
       "    <tr>\n",
       "      <th>0</th>\n",
       "      <td>NaN</td>\n",
       "      <td>29</td>\n",
       "      <td>1</td>\n",
       "      <td>1574980776000</td>\n",
       "      <td>0</td>\n",
       "      <td>0</td>\n",
       "      <td>0</td>\n",
       "      <td>0</td>\n",
       "      <td>0</td>\n",
       "      <td>0</td>\n",
       "      <td>NCLCPCJCOCGCJC</td>\n",
       "      <td>0.00</td>\n",
       "      <td>PCNCGCGCLCOCOCOCJCGC</td>\n",
       "      <td>22.0</td>\n",
       "      <td>21.0</td>\n",
       "      <td>2.0</td>\n",
       "      <td>6.0</td>\n",
       "      <td>0</td>\n",
       "      <td>1</td>\n",
       "      <td>0</td>\n",
       "    </tr>\n",
       "    <tr>\n",
       "      <th>1</th>\n",
       "      <td>NaN</td>\n",
       "      <td>25</td>\n",
       "      <td>6</td>\n",
       "      <td>1574684613000</td>\n",
       "      <td>0</td>\n",
       "      <td>0</td>\n",
       "      <td>0</td>\n",
       "      <td>0</td>\n",
       "      <td>0</td>\n",
       "      <td>0</td>\n",
       "      <td>KCNCOCNCMCOCMC</td>\n",
       "      <td>0.00</td>\n",
       "      <td>PCNCGCGCLCOCOCOCJCGC</td>\n",
       "      <td>22.0</td>\n",
       "      <td>21.0</td>\n",
       "      <td>2.0</td>\n",
       "      <td>6.0</td>\n",
       "      <td>0</td>\n",
       "      <td>1</td>\n",
       "      <td>0</td>\n",
       "    </tr>\n",
       "    <tr>\n",
       "      <th>2</th>\n",
       "      <td>[{'isZan': '0', 'isComment': '0', 'mlogId': 'K...</td>\n",
       "      <td>25</td>\n",
       "      <td>1</td>\n",
       "      <td>1574684241000</td>\n",
       "      <td>1</td>\n",
       "      <td>0</td>\n",
       "      <td>0</td>\n",
       "      <td>0</td>\n",
       "      <td>0</td>\n",
       "      <td>0</td>\n",
       "      <td>NCHCGCICLCPCGC</td>\n",
       "      <td>2.98</td>\n",
       "      <td>PCNCGCGCLCOCOCOCJCGC</td>\n",
       "      <td>22.0</td>\n",
       "      <td>21.0</td>\n",
       "      <td>2.0</td>\n",
       "      <td>6.0</td>\n",
       "      <td>0</td>\n",
       "      <td>1</td>\n",
       "      <td>0</td>\n",
       "    </tr>\n",
       "    <tr>\n",
       "      <th>3</th>\n",
       "      <td>NaN</td>\n",
       "      <td>15</td>\n",
       "      <td>3</td>\n",
       "      <td>1573767973000</td>\n",
       "      <td>0</td>\n",
       "      <td>0</td>\n",
       "      <td>0</td>\n",
       "      <td>0</td>\n",
       "      <td>0</td>\n",
       "      <td>0</td>\n",
       "      <td>PCNCNCPCICLCGC</td>\n",
       "      <td>0.00</td>\n",
       "      <td>PCNCGCGCLCOCOCOCJCGC</td>\n",
       "      <td>22.0</td>\n",
       "      <td>21.0</td>\n",
       "      <td>2.0</td>\n",
       "      <td>6.0</td>\n",
       "      <td>0</td>\n",
       "      <td>1</td>\n",
       "      <td>0</td>\n",
       "    </tr>\n",
       "    <tr>\n",
       "      <th>4</th>\n",
       "      <td>NaN</td>\n",
       "      <td>15</td>\n",
       "      <td>2</td>\n",
       "      <td>1573767973000</td>\n",
       "      <td>0</td>\n",
       "      <td>0</td>\n",
       "      <td>0</td>\n",
       "      <td>0</td>\n",
       "      <td>0</td>\n",
       "      <td>0</td>\n",
       "      <td>NCHCICPCOCLCOC</td>\n",
       "      <td>0.00</td>\n",
       "      <td>PCNCGCGCLCOCOCOCJCGC</td>\n",
       "      <td>22.0</td>\n",
       "      <td>21.0</td>\n",
       "      <td>2.0</td>\n",
       "      <td>6.0</td>\n",
       "      <td>0</td>\n",
       "      <td>1</td>\n",
       "      <td>0</td>\n",
       "    </tr>\n",
       "  </tbody>\n",
       "</table>\n",
       "</div>"
      ],
      "text/plain": [
       "                                  detailMlogInfoList  dt  impressPosition  \\\n",
       "0                                                NaN  29                1   \n",
       "1                                                NaN  25                6   \n",
       "2  [{'isZan': '0', 'isComment': '0', 'mlogId': 'K...  25                1   \n",
       "3                                                NaN  15                3   \n",
       "4                                                NaN  15                2   \n",
       "\n",
       "     impressTime  isClick  isComment  isIntoPersonalHomepage  isShare  \\\n",
       "0  1574980776000        0          0                       0        0   \n",
       "1  1574684613000        0          0                       0        0   \n",
       "2  1574684241000        1          0                       0        0   \n",
       "3  1573767973000        0          0                       0        0   \n",
       "4  1573767973000        0          0                       0        0   \n",
       "\n",
       "   isViewComment  isLike          mlogId  mlogViewTime                userId  \\\n",
       "0              0       0  NCLCPCJCOCGCJC          0.00  PCNCGCGCLCOCOCOCJCGC   \n",
       "1              0       0  KCNCOCNCMCOCMC          0.00  PCNCGCGCLCOCOCOCJCGC   \n",
       "2              0       0  NCHCGCICLCPCGC          2.98  PCNCGCGCLCOCOCOCJCGC   \n",
       "3              0       0  PCNCNCPCICLCGC          0.00  PCNCGCGCLCOCOCOCJCGC   \n",
       "4              0       0  NCHCICPCOCLCOC          0.00  PCNCGCGCLCOCOCOCJCGC   \n",
       "\n",
       "    age  registeredMonthCnt  followCnt  level  gender_female  gender_male  \\\n",
       "0  22.0                21.0        2.0    6.0              0            1   \n",
       "1  22.0                21.0        2.0    6.0              0            1   \n",
       "2  22.0                21.0        2.0    6.0              0            1   \n",
       "3  22.0                21.0        2.0    6.0              0            1   \n",
       "4  22.0                21.0        2.0    6.0              0            1   \n",
       "\n",
       "   gender_unknown  \n",
       "0               0  \n",
       "1               0  \n",
       "2               0  \n",
       "3               0  \n",
       "4               0  "
      ]
     },
     "execution_count": 79,
     "metadata": {},
     "output_type": "execute_result"
    }
   ],
   "source": [
    "df_impression_c['mlogViewTime'] = df_impression_c['mlogViewTime'].fillna(0)\n",
    "df_impression_c.head()"
   ]
  },
  {
   "cell_type": "code",
   "execution_count": 80,
   "metadata": {},
   "outputs": [
    {
     "data": {
      "text/plain": [
       "250000"
      ]
     },
     "execution_count": 80,
     "metadata": {},
     "output_type": "execute_result"
    }
   ],
   "source": [
    "df_impression = df_impression_c.sample(n=250000)                # Try on small sample of the data first \n",
    "df_impression.head()\n",
    "len(df_impression)"
   ]
  },
  {
   "cell_type": "code",
   "execution_count": 81,
   "metadata": {},
   "outputs": [
    {
     "data": {
      "text/plain": [
       "173419"
      ]
     },
     "execution_count": 81,
     "metadata": {},
     "output_type": "execute_result"
    }
   ],
   "source": [
    "df_change = df_impression.drop_duplicates(subset=['userId'])   # To make sure all the users' action record that we're gonna use has its corresponding demographic records\n",
    "len(df_change)                                                 # Only choose the users that have both info. "
   ]
  },
  {
   "cell_type": "code",
   "execution_count": 82,
   "metadata": {},
   "outputs": [
    {
     "data": {
      "text/html": [
       "<div>\n",
       "<style scoped>\n",
       "    .dataframe tbody tr th:only-of-type {\n",
       "        vertical-align: middle;\n",
       "    }\n",
       "\n",
       "    .dataframe tbody tr th {\n",
       "        vertical-align: top;\n",
       "    }\n",
       "\n",
       "    .dataframe thead th {\n",
       "        text-align: right;\n",
       "    }\n",
       "</style>\n",
       "<table border=\"1\" class=\"dataframe\">\n",
       "  <thead>\n",
       "    <tr style=\"text-align: right;\">\n",
       "      <th></th>\n",
       "      <th>userFrequency</th>\n",
       "    </tr>\n",
       "  </thead>\n",
       "  <tbody>\n",
       "    <tr>\n",
       "      <th>count</th>\n",
       "      <td>173419.000000</td>\n",
       "    </tr>\n",
       "    <tr>\n",
       "      <th>mean</th>\n",
       "      <td>1.441595</td>\n",
       "    </tr>\n",
       "    <tr>\n",
       "      <th>std</th>\n",
       "      <td>1.565821</td>\n",
       "    </tr>\n",
       "    <tr>\n",
       "      <th>min</th>\n",
       "      <td>1.000000</td>\n",
       "    </tr>\n",
       "    <tr>\n",
       "      <th>25%</th>\n",
       "      <td>1.000000</td>\n",
       "    </tr>\n",
       "    <tr>\n",
       "      <th>50%</th>\n",
       "      <td>1.000000</td>\n",
       "    </tr>\n",
       "    <tr>\n",
       "      <th>75%</th>\n",
       "      <td>1.000000</td>\n",
       "    </tr>\n",
       "    <tr>\n",
       "      <th>max</th>\n",
       "      <td>96.000000</td>\n",
       "    </tr>\n",
       "  </tbody>\n",
       "</table>\n",
       "</div>"
      ],
      "text/plain": [
       "       userFrequency\n",
       "count  173419.000000\n",
       "mean        1.441595\n",
       "std         1.565821\n",
       "min         1.000000\n",
       "25%         1.000000\n",
       "50%         1.000000\n",
       "75%         1.000000\n",
       "max        96.000000"
      ]
     },
     "execution_count": 82,
     "metadata": {},
     "output_type": "execute_result"
    }
   ],
   "source": [
    "df_name_rk = df_impression.value_counts(subset='userId')\n",
    "df_name_rk = df_name_rk.to_frame()                      \n",
    "\n",
    "df_name_rk = df_name_rk.rename(columns={0:'userFrequency'})\n",
    "df_name_rk.head()\n",
    "df_name_rk.describe()"
   ]
  },
  {
   "cell_type": "code",
   "execution_count": 83,
   "metadata": {},
   "outputs": [
    {
     "data": {
      "text/plain": [
       "37398"
      ]
     },
     "execution_count": 83,
     "metadata": {},
     "output_type": "execute_result"
    }
   ],
   "source": [
    "# Drop users who only have 2 or less record. Because their stastics for training and testing are too random\n",
    "df_name_rk_1 = df_name_rk[df_name_rk['userFrequency']<=4] \n",
    "dict = df_name_rk_1.to_dict('index')\n",
    "a = list(dict.keys())\n",
    "df_impression = df_impression[~df_impression['userId'].isin(a)]\n",
    "len(df_impression)\n"
   ]
  },
  {
   "cell_type": "code",
   "execution_count": 84,
   "metadata": {},
   "outputs": [
    {
     "data": {
      "text/plain": [
       "4560"
      ]
     },
     "execution_count": 84,
     "metadata": {},
     "output_type": "execute_result"
    }
   ],
   "source": [
    "df_user_name_arr = df_impression['userId'].unique()\n",
    "len(df_user_name_arr)"
   ]
  },
  {
   "cell_type": "code",
   "execution_count": 85,
   "metadata": {},
   "outputs": [
    {
     "name": "stdout",
     "output_type": "stream",
     "text": [
      "100,200,300,400,500,600,700,800,900,1000,1100,1200,1300,1400,1500,1600,1700,1800,1900,2000,2100,2200,2300,2400,2500,2600,2700,2800,2900,3000,3100,3200,3300,3400,3500,3600,3700,3800,3900,4000,4100,4200,4300,4400,4500,4600,4700,4800,4900,5000,5100,5200,5300,5400,5500,5600,5700,5800,5900,6000,6100,6200,6300,6400,6500,6600,6700,6800,6900,7000,7100,7200,7300,7400,7500,7600,7700,7800,7900,8000,8100,8200,8300,8400,8500,8600,8700,8800,8900,9000,9100,9200,9300,9400,9500,9600,9700,9800,9900,10000,10100,10200,10300,10400,10500,10600,10700,10800,10900,11000,11100,11200,11300,11400,11500,11600,11700,11800,11900,12000,12100,12200,12300,12400,12500,12600,12700,12800,12900,13000,13100,13200,13300,13400,13500,13600,13700,13800,13900,14000,14100,14200,14300,14400,14500,14600,14700,14800,14900,15000,15100,15200,15300,15400,15500,15600,15700,15800,15900,16000,16100,16200,16300,16400,16500,16600,16700,16800,16900,17000,17100,17200,17300,17400,17500,17600,17700,17800,17900,18000,18100,18200,18300,18400,18500,18600,18700,18800,18900,19000,19100,19200,19300,19400,19500,19600,19700,19800,19900,20000,20100,20200,20300,20400,20500,20600,20700,20800,20900,21000,21100,21200,21300,21400,21500,21600,21700,21800,21900,22000,22100,22200,22300,22400,22500,22600,22700,22800,22900,23000,23100,23200,23300,23400,23500,23600,23700,23800,23900,24000,24100,24200,24300,24400,24500,24600,24700,24800,24900,25000,25100,25200,25300,25400,25500,25600,25700,25800,25900,26000,26100,26200,26300,26400,26500,26600,26700,26800,26900,27000,27100,27200,27300,27400,27500,27600,27700,27800,27900,28000,28100,28200,28300,28400,28500,28600,28700,28800,28900,29000,29100,29200,29300,29400,29500,29600,29700,29800,29900,30000,30100,30200,30300,30400,30500,30600,30700,30800,30900,31000,31100,31200,31300,31400,31500,31600,31700,31800,31900,32000,32100,32200,32300,32400,32500,32600,32700,32800,32900,33000,33100,33200,33300,33400,33500,33600,33700,33800,33900,34000,34100,34200,34300,34400,34500,34600,34700,34800,34900,35000,35100,35200,35300,35400,35500,35600,35700,35800,35900,36000,36100,36200,36300,36400,36500,36600,36700,36800,36900,37000,37100,37200,37300,"
     ]
    }
   ],
   "source": [
    "# According to the dataset description, this is the nested data hidden in the ['detailMlogInfoList']\n",
    "extra_view_time = []\n",
    "count = 0 # Track the progress of the transition\n",
    "for index,row in df_impression.iterrows():\n",
    "    if isinstance(df_impression['detailMlogInfoList'][index],float):\n",
    "        extra_view_time.append(0)\n",
    "    else:\n",
    "        str_1 = df_impression['detailMlogInfoList'][index]\n",
    "        substr = 'mlogViewTime'\n",
    "        addIndex = len(substr)\n",
    "        res_start = [i for i in range(len(str_1)) if str_1.startswith(substr, i)]\n",
    "        # print(\"The start indices of the substrings are : \" + str(res_start))\n",
    "\n",
    "        substr = 'isShare'\n",
    "        res_end = [i for i in range(len(str_1)) if str_1.startswith(substr, i)]\n",
    "        # print(\"The start indices of the substrings are : \" + str(res_end))\n",
    "\n",
    "        num_to_add = 0\n",
    "        for IndexInList in range(len(res_start)):\n",
    "            start = res_start[IndexInList] + addIndex + 4\n",
    "            end = res_end[IndexInList] - 4\n",
    "            num_to_add+= float(str_1[start:end])\n",
    "        # print(num_to_add)\n",
    "        extra_view_time.append(num_to_add)\n",
    "    count+=1\n",
    "    if count%100 == 0:\n",
    "        print(count,end=',')"
   ]
  },
  {
   "cell_type": "code",
   "execution_count": 86,
   "metadata": {},
   "outputs": [
    {
     "name": "stdout",
     "output_type": "stream",
     "text": [
      "100,200,300,400,500,600,700,800,900,1000,1100,1200,1300,1400,1500,1600,1700,1800,1900,2000,2100,2200,2300,2400,2500,2600,2700,2800,2900,3000,3100,3200,3300,3400,3500,3600,3700,3800,3900,4000,4100,4200,4300,4400,4500,4600,4700,4800,4900,5000,5100,5200,5300,5400,5500,5600,5700,5800,5900,6000,6100,6200,6300,6400,6500,6600,6700,6800,6900,7000,7100,7200,7300,7400,7500,7600,7700,7800,7900,8000,8100,8200,8300,8400,8500,8600,8700,8800,8900,9000,9100,9200,9300,9400,9500,9600,9700,9800,9900,10000,10100,10200,10300,10400,10500,10600,10700,10800,10900,11000,11100,11200,11300,11400,11500,11600,11700,11800,11900,12000,12100,12200,12300,12400,12500,12600,12700,12800,12900,13000,13100,13200,13300,13400,13500,13600,13700,13800,13900,14000,14100,14200,14300,14400,14500,14600,14700,14800,14900,15000,15100,15200,15300,15400,15500,15600,15700,15800,15900,16000,16100,16200,16300,16400,16500,16600,16700,16800,16900,17000,17100,17200,17300,17400,17500,17600,17700,17800,17900,18000,18100,18200,18300,18400,18500,18600,18700,18800,18900,19000,19100,19200,19300,19400,19500,19600,19700,19800,19900,20000,20100,20200,20300,20400,20500,20600,20700,20800,20900,21000,21100,21200,21300,21400,21500,21600,21700,21800,21900,22000,22100,22200,22300,22400,22500,22600,22700,22800,22900,23000,23100,23200,23300,23400,23500,23600,23700,23800,23900,24000,24100,24200,24300,24400,24500,24600,24700,24800,24900,25000,25100,25200,25300,25400,25500,25600,25700,25800,25900,26000,26100,26200,26300,26400,26500,26600,26700,26800,26900,27000,27100,27200,27300,27400,27500,27600,27700,27800,27900,28000,28100,28200,28300,28400,28500,28600,28700,28800,28900,29000,29100,29200,29300,29400,29500,29600,29700,29800,29900,30000,30100,30200,30300,30400,30500,30600,30700,30800,30900,31000,31100,31200,31300,31400,31500,31600,31700,31800,31900,32000,32100,32200,32300,32400,32500,32600,32700,32800,32900,33000,33100,33200,33300,33400,33500,33600,33700,33800,33900,34000,34100,34200,34300,34400,34500,34600,34700,34800,34900,35000,35100,35200,35300,35400,35500,35600,35700,35800,35900,36000,36100,36200,36300,36400,36500,36600,36700,36800,36900,37000,37100,37200,37300,"
     ]
    }
   ],
   "source": [
    "# According to the dataset description, this is the nested Zan hidden in the ['detailMlogInfoList']\n",
    "extra_like = []\n",
    "count = 0 # Track the progress of the transition\n",
    "for index,row in df_impression.iterrows():\n",
    "    if isinstance(df_impression['detailMlogInfoList'][index],float):\n",
    "        extra_like.append(0)\n",
    "    else:\n",
    "        str_1 = df_impression['detailMlogInfoList'][index]\n",
    "        substr = 'isZan'\n",
    "        addIndex = len(substr)\n",
    "        res_start = [i for i in range(len(str_1)) if str_1.startswith(substr, i)]\n",
    "        # print(\"The start indices of the substrings are : \" + str(res_start))\n",
    "\n",
    "        substr = 'isComment'\n",
    "        res_end = [i for i in range(len(str_1)) if str_1.startswith(substr, i)]\n",
    "        # print(\"The start indices of the substrings are : \" + str(res_end))\n",
    "\n",
    "        num_to_add = 0\n",
    "        for IndexInList in range(len(res_start)):\n",
    "            start = res_start[IndexInList] + addIndex + 4\n",
    "            end = res_end[IndexInList] - 4\n",
    "            num_to_add+= float(str_1[start:end])\n",
    "        # print(num_to_add)\n",
    "        extra_like.append(num_to_add)\n",
    "    count+=1\n",
    "    if count%100 == 0:\n",
    "        print(count,end=',')"
   ]
  },
  {
   "cell_type": "code",
   "execution_count": 87,
   "metadata": {},
   "outputs": [
    {
     "name": "stdout",
     "output_type": "stream",
     "text": [
      "100,200,300,400,500,600,700,800,900,1000,1100,1200,1300,1400,1500,1600,1700,1800,1900,2000,2100,2200,2300,2400,2500,2600,2700,2800,2900,3000,3100,3200,3300,3400,3500,3600,3700,3800,3900,4000,4100,4200,4300,4400,4500,4600,4700,4800,4900,5000,5100,5200,5300,5400,5500,5600,5700,5800,5900,6000,6100,6200,6300,6400,6500,6600,6700,6800,6900,7000,7100,7200,7300,7400,7500,7600,7700,7800,7900,8000,8100,8200,8300,8400,8500,8600,8700,8800,8900,9000,9100,9200,9300,9400,9500,9600,9700,9800,9900,10000,10100,10200,10300,10400,10500,10600,10700,10800,10900,11000,11100,11200,11300,11400,11500,11600,11700,11800,11900,12000,12100,12200,12300,12400,12500,12600,12700,12800,12900,13000,13100,13200,13300,13400,13500,13600,13700,13800,13900,14000,14100,14200,14300,14400,14500,14600,14700,14800,14900,15000,15100,15200,15300,15400,15500,15600,15700,15800,15900,16000,16100,16200,16300,16400,16500,16600,16700,16800,16900,17000,17100,17200,17300,17400,17500,17600,17700,17800,17900,18000,18100,18200,18300,18400,18500,18600,18700,18800,18900,19000,19100,19200,19300,19400,19500,19600,19700,19800,19900,20000,20100,20200,20300,20400,20500,20600,20700,20800,20900,21000,21100,21200,21300,21400,21500,21600,21700,21800,21900,22000,22100,22200,22300,22400,22500,22600,22700,22800,22900,23000,23100,23200,23300,23400,23500,23600,23700,23800,23900,24000,24100,24200,24300,24400,24500,24600,24700,24800,24900,25000,25100,25200,25300,25400,25500,25600,25700,25800,25900,26000,26100,26200,26300,26400,26500,26600,26700,26800,26900,27000,27100,27200,27300,27400,27500,27600,27700,27800,27900,28000,28100,28200,28300,28400,28500,28600,28700,28800,28900,29000,29100,29200,29300,29400,29500,29600,29700,29800,29900,30000,30100,30200,30300,30400,30500,30600,30700,30800,30900,31000,31100,31200,31300,31400,31500,31600,31700,31800,31900,32000,32100,32200,32300,32400,32500,32600,32700,32800,32900,33000,33100,33200,33300,33400,33500,33600,33700,33800,33900,34000,34100,34200,34300,34400,34500,34600,34700,34800,34900,35000,35100,35200,35300,35400,35500,35600,35700,35800,35900,36000,36100,36200,36300,36400,36500,36600,36700,36800,36900,37000,37100,37200,37300,"
     ]
    }
   ],
   "source": [
    "# According to the dataset description, this is the nested Zan hidden in the ['detailMlogInfoList']\n",
    "extra_comment = []\n",
    "count = 0 # Track the progress of the transition\n",
    "for index,row in df_impression.iterrows():\n",
    "    if isinstance(df_impression['detailMlogInfoList'][index],float):\n",
    "        extra_comment.append(0)\n",
    "    else:\n",
    "        str_1 = df_impression['detailMlogInfoList'][index]\n",
    "        substr = 'isComment'\n",
    "        addIndex = len(substr)\n",
    "        res_start = [i for i in range(len(str_1)) if str_1.startswith(substr, i)]\n",
    "        # print(\"The start indices of the substrings are : \" + str(res_start))\n",
    "\n",
    "        substr = 'mlogId'\n",
    "        res_end = [i for i in range(len(str_1)) if str_1.startswith(substr, i)]\n",
    "        # print(\"The start indices of the substrings are : \" + str(res_end))\n",
    "\n",
    "        num_to_add = 0\n",
    "        for IndexInList in range(len(res_start)):\n",
    "            start = res_start[IndexInList] + addIndex + 4\n",
    "            end = res_end[IndexInList] - 4\n",
    "            num_to_add+= float(str_1[start:end])\n",
    "        # print(num_to_add)\n",
    "        extra_comment.append(num_to_add)\n",
    "    count+=1\n",
    "    if count%100 == 0:\n",
    "        print(count,end=',')"
   ]
  },
  {
   "cell_type": "code",
   "execution_count": 88,
   "metadata": {},
   "outputs": [
    {
     "name": "stdout",
     "output_type": "stream",
     "text": [
      "100,200,300,400,500,600,700,800,900,1000,1100,1200,1300,1400,1500,1600,1700,1800,1900,2000,2100,2200,2300,2400,2500,2600,2700,2800,2900,3000,3100,3200,3300,3400,3500,3600,3700,3800,3900,4000,4100,4200,4300,4400,4500,4600,4700,4800,4900,5000,5100,5200,5300,5400,5500,5600,5700,5800,5900,6000,6100,6200,6300,6400,6500,6600,6700,6800,6900,7000,7100,7200,7300,7400,7500,7600,7700,7800,7900,8000,8100,8200,8300,8400,8500,8600,8700,8800,8900,9000,9100,9200,9300,9400,9500,9600,9700,9800,9900,10000,10100,10200,10300,10400,10500,10600,10700,10800,10900,11000,11100,11200,11300,11400,11500,11600,11700,11800,11900,12000,12100,12200,12300,12400,12500,12600,12700,12800,12900,13000,13100,13200,13300,13400,13500,13600,13700,13800,13900,14000,14100,14200,14300,14400,14500,14600,14700,14800,14900,15000,15100,15200,15300,15400,15500,15600,15700,15800,15900,16000,16100,16200,16300,16400,16500,16600,16700,16800,16900,17000,17100,17200,17300,17400,17500,17600,17700,17800,17900,18000,18100,18200,18300,18400,18500,18600,18700,18800,18900,19000,19100,19200,19300,19400,19500,19600,19700,19800,19900,20000,20100,20200,20300,20400,20500,20600,20700,20800,20900,21000,21100,21200,21300,21400,21500,21600,21700,21800,21900,22000,22100,22200,22300,22400,22500,22600,22700,22800,22900,23000,23100,23200,23300,23400,23500,23600,23700,23800,23900,24000,24100,24200,24300,24400,24500,24600,24700,24800,24900,25000,25100,25200,25300,25400,25500,25600,25700,25800,25900,26000,26100,26200,26300,26400,26500,26600,26700,26800,26900,27000,27100,27200,27300,27400,27500,27600,27700,27800,27900,28000,28100,28200,28300,28400,28500,28600,28700,28800,28900,29000,29100,29200,29300,29400,29500,29600,29700,29800,29900,30000,30100,30200,30300,30400,30500,30600,30700,30800,30900,31000,31100,31200,31300,31400,31500,31600,31700,31800,31900,32000,32100,32200,32300,32400,32500,32600,32700,32800,32900,33000,33100,33200,33300,33400,33500,33600,33700,33800,33900,34000,34100,34200,34300,34400,34500,34600,34700,34800,34900,35000,35100,35200,35300,35400,35500,35600,35700,35800,35900,36000,36100,36200,36300,36400,36500,36600,36700,36800,36900,37000,37100,37200,37300,"
     ]
    }
   ],
   "source": [
    "# According to the dataset description, this is the nested Zan hidden in the ['detailMlogInfoList']\n",
    "extra_IPH = []\n",
    "count = 0 # Track the progress of the transition\n",
    "for index,row in df_impression.iterrows():\n",
    "    if isinstance(df_impression['detailMlogInfoList'][index],float):\n",
    "        extra_IPH.append(0)\n",
    "    else:\n",
    "        str_1 = df_impression['detailMlogInfoList'][index]\n",
    "        substr = 'isIntoPersonalHomepage'\n",
    "        addIndex = len(substr)\n",
    "        res_start = [i for i in range(len(str_1)) if str_1.startswith(substr, i)]\n",
    "        # print(\"The start indices of the substrings are : \" + str(res_start))\n",
    "\n",
    "        substr = 'mlogViewTime'\n",
    "        res_end = [i for i in range(len(str_1)) if str_1.startswith(substr, i)]\n",
    "        # print(\"The start indices of the substrings are : \" + str(res_end))\n",
    "\n",
    "        num_to_add = 0\n",
    "        for IndexInList in range(len(res_start)):\n",
    "            start = res_start[IndexInList] + addIndex + 4\n",
    "            end = res_end[IndexInList] - 4\n",
    "            num_to_add+= float(str_1[start:end])\n",
    "        # print(num_to_add)\n",
    "        extra_IPH.append(num_to_add)\n",
    "    count+=1\n",
    "    if count%100 == 0:\n",
    "        print(count,end=',')"
   ]
  },
  {
   "cell_type": "code",
   "execution_count": 89,
   "metadata": {},
   "outputs": [
    {
     "name": "stdout",
     "output_type": "stream",
     "text": [
      "100,200,300,400,500,600,700,800,900,1000,1100,1200,1300,1400,1500,1600,1700,1800,1900,2000,2100,2200,2300,2400,2500,2600,2700,2800,2900,3000,3100,3200,3300,3400,3500,3600,3700,3800,3900,4000,4100,4200,4300,4400,4500,4600,4700,4800,4900,5000,5100,5200,5300,5400,5500,5600,5700,5800,5900,6000,6100,6200,6300,6400,6500,6600,6700,6800,6900,7000,7100,7200,7300,7400,7500,7600,7700,7800,7900,8000,8100,8200,8300,8400,8500,8600,8700,8800,8900,9000,9100,9200,9300,9400,9500,9600,9700,9800,9900,10000,10100,10200,10300,10400,10500,10600,10700,10800,10900,11000,11100,11200,11300,11400,11500,11600,11700,11800,11900,12000,12100,12200,12300,12400,12500,12600,12700,12800,12900,13000,13100,13200,13300,13400,13500,13600,13700,13800,13900,14000,14100,14200,14300,14400,14500,14600,14700,14800,14900,15000,15100,15200,15300,15400,15500,15600,15700,15800,15900,16000,16100,16200,16300,16400,16500,16600,16700,16800,16900,17000,17100,17200,17300,17400,17500,17600,17700,17800,17900,18000,18100,18200,18300,18400,18500,18600,18700,18800,18900,19000,19100,19200,19300,19400,19500,19600,19700,19800,19900,20000,20100,20200,20300,20400,20500,20600,20700,20800,20900,21000,21100,21200,21300,21400,21500,21600,21700,21800,21900,22000,22100,22200,22300,22400,22500,22600,22700,22800,22900,23000,23100,23200,23300,23400,23500,23600,23700,23800,23900,24000,24100,24200,24300,24400,24500,24600,24700,24800,24900,25000,25100,25200,25300,25400,25500,25600,25700,25800,25900,26000,26100,26200,26300,26400,26500,26600,26700,26800,26900,27000,27100,27200,27300,27400,27500,27600,27700,27800,27900,28000,28100,28200,28300,28400,28500,28600,28700,28800,28900,29000,29100,29200,29300,29400,29500,29600,29700,29800,29900,30000,30100,30200,30300,30400,30500,30600,30700,30800,30900,31000,31100,31200,31300,31400,31500,31600,31700,31800,31900,32000,32100,32200,32300,32400,32500,32600,32700,32800,32900,33000,33100,33200,33300,33400,33500,33600,33700,33800,33900,34000,34100,34200,34300,34400,34500,34600,34700,34800,34900,35000,35100,35200,35300,35400,35500,35600,35700,35800,35900,36000,36100,36200,36300,36400,36500,36600,36700,36800,36900,37000,37100,37200,37300,"
     ]
    }
   ],
   "source": [
    "# According to the dataset description, this is the nested Zan hidden in the ['detailMlogInfoList']\n",
    "extra_share = []\n",
    "count = 0 # Track the progress of the transition\n",
    "for index,row in df_impression.iterrows():\n",
    "    if isinstance(df_impression['detailMlogInfoList'][index],float):\n",
    "        extra_share.append(0)\n",
    "    else:\n",
    "        str_1 = df_impression['detailMlogInfoList'][index]\n",
    "        substr = 'isShare'\n",
    "        addIndex = len(substr)\n",
    "        res_start = [i for i in range(len(str_1)) if str_1.startswith(substr, i)]\n",
    "        # print(\"The start indices of the substrings are : \" + str(res_start))\n",
    "\n",
    "        substr = 'isViewComment'\n",
    "        res_end = [i for i in range(len(str_1)) if str_1.startswith(substr, i)]\n",
    "        # print(\"The start indices of the substrings are : \" + str(res_end))\n",
    "\n",
    "        num_to_add = 0\n",
    "        for IndexInList in range(len(res_start)):\n",
    "            start = res_start[IndexInList] + addIndex + 4\n",
    "            end = res_end[IndexInList] - 4\n",
    "            num_to_add+= float(str_1[start:end])\n",
    "        # print(num_to_add)\n",
    "        extra_share.append(num_to_add)\n",
    "    count+=1\n",
    "    if count%100 == 0:\n",
    "        print(count,end=',')"
   ]
  },
  {
   "cell_type": "code",
   "execution_count": 90,
   "metadata": {},
   "outputs": [
    {
     "name": "stdout",
     "output_type": "stream",
     "text": [
      "100,200,300,400,500,600,700,800,900,1000,1100,1200,1300,1400,1500,1600,1700,1800,1900,2000,2100,2200,2300,2400,2500,2600,2700,2800,2900,3000,3100,3200,3300,3400,3500,3600,3700,3800,3900,4000,4100,4200,4300,4400,4500,4600,4700,4800,4900,5000,5100,5200,5300,5400,5500,5600,5700,5800,5900,6000,6100,6200,6300,6400,6500,6600,6700,6800,6900,7000,7100,7200,7300,7400,7500,7600,7700,7800,7900,8000,8100,8200,8300,8400,8500,8600,8700,8800,8900,9000,9100,9200,9300,9400,9500,9600,9700,9800,9900,10000,10100,10200,10300,10400,10500,10600,10700,10800,10900,11000,11100,11200,11300,11400,11500,11600,11700,11800,11900,12000,12100,12200,12300,12400,12500,12600,12700,12800,12900,13000,13100,13200,13300,13400,13500,13600,13700,13800,13900,14000,14100,14200,14300,14400,14500,14600,14700,14800,14900,15000,15100,15200,15300,15400,15500,15600,15700,15800,15900,16000,16100,16200,16300,16400,16500,16600,16700,16800,16900,17000,17100,17200,17300,17400,17500,17600,17700,17800,17900,18000,18100,18200,18300,18400,18500,18600,18700,18800,18900,19000,19100,19200,19300,19400,19500,19600,19700,19800,19900,20000,20100,20200,20300,20400,20500,20600,20700,20800,20900,21000,21100,21200,21300,21400,21500,21600,21700,21800,21900,22000,22100,22200,22300,22400,22500,22600,22700,22800,22900,23000,23100,23200,23300,23400,23500,23600,23700,23800,23900,24000,24100,24200,24300,24400,24500,24600,24700,24800,24900,25000,25100,25200,25300,25400,25500,25600,25700,25800,25900,26000,26100,26200,26300,26400,26500,26600,26700,26800,26900,27000,27100,27200,27300,27400,27500,27600,27700,27800,27900,28000,28100,28200,28300,28400,28500,28600,28700,28800,28900,29000,29100,29200,29300,29400,29500,29600,29700,29800,29900,30000,30100,30200,30300,30400,30500,30600,30700,30800,30900,31000,31100,31200,31300,31400,31500,31600,31700,31800,31900,32000,32100,32200,32300,32400,32500,32600,32700,32800,32900,33000,33100,33200,33300,33400,33500,33600,33700,33800,33900,34000,34100,34200,34300,34400,34500,34600,34700,34800,34900,35000,35100,35200,35300,35400,35500,35600,35700,35800,35900,36000,36100,36200,36300,36400,36500,36600,36700,36800,36900,37000,37100,37200,37300,"
     ]
    }
   ],
   "source": [
    "# According to the dataset description, this is the nested Zan hidden in the ['detailMlogInfoList']\n",
    "extra_VC = []\n",
    "count = 0 # Track the progress of the transition\n",
    "for index,row in df_impression.iterrows():\n",
    "    if isinstance(df_impression['detailMlogInfoList'][index],float):\n",
    "        extra_VC.append(0)\n",
    "    else:\n",
    "        str_1 = df_impression['detailMlogInfoList'][index]\n",
    "        substr = 'isViewComment'\n",
    "        addIndex = len(substr)\n",
    "        res_start = [i for i in range(len(str_1)) if str_1.startswith(substr, i)]\n",
    "        # print(\"The start indices of the substrings are : \" + str(res_start))\n",
    "\n",
    "        substr = 'position'\n",
    "        res_end = [i for i in range(len(str_1)) if str_1.startswith(substr, i)]\n",
    "        # print(\"The start indices of the substrings are : \" + str(res_end))\n",
    "\n",
    "        num_to_add = 0\n",
    "        for IndexInList in range(len(res_start)):\n",
    "            start = res_start[IndexInList] + addIndex + 4\n",
    "            end = res_end[IndexInList] - 4\n",
    "            num_to_add+= float(str_1[start:end])\n",
    "        # print(num_to_add)\n",
    "        extra_VC.append(num_to_add)\n",
    "    count+=1\n",
    "    if count%100 == 0:\n",
    "        print(count,end=',')"
   ]
  },
  {
   "cell_type": "code",
   "execution_count": 91,
   "metadata": {},
   "outputs": [],
   "source": [
    "df_impression['extra_view_time'] = extra_view_time\n",
    "df_impression['extra_like'] = extra_like\n",
    "df_impression['extra_IPH'] = extra_IPH\n",
    "df_impression['extra_Share'] = extra_share\n",
    "df_impression['extra_VC'] = extra_VC\n",
    "df_impression['extra_comment'] = extra_comment\n"
   ]
  },
  {
   "cell_type": "code",
   "execution_count": 92,
   "metadata": {},
   "outputs": [
    {
     "data": {
      "text/html": [
       "<div>\n",
       "<style scoped>\n",
       "    .dataframe tbody tr th:only-of-type {\n",
       "        vertical-align: middle;\n",
       "    }\n",
       "\n",
       "    .dataframe tbody tr th {\n",
       "        vertical-align: top;\n",
       "    }\n",
       "\n",
       "    .dataframe thead th {\n",
       "        text-align: right;\n",
       "    }\n",
       "</style>\n",
       "<table border=\"1\" class=\"dataframe\">\n",
       "  <thead>\n",
       "    <tr style=\"text-align: right;\">\n",
       "      <th></th>\n",
       "      <th>detailMlogInfoList</th>\n",
       "      <th>dt</th>\n",
       "      <th>impressPosition</th>\n",
       "      <th>impressTime</th>\n",
       "      <th>isClick</th>\n",
       "      <th>isComment</th>\n",
       "      <th>isIntoPersonalHomepage</th>\n",
       "      <th>isShare</th>\n",
       "      <th>isViewComment</th>\n",
       "      <th>isLike</th>\n",
       "      <th>...</th>\n",
       "      <th>level</th>\n",
       "      <th>gender_female</th>\n",
       "      <th>gender_male</th>\n",
       "      <th>gender_unknown</th>\n",
       "      <th>extra_view_time</th>\n",
       "      <th>extra_like</th>\n",
       "      <th>extra_IPH</th>\n",
       "      <th>extra_Share</th>\n",
       "      <th>extra_VC</th>\n",
       "      <th>extra_comment</th>\n",
       "    </tr>\n",
       "  </thead>\n",
       "  <tbody>\n",
       "    <tr>\n",
       "      <th>49320237</th>\n",
       "      <td>NaN</td>\n",
       "      <td>9</td>\n",
       "      <td>185</td>\n",
       "      <td>1573280077000</td>\n",
       "      <td>0</td>\n",
       "      <td>0</td>\n",
       "      <td>0</td>\n",
       "      <td>0</td>\n",
       "      <td>0</td>\n",
       "      <td>0</td>\n",
       "      <td>...</td>\n",
       "      <td>6.0</td>\n",
       "      <td>0</td>\n",
       "      <td>1</td>\n",
       "      <td>0</td>\n",
       "      <td>0.0</td>\n",
       "      <td>0.0</td>\n",
       "      <td>0.0</td>\n",
       "      <td>0.0</td>\n",
       "      <td>0.0</td>\n",
       "      <td>0.0</td>\n",
       "    </tr>\n",
       "    <tr>\n",
       "      <th>25171095</th>\n",
       "      <td>NaN</td>\n",
       "      <td>19</td>\n",
       "      <td>23</td>\n",
       "      <td>1574162794000</td>\n",
       "      <td>0</td>\n",
       "      <td>0</td>\n",
       "      <td>0</td>\n",
       "      <td>0</td>\n",
       "      <td>0</td>\n",
       "      <td>0</td>\n",
       "      <td>...</td>\n",
       "      <td>5.0</td>\n",
       "      <td>0</td>\n",
       "      <td>0</td>\n",
       "      <td>0</td>\n",
       "      <td>0.0</td>\n",
       "      <td>0.0</td>\n",
       "      <td>0.0</td>\n",
       "      <td>0.0</td>\n",
       "      <td>0.0</td>\n",
       "      <td>0.0</td>\n",
       "    </tr>\n",
       "    <tr>\n",
       "      <th>27798586</th>\n",
       "      <td>NaN</td>\n",
       "      <td>13</td>\n",
       "      <td>12</td>\n",
       "      <td>1573641823000</td>\n",
       "      <td>1</td>\n",
       "      <td>0</td>\n",
       "      <td>0</td>\n",
       "      <td>0</td>\n",
       "      <td>0</td>\n",
       "      <td>0</td>\n",
       "      <td>...</td>\n",
       "      <td>8.0</td>\n",
       "      <td>0</td>\n",
       "      <td>0</td>\n",
       "      <td>0</td>\n",
       "      <td>0.0</td>\n",
       "      <td>0.0</td>\n",
       "      <td>0.0</td>\n",
       "      <td>0.0</td>\n",
       "      <td>0.0</td>\n",
       "      <td>0.0</td>\n",
       "    </tr>\n",
       "    <tr>\n",
       "      <th>13263728</th>\n",
       "      <td>NaN</td>\n",
       "      <td>4</td>\n",
       "      <td>1</td>\n",
       "      <td>1572846311000</td>\n",
       "      <td>0</td>\n",
       "      <td>0</td>\n",
       "      <td>0</td>\n",
       "      <td>0</td>\n",
       "      <td>0</td>\n",
       "      <td>0</td>\n",
       "      <td>...</td>\n",
       "      <td>8.0</td>\n",
       "      <td>0</td>\n",
       "      <td>0</td>\n",
       "      <td>0</td>\n",
       "      <td>0.0</td>\n",
       "      <td>0.0</td>\n",
       "      <td>0.0</td>\n",
       "      <td>0.0</td>\n",
       "      <td>0.0</td>\n",
       "      <td>0.0</td>\n",
       "    </tr>\n",
       "    <tr>\n",
       "      <th>10128290</th>\n",
       "      <td>NaN</td>\n",
       "      <td>18</td>\n",
       "      <td>3</td>\n",
       "      <td>1574054517000</td>\n",
       "      <td>0</td>\n",
       "      <td>0</td>\n",
       "      <td>0</td>\n",
       "      <td>0</td>\n",
       "      <td>0</td>\n",
       "      <td>0</td>\n",
       "      <td>...</td>\n",
       "      <td>6.0</td>\n",
       "      <td>1</td>\n",
       "      <td>0</td>\n",
       "      <td>0</td>\n",
       "      <td>0.0</td>\n",
       "      <td>0.0</td>\n",
       "      <td>0.0</td>\n",
       "      <td>0.0</td>\n",
       "      <td>0.0</td>\n",
       "      <td>0.0</td>\n",
       "    </tr>\n",
       "  </tbody>\n",
       "</table>\n",
       "<p>5 rows × 26 columns</p>\n",
       "</div>"
      ],
      "text/plain": [
       "         detailMlogInfoList  dt  impressPosition    impressTime  isClick  \\\n",
       "49320237                NaN   9              185  1573280077000        0   \n",
       "25171095                NaN  19               23  1574162794000        0   \n",
       "27798586                NaN  13               12  1573641823000        1   \n",
       "13263728                NaN   4                1  1572846311000        0   \n",
       "10128290                NaN  18                3  1574054517000        0   \n",
       "\n",
       "          isComment  isIntoPersonalHomepage  isShare  isViewComment  isLike  \\\n",
       "49320237          0                       0        0              0       0   \n",
       "25171095          0                       0        0              0       0   \n",
       "27798586          0                       0        0              0       0   \n",
       "13263728          0                       0        0              0       0   \n",
       "10128290          0                       0        0              0       0   \n",
       "\n",
       "          ... level  gender_female gender_male  gender_unknown  \\\n",
       "49320237  ...   6.0              0           1               0   \n",
       "25171095  ...   5.0              0           0               0   \n",
       "27798586  ...   8.0              0           0               0   \n",
       "13263728  ...   8.0              0           0               0   \n",
       "10128290  ...   6.0              1           0               0   \n",
       "\n",
       "          extra_view_time  extra_like  extra_IPH  extra_Share  extra_VC  \\\n",
       "49320237              0.0         0.0        0.0          0.0       0.0   \n",
       "25171095              0.0         0.0        0.0          0.0       0.0   \n",
       "27798586              0.0         0.0        0.0          0.0       0.0   \n",
       "13263728              0.0         0.0        0.0          0.0       0.0   \n",
       "10128290              0.0         0.0        0.0          0.0       0.0   \n",
       "\n",
       "          extra_comment  \n",
       "49320237            0.0  \n",
       "25171095            0.0  \n",
       "27798586            0.0  \n",
       "13263728            0.0  \n",
       "10128290            0.0  \n",
       "\n",
       "[5 rows x 26 columns]"
      ]
     },
     "execution_count": 92,
     "metadata": {},
     "output_type": "execute_result"
    }
   ],
   "source": [
    "df_impression.head()"
   ]
  },
  {
   "cell_type": "markdown",
   "metadata": {},
   "source": [
    "# Define and calculate the features"
   ]
  },
  {
   "cell_type": "code",
   "execution_count": 93,
   "metadata": {},
   "outputs": [
    {
     "name": "stdout",
     "output_type": "stream",
     "text": [
      "100,200,300,400,500,600,700,800,900,1000,1100,1200,1300,1400,1500,1600,1700,1800,1900,2000,2100,2200,2300,2400,2500,2600,2700,2800,2900,3000,3100,3200,3300,3400,3500,3600,3700,3800,3900,4000,4100,4200,4300,4400,4500,"
     ]
    }
   ],
   "source": [
    "# Caculate the probability of previous actions\n",
    "Avg_Cli = []\n",
    "Avg_Com = []\n",
    "Avg_IPH = []\n",
    "Avg_S = []\n",
    "Avg_VC = []\n",
    "Avg_L = []\n",
    "Avg_View_Time = []\n",
    "Avg_Extra_View_Time = []\n",
    "Avg_Extra_like = []\n",
    "Avg_Extra_IPH = []\n",
    "Avg_Extra_share = []\n",
    "Avg_Extra_VC = []\n",
    "Avg_Extra_C = []\n",
    "\n",
    "Age = []\n",
    "G_female = []\n",
    "G_male  = []\n",
    "G_U = []\n",
    "Level = []\n",
    "followCnt = []\n",
    "R_Month = []\n",
    "p = 0\n",
    "\n",
    "for i in df_user_name_arr:\n",
    "    # Fetch all records of a specific users\n",
    "    df_i = df_impression.loc[df_impression['userId'] == i]\n",
    "    # Cut them in half, generate features from the first half and target from the second half.\n",
    "    df_i_first_half = df_i[:int(len(df_i)/2)]\n",
    "    df_i_second_half = df_i[int(len(df_i)/2):]\n",
    "    \n",
    "    # First half for features\n",
    "    df_ii = df_i_first_half.describe().loc['mean']\n",
    "    Avg_Com.append(df_ii['isComment'])\n",
    "    Avg_IPH.append(df_ii['isIntoPersonalHomepage'])\n",
    "    Avg_S.append(df_ii['isShare'])\n",
    "    Avg_VC.append(df_ii['isViewComment'])\n",
    "    Avg_L.append(df_ii['isLike'])\n",
    "    Avg_View_Time.append(df_ii['mlogViewTime'])\n",
    "    Avg_Extra_View_Time.append(df_ii['extra_view_time'])\n",
    "    Avg_Extra_like.append(df_ii['extra_like'])\n",
    "    Avg_Extra_IPH.append(df_ii['extra_IPH'])\n",
    "    Avg_Extra_share.append(df_ii['extra_Share'])\n",
    "    Avg_Extra_VC.append(df_ii['extra_VC'])\n",
    "    Avg_Extra_C.append(df_ii['extra_comment'])\n",
    "    \n",
    "    # Second half for target\n",
    "    df_iii = df_i_second_half.describe().loc['mean']\n",
    "    Avg_Cli.append(df_iii['isClick'])\n",
    "\n",
    "    # Append the demographics data\n",
    "    Age.append(df_ii['age'])\n",
    "    G_female.append(df_ii['gender_female'])\n",
    "    G_male.append(df_ii['gender_male'])\n",
    "    G_U.append(df_ii['gender_unknown'])\n",
    "    Level.append(df_ii['level'])\n",
    "    followCnt.append(df_ii['followCnt'])\n",
    "    R_Month.append(df_ii['registeredMonthCnt'])\n",
    "\n",
    "    #tracking the progress of processing\n",
    "    p += 1\n",
    "    if p%100 == 0:\n",
    "        print(p,end=',')\n"
   ]
  },
  {
   "cell_type": "code",
   "execution_count": 94,
   "metadata": {},
   "outputs": [
    {
     "data": {
      "text/html": [
       "<div>\n",
       "<style scoped>\n",
       "    .dataframe tbody tr th:only-of-type {\n",
       "        vertical-align: middle;\n",
       "    }\n",
       "\n",
       "    .dataframe tbody tr th {\n",
       "        vertical-align: top;\n",
       "    }\n",
       "\n",
       "    .dataframe thead th {\n",
       "        text-align: right;\n",
       "    }\n",
       "</style>\n",
       "<table border=\"1\" class=\"dataframe\">\n",
       "  <thead>\n",
       "    <tr style=\"text-align: right;\">\n",
       "      <th></th>\n",
       "      <th>Avg_Cli</th>\n",
       "      <th>Avg_IPH</th>\n",
       "      <th>Avg_Com</th>\n",
       "      <th>Avg_S</th>\n",
       "      <th>Avg_VC</th>\n",
       "      <th>Avg_L</th>\n",
       "      <th>Avg_View_Time</th>\n",
       "      <th>Avg_Extra_View_Time</th>\n",
       "      <th>Avg_Extra_like</th>\n",
       "      <th>Avg_Extra_IPH</th>\n",
       "      <th>Avg_Extra_share</th>\n",
       "      <th>Avg_Extra_comment</th>\n",
       "      <th>Avg_Extra_VC</th>\n",
       "      <th>Age</th>\n",
       "      <th>G_female</th>\n",
       "      <th>G_male</th>\n",
       "      <th>G_U</th>\n",
       "      <th>Level</th>\n",
       "      <th>followCnt</th>\n",
       "      <th>R_Month</th>\n",
       "    </tr>\n",
       "  </thead>\n",
       "  <tbody>\n",
       "    <tr>\n",
       "      <th>count</th>\n",
       "      <td>4560.000000</td>\n",
       "      <td>4560.000000</td>\n",
       "      <td>4560.000000</td>\n",
       "      <td>4560.000000</td>\n",
       "      <td>4560.000000</td>\n",
       "      <td>4560.000000</td>\n",
       "      <td>4560.000000</td>\n",
       "      <td>4560.000000</td>\n",
       "      <td>4560.000000</td>\n",
       "      <td>4560.000000</td>\n",
       "      <td>4560.000000</td>\n",
       "      <td>4560.0</td>\n",
       "      <td>4560.000000</td>\n",
       "      <td>4560.000000</td>\n",
       "      <td>4560.000000</td>\n",
       "      <td>4560.000000</td>\n",
       "      <td>4560.000000</td>\n",
       "      <td>4560.000000</td>\n",
       "      <td>4560.000000</td>\n",
       "      <td>4560.000000</td>\n",
       "    </tr>\n",
       "    <tr>\n",
       "      <th>mean</th>\n",
       "      <td>0.078999</td>\n",
       "      <td>0.001214</td>\n",
       "      <td>0.000255</td>\n",
       "      <td>0.000692</td>\n",
       "      <td>0.012147</td>\n",
       "      <td>0.003844</td>\n",
       "      <td>1.788388</td>\n",
       "      <td>3.549579</td>\n",
       "      <td>0.004912</td>\n",
       "      <td>0.000253</td>\n",
       "      <td>0.000219</td>\n",
       "      <td>0.0</td>\n",
       "      <td>0.026444</td>\n",
       "      <td>20.937445</td>\n",
       "      <td>0.247149</td>\n",
       "      <td>0.326754</td>\n",
       "      <td>0.011623</td>\n",
       "      <td>6.635965</td>\n",
       "      <td>32.917325</td>\n",
       "      <td>25.204825</td>\n",
       "    </tr>\n",
       "    <tr>\n",
       "      <th>std</th>\n",
       "      <td>0.146915</td>\n",
       "      <td>0.021009</td>\n",
       "      <td>0.009102</td>\n",
       "      <td>0.014803</td>\n",
       "      <td>0.066572</td>\n",
       "      <td>0.037188</td>\n",
       "      <td>7.616172</td>\n",
       "      <td>39.829658</td>\n",
       "      <td>0.123919</td>\n",
       "      <td>0.009237</td>\n",
       "      <td>0.011707</td>\n",
       "      <td>0.0</td>\n",
       "      <td>0.427330</td>\n",
       "      <td>2.821382</td>\n",
       "      <td>0.431401</td>\n",
       "      <td>0.469078</td>\n",
       "      <td>0.107193</td>\n",
       "      <td>1.669416</td>\n",
       "      <td>70.074888</td>\n",
       "      <td>14.739581</td>\n",
       "    </tr>\n",
       "    <tr>\n",
       "      <th>min</th>\n",
       "      <td>0.000000</td>\n",
       "      <td>0.000000</td>\n",
       "      <td>0.000000</td>\n",
       "      <td>0.000000</td>\n",
       "      <td>0.000000</td>\n",
       "      <td>0.000000</td>\n",
       "      <td>0.000000</td>\n",
       "      <td>0.000000</td>\n",
       "      <td>0.000000</td>\n",
       "      <td>0.000000</td>\n",
       "      <td>0.000000</td>\n",
       "      <td>0.0</td>\n",
       "      <td>0.000000</td>\n",
       "      <td>12.000000</td>\n",
       "      <td>0.000000</td>\n",
       "      <td>0.000000</td>\n",
       "      <td>0.000000</td>\n",
       "      <td>0.000000</td>\n",
       "      <td>0.000000</td>\n",
       "      <td>0.000000</td>\n",
       "    </tr>\n",
       "    <tr>\n",
       "      <th>25%</th>\n",
       "      <td>0.000000</td>\n",
       "      <td>0.000000</td>\n",
       "      <td>0.000000</td>\n",
       "      <td>0.000000</td>\n",
       "      <td>0.000000</td>\n",
       "      <td>0.000000</td>\n",
       "      <td>0.000000</td>\n",
       "      <td>0.000000</td>\n",
       "      <td>0.000000</td>\n",
       "      <td>0.000000</td>\n",
       "      <td>0.000000</td>\n",
       "      <td>0.0</td>\n",
       "      <td>0.000000</td>\n",
       "      <td>20.000000</td>\n",
       "      <td>0.000000</td>\n",
       "      <td>0.000000</td>\n",
       "      <td>0.000000</td>\n",
       "      <td>6.000000</td>\n",
       "      <td>5.000000</td>\n",
       "      <td>13.000000</td>\n",
       "    </tr>\n",
       "    <tr>\n",
       "      <th>50%</th>\n",
       "      <td>0.000000</td>\n",
       "      <td>0.000000</td>\n",
       "      <td>0.000000</td>\n",
       "      <td>0.000000</td>\n",
       "      <td>0.000000</td>\n",
       "      <td>0.000000</td>\n",
       "      <td>0.000000</td>\n",
       "      <td>0.000000</td>\n",
       "      <td>0.000000</td>\n",
       "      <td>0.000000</td>\n",
       "      <td>0.000000</td>\n",
       "      <td>0.0</td>\n",
       "      <td>0.000000</td>\n",
       "      <td>21.507805</td>\n",
       "      <td>0.000000</td>\n",
       "      <td>0.000000</td>\n",
       "      <td>0.000000</td>\n",
       "      <td>7.000000</td>\n",
       "      <td>14.000000</td>\n",
       "      <td>26.000000</td>\n",
       "    </tr>\n",
       "    <tr>\n",
       "      <th>75%</th>\n",
       "      <td>0.125000</td>\n",
       "      <td>0.000000</td>\n",
       "      <td>0.000000</td>\n",
       "      <td>0.000000</td>\n",
       "      <td>0.000000</td>\n",
       "      <td>0.000000</td>\n",
       "      <td>0.000000</td>\n",
       "      <td>0.000000</td>\n",
       "      <td>0.000000</td>\n",
       "      <td>0.000000</td>\n",
       "      <td>0.000000</td>\n",
       "      <td>0.0</td>\n",
       "      <td>0.000000</td>\n",
       "      <td>21.507805</td>\n",
       "      <td>0.000000</td>\n",
       "      <td>1.000000</td>\n",
       "      <td>0.000000</td>\n",
       "      <td>8.000000</td>\n",
       "      <td>33.000000</td>\n",
       "      <td>36.000000</td>\n",
       "    </tr>\n",
       "    <tr>\n",
       "      <th>max</th>\n",
       "      <td>1.000000</td>\n",
       "      <td>0.500000</td>\n",
       "      <td>0.500000</td>\n",
       "      <td>0.500000</td>\n",
       "      <td>1.000000</td>\n",
       "      <td>0.666667</td>\n",
       "      <td>289.473333</td>\n",
       "      <td>1607.835000</td>\n",
       "      <td>7.000000</td>\n",
       "      <td>0.500000</td>\n",
       "      <td>0.750000</td>\n",
       "      <td>0.0</td>\n",
       "      <td>18.500000</td>\n",
       "      <td>33.000000</td>\n",
       "      <td>1.000000</td>\n",
       "      <td>1.000000</td>\n",
       "      <td>1.000000</td>\n",
       "      <td>10.000000</td>\n",
       "      <td>1873.000000</td>\n",
       "      <td>80.000000</td>\n",
       "    </tr>\n",
       "  </tbody>\n",
       "</table>\n",
       "</div>"
      ],
      "text/plain": [
       "           Avg_Cli      Avg_IPH      Avg_Com        Avg_S       Avg_VC  \\\n",
       "count  4560.000000  4560.000000  4560.000000  4560.000000  4560.000000   \n",
       "mean      0.078999     0.001214     0.000255     0.000692     0.012147   \n",
       "std       0.146915     0.021009     0.009102     0.014803     0.066572   \n",
       "min       0.000000     0.000000     0.000000     0.000000     0.000000   \n",
       "25%       0.000000     0.000000     0.000000     0.000000     0.000000   \n",
       "50%       0.000000     0.000000     0.000000     0.000000     0.000000   \n",
       "75%       0.125000     0.000000     0.000000     0.000000     0.000000   \n",
       "max       1.000000     0.500000     0.500000     0.500000     1.000000   \n",
       "\n",
       "             Avg_L  Avg_View_Time  Avg_Extra_View_Time  Avg_Extra_like  \\\n",
       "count  4560.000000    4560.000000          4560.000000     4560.000000   \n",
       "mean      0.003844       1.788388             3.549579        0.004912   \n",
       "std       0.037188       7.616172            39.829658        0.123919   \n",
       "min       0.000000       0.000000             0.000000        0.000000   \n",
       "25%       0.000000       0.000000             0.000000        0.000000   \n",
       "50%       0.000000       0.000000             0.000000        0.000000   \n",
       "75%       0.000000       0.000000             0.000000        0.000000   \n",
       "max       0.666667     289.473333          1607.835000        7.000000   \n",
       "\n",
       "       Avg_Extra_IPH  Avg_Extra_share  Avg_Extra_comment  Avg_Extra_VC  \\\n",
       "count    4560.000000      4560.000000             4560.0   4560.000000   \n",
       "mean        0.000253         0.000219                0.0      0.026444   \n",
       "std         0.009237         0.011707                0.0      0.427330   \n",
       "min         0.000000         0.000000                0.0      0.000000   \n",
       "25%         0.000000         0.000000                0.0      0.000000   \n",
       "50%         0.000000         0.000000                0.0      0.000000   \n",
       "75%         0.000000         0.000000                0.0      0.000000   \n",
       "max         0.500000         0.750000                0.0     18.500000   \n",
       "\n",
       "               Age     G_female       G_male          G_U        Level  \\\n",
       "count  4560.000000  4560.000000  4560.000000  4560.000000  4560.000000   \n",
       "mean     20.937445     0.247149     0.326754     0.011623     6.635965   \n",
       "std       2.821382     0.431401     0.469078     0.107193     1.669416   \n",
       "min      12.000000     0.000000     0.000000     0.000000     0.000000   \n",
       "25%      20.000000     0.000000     0.000000     0.000000     6.000000   \n",
       "50%      21.507805     0.000000     0.000000     0.000000     7.000000   \n",
       "75%      21.507805     0.000000     1.000000     0.000000     8.000000   \n",
       "max      33.000000     1.000000     1.000000     1.000000    10.000000   \n",
       "\n",
       "         followCnt      R_Month  \n",
       "count  4560.000000  4560.000000  \n",
       "mean     32.917325    25.204825  \n",
       "std      70.074888    14.739581  \n",
       "min       0.000000     0.000000  \n",
       "25%       5.000000    13.000000  \n",
       "50%      14.000000    26.000000  \n",
       "75%      33.000000    36.000000  \n",
       "max    1873.000000    80.000000  "
      ]
     },
     "execution_count": 94,
     "metadata": {},
     "output_type": "execute_result"
    }
   ],
   "source": [
    "# Produce the dataframe that will be used for classfication tasks\n",
    "df_user = pd.DataFrame(df_user_name_arr,columns=['userId'])\n",
    "df_user['Avg_Cli'] = Avg_Cli\n",
    "df_user['Avg_IPH'] = Avg_IPH\n",
    "df_user['Avg_Com'] = Avg_Com\n",
    "df_user['Avg_S'] = Avg_S\n",
    "df_user['Avg_VC'] = Avg_VC\n",
    "df_user['Avg_L'] = Avg_L\n",
    "df_user['Avg_View_Time'] = Avg_View_Time\n",
    "df_user['Avg_Extra_View_Time'] = Avg_Extra_View_Time\n",
    "df_user['Avg_Extra_like'] = Avg_Extra_like\n",
    "df_user['Avg_Extra_IPH']=Avg_Extra_IPH\n",
    "df_user['Avg_Extra_share']= Avg_Extra_share\n",
    "df_user['Avg_Extra_comment'] = Avg_Extra_C\n",
    "df_user['Avg_Extra_VC'] = Avg_Extra_VC\n",
    "df_user['Age'] = Age\n",
    "df_user['G_female'] = G_female\n",
    "df_user['G_male'] = G_male\n",
    "df_user['G_U'] = G_U\n",
    "df_user['Level'] = Level\n",
    "df_user['followCnt'] =followCnt\n",
    "df_user['R_Month'] =R_Month\n",
    "\n",
    "df_user.describe()"
   ]
  },
  {
   "cell_type": "code",
   "execution_count": 95,
   "metadata": {},
   "outputs": [
    {
     "data": {
      "text/html": [
       "<div>\n",
       "<style scoped>\n",
       "    .dataframe tbody tr th:only-of-type {\n",
       "        vertical-align: middle;\n",
       "    }\n",
       "\n",
       "    .dataframe tbody tr th {\n",
       "        vertical-align: top;\n",
       "    }\n",
       "\n",
       "    .dataframe thead th {\n",
       "        text-align: right;\n",
       "    }\n",
       "</style>\n",
       "<table border=\"1\" class=\"dataframe\">\n",
       "  <thead>\n",
       "    <tr style=\"text-align: right;\">\n",
       "      <th></th>\n",
       "      <th>Avg_Cli</th>\n",
       "      <th>Avg_IPH</th>\n",
       "      <th>Avg_Com</th>\n",
       "      <th>Avg_S</th>\n",
       "      <th>Avg_VC</th>\n",
       "      <th>Avg_L</th>\n",
       "      <th>Avg_View_Time</th>\n",
       "      <th>Age</th>\n",
       "      <th>G_female</th>\n",
       "      <th>G_male</th>\n",
       "      <th>G_U</th>\n",
       "      <th>Level</th>\n",
       "      <th>followCnt</th>\n",
       "      <th>R_Month</th>\n",
       "    </tr>\n",
       "  </thead>\n",
       "  <tbody>\n",
       "    <tr>\n",
       "      <th>count</th>\n",
       "      <td>4560.000000</td>\n",
       "      <td>4560.000000</td>\n",
       "      <td>4560.000000</td>\n",
       "      <td>4560.000000</td>\n",
       "      <td>4560.000000</td>\n",
       "      <td>4560.000000</td>\n",
       "      <td>4560.000000</td>\n",
       "      <td>4560.000000</td>\n",
       "      <td>4560.000000</td>\n",
       "      <td>4560.000000</td>\n",
       "      <td>4560.000000</td>\n",
       "      <td>4560.000000</td>\n",
       "      <td>4560.000000</td>\n",
       "      <td>4560.000000</td>\n",
       "    </tr>\n",
       "    <tr>\n",
       "      <th>mean</th>\n",
       "      <td>0.078999</td>\n",
       "      <td>0.001467</td>\n",
       "      <td>0.000255</td>\n",
       "      <td>0.000911</td>\n",
       "      <td>0.038591</td>\n",
       "      <td>0.008757</td>\n",
       "      <td>5.337967</td>\n",
       "      <td>20.937445</td>\n",
       "      <td>0.247149</td>\n",
       "      <td>0.326754</td>\n",
       "      <td>0.011623</td>\n",
       "      <td>6.635965</td>\n",
       "      <td>32.917325</td>\n",
       "      <td>25.204825</td>\n",
       "    </tr>\n",
       "    <tr>\n",
       "      <th>std</th>\n",
       "      <td>0.146915</td>\n",
       "      <td>0.022937</td>\n",
       "      <td>0.009102</td>\n",
       "      <td>0.020932</td>\n",
       "      <td>0.447552</td>\n",
       "      <td>0.129920</td>\n",
       "      <td>41.949335</td>\n",
       "      <td>2.821382</td>\n",
       "      <td>0.431401</td>\n",
       "      <td>0.469078</td>\n",
       "      <td>0.107193</td>\n",
       "      <td>1.669416</td>\n",
       "      <td>70.074888</td>\n",
       "      <td>14.739581</td>\n",
       "    </tr>\n",
       "    <tr>\n",
       "      <th>min</th>\n",
       "      <td>0.000000</td>\n",
       "      <td>0.000000</td>\n",
       "      <td>0.000000</td>\n",
       "      <td>0.000000</td>\n",
       "      <td>0.000000</td>\n",
       "      <td>0.000000</td>\n",
       "      <td>0.000000</td>\n",
       "      <td>12.000000</td>\n",
       "      <td>0.000000</td>\n",
       "      <td>0.000000</td>\n",
       "      <td>0.000000</td>\n",
       "      <td>0.000000</td>\n",
       "      <td>0.000000</td>\n",
       "      <td>0.000000</td>\n",
       "    </tr>\n",
       "    <tr>\n",
       "      <th>25%</th>\n",
       "      <td>0.000000</td>\n",
       "      <td>0.000000</td>\n",
       "      <td>0.000000</td>\n",
       "      <td>0.000000</td>\n",
       "      <td>0.000000</td>\n",
       "      <td>0.000000</td>\n",
       "      <td>0.000000</td>\n",
       "      <td>20.000000</td>\n",
       "      <td>0.000000</td>\n",
       "      <td>0.000000</td>\n",
       "      <td>0.000000</td>\n",
       "      <td>6.000000</td>\n",
       "      <td>5.000000</td>\n",
       "      <td>13.000000</td>\n",
       "    </tr>\n",
       "    <tr>\n",
       "      <th>50%</th>\n",
       "      <td>0.000000</td>\n",
       "      <td>0.000000</td>\n",
       "      <td>0.000000</td>\n",
       "      <td>0.000000</td>\n",
       "      <td>0.000000</td>\n",
       "      <td>0.000000</td>\n",
       "      <td>0.000000</td>\n",
       "      <td>21.507805</td>\n",
       "      <td>0.000000</td>\n",
       "      <td>0.000000</td>\n",
       "      <td>0.000000</td>\n",
       "      <td>7.000000</td>\n",
       "      <td>14.000000</td>\n",
       "      <td>26.000000</td>\n",
       "    </tr>\n",
       "    <tr>\n",
       "      <th>75%</th>\n",
       "      <td>0.125000</td>\n",
       "      <td>0.000000</td>\n",
       "      <td>0.000000</td>\n",
       "      <td>0.000000</td>\n",
       "      <td>0.000000</td>\n",
       "      <td>0.000000</td>\n",
       "      <td>0.000000</td>\n",
       "      <td>21.507805</td>\n",
       "      <td>0.000000</td>\n",
       "      <td>1.000000</td>\n",
       "      <td>0.000000</td>\n",
       "      <td>8.000000</td>\n",
       "      <td>33.000000</td>\n",
       "      <td>36.000000</td>\n",
       "    </tr>\n",
       "    <tr>\n",
       "      <th>max</th>\n",
       "      <td>1.000000</td>\n",
       "      <td>0.500000</td>\n",
       "      <td>0.500000</td>\n",
       "      <td>1.000000</td>\n",
       "      <td>18.500000</td>\n",
       "      <td>7.000000</td>\n",
       "      <td>1629.455000</td>\n",
       "      <td>33.000000</td>\n",
       "      <td>1.000000</td>\n",
       "      <td>1.000000</td>\n",
       "      <td>1.000000</td>\n",
       "      <td>10.000000</td>\n",
       "      <td>1873.000000</td>\n",
       "      <td>80.000000</td>\n",
       "    </tr>\n",
       "  </tbody>\n",
       "</table>\n",
       "</div>"
      ],
      "text/plain": [
       "           Avg_Cli      Avg_IPH      Avg_Com        Avg_S       Avg_VC  \\\n",
       "count  4560.000000  4560.000000  4560.000000  4560.000000  4560.000000   \n",
       "mean      0.078999     0.001467     0.000255     0.000911     0.038591   \n",
       "std       0.146915     0.022937     0.009102     0.020932     0.447552   \n",
       "min       0.000000     0.000000     0.000000     0.000000     0.000000   \n",
       "25%       0.000000     0.000000     0.000000     0.000000     0.000000   \n",
       "50%       0.000000     0.000000     0.000000     0.000000     0.000000   \n",
       "75%       0.125000     0.000000     0.000000     0.000000     0.000000   \n",
       "max       1.000000     0.500000     0.500000     1.000000    18.500000   \n",
       "\n",
       "             Avg_L  Avg_View_Time          Age     G_female       G_male  \\\n",
       "count  4560.000000    4560.000000  4560.000000  4560.000000  4560.000000   \n",
       "mean      0.008757       5.337967    20.937445     0.247149     0.326754   \n",
       "std       0.129920      41.949335     2.821382     0.431401     0.469078   \n",
       "min       0.000000       0.000000    12.000000     0.000000     0.000000   \n",
       "25%       0.000000       0.000000    20.000000     0.000000     0.000000   \n",
       "50%       0.000000       0.000000    21.507805     0.000000     0.000000   \n",
       "75%       0.000000       0.000000    21.507805     0.000000     1.000000   \n",
       "max       7.000000    1629.455000    33.000000     1.000000     1.000000   \n",
       "\n",
       "               G_U        Level    followCnt      R_Month  \n",
       "count  4560.000000  4560.000000  4560.000000  4560.000000  \n",
       "mean      0.011623     6.635965    32.917325    25.204825  \n",
       "std       0.107193     1.669416    70.074888    14.739581  \n",
       "min       0.000000     0.000000     0.000000     0.000000  \n",
       "25%       0.000000     6.000000     5.000000    13.000000  \n",
       "50%       0.000000     7.000000    14.000000    26.000000  \n",
       "75%       0.000000     8.000000    33.000000    36.000000  \n",
       "max       1.000000    10.000000  1873.000000    80.000000  "
      ]
     },
     "execution_count": 95,
     "metadata": {},
     "output_type": "execute_result"
    }
   ],
   "source": [
    "df_user['Avg_View_Time'] = df_user['Avg_View_Time'] + df_user ['Avg_Extra_View_Time']\n",
    "df_user['Avg_IPH'] = df_user['Avg_IPH'] + df_user['Avg_Extra_IPH']\n",
    "df_user['Avg_Com'] =  df_user['Avg_Com'] + df_user['Avg_Extra_comment']\n",
    "df_user['Avg_S']  = df_user['Avg_S'] + df_user['Avg_Extra_share']\n",
    "df_user['Avg_VC'] = df_user['Avg_VC'] + df_user['Avg_Extra_VC']\n",
    "df_user['Avg_L'] = df_user['Avg_L']+ df_user['Avg_Extra_like']\n",
    "\n",
    "df_user = df_user.drop(columns=['Avg_Extra_View_Time','Avg_Extra_IPH','Avg_Extra_comment','Avg_Extra_share','Avg_Extra_VC','Avg_Extra_like'])\n",
    "df_user.describe()"
   ]
  },
  {
   "cell_type": "markdown",
   "metadata": {},
   "source": [
    "# Redefine Classification Target to 0/1"
   ]
  },
  {
   "cell_type": "code",
   "execution_count": 96,
   "metadata": {},
   "outputs": [
    {
     "data": {
      "text/html": [
       "<div>\n",
       "<style scoped>\n",
       "    .dataframe tbody tr th:only-of-type {\n",
       "        vertical-align: middle;\n",
       "    }\n",
       "\n",
       "    .dataframe tbody tr th {\n",
       "        vertical-align: top;\n",
       "    }\n",
       "\n",
       "    .dataframe thead th {\n",
       "        text-align: right;\n",
       "    }\n",
       "</style>\n",
       "<table border=\"1\" class=\"dataframe\">\n",
       "  <thead>\n",
       "    <tr style=\"text-align: right;\">\n",
       "      <th></th>\n",
       "      <th>Avg_Cli</th>\n",
       "      <th>Avg_IPH</th>\n",
       "      <th>Avg_Com</th>\n",
       "      <th>Avg_S</th>\n",
       "      <th>Avg_VC</th>\n",
       "      <th>Avg_L</th>\n",
       "      <th>Avg_View_Time</th>\n",
       "      <th>Age</th>\n",
       "      <th>G_female</th>\n",
       "      <th>G_male</th>\n",
       "      <th>G_U</th>\n",
       "      <th>Level</th>\n",
       "      <th>followCnt</th>\n",
       "      <th>R_Month</th>\n",
       "      <th>Cli</th>\n",
       "    </tr>\n",
       "  </thead>\n",
       "  <tbody>\n",
       "    <tr>\n",
       "      <th>count</th>\n",
       "      <td>4560.000000</td>\n",
       "      <td>4560.000000</td>\n",
       "      <td>4560.000000</td>\n",
       "      <td>4560.000000</td>\n",
       "      <td>4560.000000</td>\n",
       "      <td>4560.000000</td>\n",
       "      <td>4560.000000</td>\n",
       "      <td>4560.000000</td>\n",
       "      <td>4560.000000</td>\n",
       "      <td>4560.000000</td>\n",
       "      <td>4560.000000</td>\n",
       "      <td>4560.000000</td>\n",
       "      <td>4560.000000</td>\n",
       "      <td>4560.000000</td>\n",
       "      <td>4560.000000</td>\n",
       "    </tr>\n",
       "    <tr>\n",
       "      <th>mean</th>\n",
       "      <td>0.078999</td>\n",
       "      <td>0.001467</td>\n",
       "      <td>0.000255</td>\n",
       "      <td>0.000911</td>\n",
       "      <td>0.038591</td>\n",
       "      <td>0.008757</td>\n",
       "      <td>5.337967</td>\n",
       "      <td>20.937445</td>\n",
       "      <td>0.247149</td>\n",
       "      <td>0.326754</td>\n",
       "      <td>0.011623</td>\n",
       "      <td>6.635965</td>\n",
       "      <td>32.917325</td>\n",
       "      <td>25.204825</td>\n",
       "      <td>0.273026</td>\n",
       "    </tr>\n",
       "    <tr>\n",
       "      <th>std</th>\n",
       "      <td>0.146915</td>\n",
       "      <td>0.022937</td>\n",
       "      <td>0.009102</td>\n",
       "      <td>0.020932</td>\n",
       "      <td>0.447552</td>\n",
       "      <td>0.129920</td>\n",
       "      <td>41.949335</td>\n",
       "      <td>2.821382</td>\n",
       "      <td>0.431401</td>\n",
       "      <td>0.469078</td>\n",
       "      <td>0.107193</td>\n",
       "      <td>1.669416</td>\n",
       "      <td>70.074888</td>\n",
       "      <td>14.739581</td>\n",
       "      <td>0.445563</td>\n",
       "    </tr>\n",
       "    <tr>\n",
       "      <th>min</th>\n",
       "      <td>0.000000</td>\n",
       "      <td>0.000000</td>\n",
       "      <td>0.000000</td>\n",
       "      <td>0.000000</td>\n",
       "      <td>0.000000</td>\n",
       "      <td>0.000000</td>\n",
       "      <td>0.000000</td>\n",
       "      <td>12.000000</td>\n",
       "      <td>0.000000</td>\n",
       "      <td>0.000000</td>\n",
       "      <td>0.000000</td>\n",
       "      <td>0.000000</td>\n",
       "      <td>0.000000</td>\n",
       "      <td>0.000000</td>\n",
       "      <td>0.000000</td>\n",
       "    </tr>\n",
       "    <tr>\n",
       "      <th>25%</th>\n",
       "      <td>0.000000</td>\n",
       "      <td>0.000000</td>\n",
       "      <td>0.000000</td>\n",
       "      <td>0.000000</td>\n",
       "      <td>0.000000</td>\n",
       "      <td>0.000000</td>\n",
       "      <td>0.000000</td>\n",
       "      <td>20.000000</td>\n",
       "      <td>0.000000</td>\n",
       "      <td>0.000000</td>\n",
       "      <td>0.000000</td>\n",
       "      <td>6.000000</td>\n",
       "      <td>5.000000</td>\n",
       "      <td>13.000000</td>\n",
       "      <td>0.000000</td>\n",
       "    </tr>\n",
       "    <tr>\n",
       "      <th>50%</th>\n",
       "      <td>0.000000</td>\n",
       "      <td>0.000000</td>\n",
       "      <td>0.000000</td>\n",
       "      <td>0.000000</td>\n",
       "      <td>0.000000</td>\n",
       "      <td>0.000000</td>\n",
       "      <td>0.000000</td>\n",
       "      <td>21.507805</td>\n",
       "      <td>0.000000</td>\n",
       "      <td>0.000000</td>\n",
       "      <td>0.000000</td>\n",
       "      <td>7.000000</td>\n",
       "      <td>14.000000</td>\n",
       "      <td>26.000000</td>\n",
       "      <td>0.000000</td>\n",
       "    </tr>\n",
       "    <tr>\n",
       "      <th>75%</th>\n",
       "      <td>0.125000</td>\n",
       "      <td>0.000000</td>\n",
       "      <td>0.000000</td>\n",
       "      <td>0.000000</td>\n",
       "      <td>0.000000</td>\n",
       "      <td>0.000000</td>\n",
       "      <td>0.000000</td>\n",
       "      <td>21.507805</td>\n",
       "      <td>0.000000</td>\n",
       "      <td>1.000000</td>\n",
       "      <td>0.000000</td>\n",
       "      <td>8.000000</td>\n",
       "      <td>33.000000</td>\n",
       "      <td>36.000000</td>\n",
       "      <td>1.000000</td>\n",
       "    </tr>\n",
       "    <tr>\n",
       "      <th>max</th>\n",
       "      <td>1.000000</td>\n",
       "      <td>0.500000</td>\n",
       "      <td>0.500000</td>\n",
       "      <td>1.000000</td>\n",
       "      <td>18.500000</td>\n",
       "      <td>7.000000</td>\n",
       "      <td>1629.455000</td>\n",
       "      <td>33.000000</td>\n",
       "      <td>1.000000</td>\n",
       "      <td>1.000000</td>\n",
       "      <td>1.000000</td>\n",
       "      <td>10.000000</td>\n",
       "      <td>1873.000000</td>\n",
       "      <td>80.000000</td>\n",
       "      <td>1.000000</td>\n",
       "    </tr>\n",
       "  </tbody>\n",
       "</table>\n",
       "</div>"
      ],
      "text/plain": [
       "           Avg_Cli      Avg_IPH      Avg_Com        Avg_S       Avg_VC  \\\n",
       "count  4560.000000  4560.000000  4560.000000  4560.000000  4560.000000   \n",
       "mean      0.078999     0.001467     0.000255     0.000911     0.038591   \n",
       "std       0.146915     0.022937     0.009102     0.020932     0.447552   \n",
       "min       0.000000     0.000000     0.000000     0.000000     0.000000   \n",
       "25%       0.000000     0.000000     0.000000     0.000000     0.000000   \n",
       "50%       0.000000     0.000000     0.000000     0.000000     0.000000   \n",
       "75%       0.125000     0.000000     0.000000     0.000000     0.000000   \n",
       "max       1.000000     0.500000     0.500000     1.000000    18.500000   \n",
       "\n",
       "             Avg_L  Avg_View_Time          Age     G_female       G_male  \\\n",
       "count  4560.000000    4560.000000  4560.000000  4560.000000  4560.000000   \n",
       "mean      0.008757       5.337967    20.937445     0.247149     0.326754   \n",
       "std       0.129920      41.949335     2.821382     0.431401     0.469078   \n",
       "min       0.000000       0.000000    12.000000     0.000000     0.000000   \n",
       "25%       0.000000       0.000000    20.000000     0.000000     0.000000   \n",
       "50%       0.000000       0.000000    21.507805     0.000000     0.000000   \n",
       "75%       0.000000       0.000000    21.507805     0.000000     1.000000   \n",
       "max       7.000000    1629.455000    33.000000     1.000000     1.000000   \n",
       "\n",
       "               G_U        Level    followCnt      R_Month          Cli  \n",
       "count  4560.000000  4560.000000  4560.000000  4560.000000  4560.000000  \n",
       "mean      0.011623     6.635965    32.917325    25.204825     0.273026  \n",
       "std       0.107193     1.669416    70.074888    14.739581     0.445563  \n",
       "min       0.000000     0.000000     0.000000     0.000000     0.000000  \n",
       "25%       0.000000     6.000000     5.000000    13.000000     0.000000  \n",
       "50%       0.000000     7.000000    14.000000    26.000000     0.000000  \n",
       "75%       0.000000     8.000000    33.000000    36.000000     1.000000  \n",
       "max       1.000000    10.000000  1873.000000    80.000000     1.000000  "
      ]
     },
     "execution_count": 96,
     "metadata": {},
     "output_type": "execute_result"
    }
   ],
   "source": [
    "df_user['Cli'] = np.where(df_user['Avg_Cli'] > 0, 1, 0)\n",
    "df_user.head()\n",
    "\n",
    "df_user.describe()\n"
   ]
  },
  {
   "cell_type": "code",
   "execution_count": 97,
   "metadata": {},
   "outputs": [
    {
     "data": {
      "text/plain": [
       "array([[<AxesSubplot:title={'center':'Cli'}>]], dtype=object)"
      ]
     },
     "execution_count": 97,
     "metadata": {},
     "output_type": "execute_result"
    },
    {
     "data": {
      "image/png": "[encoded data removed]",
      "text/plain": [
       "<Figure size 432x288 with 1 Axes>"
      ]
     },
     "metadata": {
      "needs_background": "light"
     },
     "output_type": "display_data"
    }
   ],
   "source": [
    "df_user['Cli'].to_frame().hist(bins = 5)"
   ]
  },
  {
   "cell_type": "code",
   "execution_count": 98,
   "metadata": {},
   "outputs": [
    {
     "data": {
      "text/plain": [
       "array([[<AxesSubplot:title={'center':'Cli'}>]], dtype=object)"
      ]
     },
     "execution_count": 98,
     "metadata": {},
     "output_type": "execute_result"
    },
    {
     "data": {
      "image/png": "[encoded data removed]",
      "text/plain": [
       "<Figure size 432x288 with 1 Axes>"
      ]
     },
     "metadata": {
      "needs_background": "light"
     },
     "output_type": "display_data"
    }
   ],
   "source": [
    "# Manually make the dataset balance by resampling\n",
    "df_user = df_user.groupby(\"Cli\").sample(n=1500, random_state=42,replace=True)\n",
    "df_user['Cli'].to_frame().hist(bins = 5)"
   ]
  },
  {
   "cell_type": "markdown",
   "metadata": {},
   "source": [
    "# Classification Task\n",
    "    Step 1: Split the data\n",
    "    Step 2: Train models\n",
    "    Step 3: Evaluate Models"
   ]
  },
  {
   "cell_type": "code",
   "execution_count": 99,
   "metadata": {},
   "outputs": [],
   "source": [
    "from sklearn.metrics import fbeta_score\n",
    "from sklearn.metrics import mean_squared_error\n",
    "from sklearn.preprocessing import StandardScaler\n",
    "X = df_user.drop(columns=['Avg_Cli','userId','Cli'])\n",
    "y = df_user['Cli']\n",
    "\n",
    "from sklearn.model_selection import train_test_split as tr_te_split\n",
    "X_train,X_test,y_train,y_test = tr_te_split(X,y,test_size=0.3)"
   ]
  },
  {
   "cell_type": "code",
   "execution_count": 100,
   "metadata": {},
   "outputs": [],
   "source": [
    "# Define learning curve to check for overfitting\n",
    "from sklearn.model_selection import learning_curve\n",
    "def plot_learning_curve(estimator,title,X,y,axes=None,ylim=None,cv=None,n_jobs=None,train_sizes=np.linspace(0.1, 1.0, 20),):\n",
    "    if axes is None:\n",
    "        _, axes = plt.subplots(1, 3, figsize=(20, 5))\n",
    "\n",
    "    axes.set_title(title)\n",
    "    if ylim is not None:\n",
    "        axes.set_ylim(*ylim)\n",
    "        axes.set_xlabel(\"Training examples\")\n",
    "        axes.set_ylabel(\"Score\")\n",
    "\n",
    "    train_sizes, train_scores, test_scores, fit_times, _ = learning_curve(estimator,X,y,cv=cv,n_jobs=n_jobs,train_sizes=train_sizes,return_times=True)\n",
    "    \n",
    "    train_scores_mean = np.mean(train_scores, axis=1)\n",
    "    train_scores_std = np.std(train_scores, axis=1)\n",
    "    test_scores_mean = np.mean(test_scores, axis=1)\n",
    "    test_scores_std = np.std(test_scores, axis=1)\n",
    "    fit_times_mean = np.mean(fit_times, axis=1)\n",
    "    fit_times_std = np.std(fit_times, axis=1)\n",
    "\n",
    "    # Plot learning curve\n",
    "    axes.grid()\n",
    "    axes.fill_between(\n",
    "        train_sizes,\n",
    "        train_scores_mean - train_scores_std,\n",
    "        train_scores_mean + train_scores_std,\n",
    "        alpha=0.1,\n",
    "        color=\"r\",\n",
    "    )\n",
    "    axes.fill_between(\n",
    "        train_sizes,\n",
    "        test_scores_mean - test_scores_std,\n",
    "        test_scores_mean + test_scores_std,\n",
    "        alpha=0.1,\n",
    "        color=\"g\",\n",
    "    )\n",
    "    axes.plot(\n",
    "        train_sizes, train_scores_mean, \"o-\", color=\"r\", label=\"Training score\"\n",
    "    )\n",
    "    axes.plot(\n",
    "        train_sizes, test_scores_mean, \"o-\", color=\"g\", label=\"Cross-validation score\"\n",
    "    )\n",
    "    axes.legend(loc=\"best\")\n",
    "\n",
    "\n",
    "    \n",
    "    return plt"
   ]
  },
  {
   "cell_type": "markdown",
   "metadata": {},
   "source": [
    "### Logistic Regression Model (Baseline Model)"
   ]
  },
  {
   "cell_type": "code",
   "execution_count": 101,
   "metadata": {},
   "outputs": [
    {
     "name": "stdout",
     "output_type": "stream",
     "text": [
      "AUC 0.53\n"
     ]
    }
   ],
   "source": [
    "# Fit a Baseline Model with all features\n",
    "# Logistic Regression as Classification\n",
    "from sklearn.linear_model import LogisticRegression as LogitReg\n",
    "LR=LogitReg(max_iter=10000).fit(X_train,y_train)\n",
    "\n",
    "prob_pred=LR.predict_proba(X_test)\n",
    "y_pred=list(map(lambda x: int(x>=0.5),prob_pred[:,1]))\n",
    "accuracy_LR = LR.score(X_test,y_test)\n",
    "print(\"AUC\",accuracy_LR)"
   ]
  },
  {
   "cell_type": "code",
   "execution_count": 102,
   "metadata": {},
   "outputs": [
    {
     "data": {
      "text/plain": [
       "<matplotlib.legend.Legend at 0x7fde388de2b0>"
      ]
     },
     "execution_count": 102,
     "metadata": {},
     "output_type": "execute_result"
    },
    {
     "data": {
      "image/png": "[encoded data removed]",
      "text/plain": [
       "<Figure size 720x720 with 1 Axes>"
      ]
     },
     "metadata": {
      "needs_background": "light"
     },
     "output_type": "display_data"
    }
   ],
   "source": [
    "from sklearn.metrics import roc_curve, auc, plot_roc_curve\n",
    "fpr,tpr,thresholds = roc_curve(y_test,prob_pred[:,1])\n",
    "roc_auc = auc(fpr,tpr)\n",
    "plt.figure(figsize=(10,10))\n",
    "plt.plot(fpr,tpr,color = 'darkorange',lw =2, label = 'ROC curve(AUC=%0.4f)'%roc_auc)\n",
    "plt.plot([0,1],[0,1],color = 'navy',lw=2,linestyle = '--')\n",
    "plt.xlim([0.0,1.0])\n",
    "plt.ylim([0.0,1.05])\n",
    "plt.xlabel('False Postive Rate')\n",
    "plt.ylabel('True Positive Rate')\n",
    "plt.title('Receiver Operating Charateristic')\n",
    "plt.legend(loc='lower right')"
   ]
  },
  {
   "cell_type": "code",
   "execution_count": 103,
   "metadata": {},
   "outputs": [
    {
     "name": "stdout",
     "output_type": "stream",
     "text": [
      "Mean Accuracy: 0.544 (0.017)\n"
     ]
    },
    {
     "data": {
      "image/png": "[encoded data removed]",
      "text/plain": [
       "<Figure size 720x360 with 1 Axes>"
      ]
     },
     "metadata": {
      "needs_background": "light"
     },
     "output_type": "display_data"
    },
    {
     "name": "stdout",
     "output_type": "stream",
     "text": [
      "27.313205217999894 seconds\n"
     ]
    }
   ],
   "source": [
    "from sklearn.model_selection import cross_val_score\n",
    "from numpy import mean\n",
    "from numpy import std\n",
    "import timeit\n",
    "from sklearn.model_selection import ShuffleSplit\n",
    "\n",
    "cv = ShuffleSplit(n_splits=50, test_size=0.3, random_state=0)\n",
    "\n",
    "fig, axes = plt.subplots(figsize=(10, 5))\n",
    "title = \"Logistic Regression\"\n",
    "estimator = LogitReg(max_iter=10000)\n",
    "scores = cross_val_score(estimator, X, y, scoring='accuracy', cv=cv, n_jobs=-1)\n",
    "# summarize result\n",
    "print('Mean Accuracy: %.3f (%.3f)' % (mean(scores), std(scores)))\n",
    "start = timeit.default_timer()\n",
    "plot_learning_curve(estimator, title, X, y, axes=axes, ylim=(0.4,0.8), cv=cv, n_jobs=4)\n",
    "stop = timeit.default_timer()\n",
    "plt.show()\n",
    "print(stop - start, \"seconds\")"
   ]
  },
  {
   "cell_type": "markdown",
   "metadata": {},
   "source": [
    "* Logistic Regression Analysis"
   ]
  },
  {
   "cell_type": "markdown",
   "metadata": {},
   "source": [
    "- Our Logistic regression has a low AUC of 0.55. By definition, it means that given one random positive outcome and one random negative outcome, the probability (AUC) that this Logistic Regression Model correctly predicts which outcome is postive and which outcome is negative is only 0.55. \n",
    "In principal, a \"random guess\" classification model has a AUC of 0.5(As shown by the navy blue stragith line between (0,0) and (1,1)) so our model has not much edge over a pure random guess. \n",
    "\n",
    "- I choose Logistic regression as a start of the classification. As a model embedded with linear nature, the logistic regression highlights the tradeoff between different features of interest. \n",
    "The relative weight of the features can be captured by the ratio between their coefficients and therefore it draws a rough picture about the relative significance level of them. Based on the coefficient table from Linear regression, we may think of shortlisting the feature and see if dropping some less significant features help improve the model.\n",
    "\n",
    "- The estimated coefficients of the logistic regression model to predict users' clicking probability are shown on Table(). From here, we learn that the average probability of user clicking into the creators' personal homepage, clicking \"likes\" have almost no benefit in help predicting the future clicking possibility, whereas users' action of \"viewing comment\" has a strong predictive power of the target. Then, our next step could be running the same model on less features.\n",
    "\n",
    "- According to the learning curve, the model is suffer from underfitting since both the training and cross-validation score are low. And therefore, there's no need to apply regularization. We should admit that logistic regression is a bad model for the current task, in other words, the logistic regression fails to capture to true underlying relationship of future clicking probability and past actions."
   ]
  },
  {
   "cell_type": "code",
   "execution_count": 104,
   "metadata": {},
   "outputs": [
    {
     "data": {
      "text/html": [
       "<div>\n",
       "<style scoped>\n",
       "    .dataframe tbody tr th:only-of-type {\n",
       "        vertical-align: middle;\n",
       "    }\n",
       "\n",
       "    .dataframe tbody tr th {\n",
       "        vertical-align: top;\n",
       "    }\n",
       "\n",
       "    .dataframe thead th {\n",
       "        text-align: right;\n",
       "    }\n",
       "</style>\n",
       "<table border=\"1\" class=\"dataframe\">\n",
       "  <thead>\n",
       "    <tr style=\"text-align: right;\">\n",
       "      <th></th>\n",
       "      <th>Feature</th>\n",
       "      <th>Coefficient</th>\n",
       "    </tr>\n",
       "  </thead>\n",
       "  <tbody>\n",
       "    <tr>\n",
       "      <th>0</th>\n",
       "      <td>Avg_IPH</td>\n",
       "      <td>0.061463</td>\n",
       "    </tr>\n",
       "    <tr>\n",
       "      <th>1</th>\n",
       "      <td>Avg_Com</td>\n",
       "      <td>-0.078331</td>\n",
       "    </tr>\n",
       "    <tr>\n",
       "      <th>2</th>\n",
       "      <td>Avg_S</td>\n",
       "      <td>-0.087828</td>\n",
       "    </tr>\n",
       "    <tr>\n",
       "      <th>3</th>\n",
       "      <td>Avg_VC</td>\n",
       "      <td>-0.508616</td>\n",
       "    </tr>\n",
       "    <tr>\n",
       "      <th>4</th>\n",
       "      <td>Avg_L</td>\n",
       "      <td>-0.666618</td>\n",
       "    </tr>\n",
       "    <tr>\n",
       "      <th>5</th>\n",
       "      <td>Avg_View_Time</td>\n",
       "      <td>0.007390</td>\n",
       "    </tr>\n",
       "    <tr>\n",
       "      <th>6</th>\n",
       "      <td>Age</td>\n",
       "      <td>-0.025292</td>\n",
       "    </tr>\n",
       "    <tr>\n",
       "      <th>7</th>\n",
       "      <td>G_female</td>\n",
       "      <td>-0.037039</td>\n",
       "    </tr>\n",
       "    <tr>\n",
       "      <th>8</th>\n",
       "      <td>G_male</td>\n",
       "      <td>-0.317156</td>\n",
       "    </tr>\n",
       "    <tr>\n",
       "      <th>9</th>\n",
       "      <td>G_U</td>\n",
       "      <td>0.159331</td>\n",
       "    </tr>\n",
       "    <tr>\n",
       "      <th>10</th>\n",
       "      <td>Level</td>\n",
       "      <td>-0.048923</td>\n",
       "    </tr>\n",
       "    <tr>\n",
       "      <th>11</th>\n",
       "      <td>followCnt</td>\n",
       "      <td>0.000471</td>\n",
       "    </tr>\n",
       "    <tr>\n",
       "      <th>12</th>\n",
       "      <td>R_Month</td>\n",
       "      <td>-0.008876</td>\n",
       "    </tr>\n",
       "  </tbody>\n",
       "</table>\n",
       "</div>"
      ],
      "text/plain": [
       "          Feature  Coefficient\n",
       "0         Avg_IPH     0.061463\n",
       "1         Avg_Com    -0.078331\n",
       "2           Avg_S    -0.087828\n",
       "3          Avg_VC    -0.508616\n",
       "4           Avg_L    -0.666618\n",
       "5   Avg_View_Time     0.007390\n",
       "6             Age    -0.025292\n",
       "7        G_female    -0.037039\n",
       "8          G_male    -0.317156\n",
       "9             G_U     0.159331\n",
       "10          Level    -0.048923\n",
       "11      followCnt     0.000471\n",
       "12        R_Month    -0.008876"
      ]
     },
     "execution_count": 104,
     "metadata": {},
     "output_type": "execute_result"
    }
   ],
   "source": [
    "# store the coefficients\n",
    "df_coeff = pd.DataFrame({\n",
    "    'Feature':df_user.columns.to_list()[2:15],\n",
    "    'Coefficient': np.array(LR.coef_).reshape(13)\n",
    "})\n",
    "\n",
    "df_coeff"
   ]
  },
  {
   "cell_type": "markdown",
   "metadata": {},
   "source": [
    "Surprisingly, the feature \"Average View Time\" has the lowest predictive power among all. In all the users with more than 2 records"
   ]
  },
  {
   "cell_type": "code",
   "execution_count": 105,
   "metadata": {},
   "outputs": [
    {
     "data": {
      "image/png": "[encoded data removed]",
      "text/plain": [
       "<Figure size 432x288 with 2 Axes>"
      ]
     },
     "metadata": {
      "needs_background": "light"
     },
     "output_type": "display_data"
    }
   ],
   "source": [
    "# Visualizing Confusion Matrix\n",
    "from sklearn.metrics import confusion_matrix,ConfusionMatrixDisplay\n",
    "tn,fp,fn,tp = confusion_matrix(y_test,y_pred).ravel()\n",
    "cm = confusion_matrix(y_test,y_pred,labels = LR.classes_)\n",
    "disp = ConfusionMatrixDisplay(confusion_matrix=cm,display_labels=LR.classes_)\n",
    "disp.plot()\n",
    "plt.show()"
   ]
  },
  {
   "cell_type": "markdown",
   "metadata": {},
   "source": [
    "Baseline Dummy model for logistic Regression (If Accurcy is bigger than the model, the the model makes no sense)"
   ]
  },
  {
   "cell_type": "code",
   "execution_count": 106,
   "metadata": {},
   "outputs": [
    {
     "name": "stdout",
     "output_type": "stream",
     "text": [
      "accuracy_2 0.47333333333333333\n"
     ]
    }
   ],
   "source": [
    "from sklearn.dummy import DummyClassifier\n",
    "most_fre_CL=DummyClassifier(strategy='most_frequent')\n",
    "most_fre_CL.fit(X_train,y_train)\n",
    "prob_pred=most_fre_CL.predict_proba(X_train)\n",
    "# print(prob_pred)\n",
    "\n",
    "prob_test=most_fre_CL.predict_proba(X_test)\n",
    "y_pred_test=list(map(lambda x: int(x>=0.7),prob_test[:,1]))\n",
    "# fbeta=fbeta_score(y_test, y_pred_test, beta=0.5)\n",
    "# print('The Fbeta_score for Dummy Model is', fbeta)\n",
    "accuracy_2 = most_fre_CL.score(X_test,y_test)\n",
    "print(\"accuracy_2\",accuracy_2)\n",
    "# fpr,tpr,thresholds = roc_curve(y_train,prob_pred[:,1])\n",
    "# roc_auc = auc (fpr,tpr)\n",
    "# plot_roc_curve(LR,X_train,y_train)"
   ]
  },
  {
   "cell_type": "markdown",
   "metadata": {},
   "source": [
    "Besides the normal logistic regression, a dummy logistic regression model is also applied to assure the ____ of our logistic regression\n",
    "It is the model that only predicts one target, no matter what the inputs are. The rationale behind the comparison is that even though the single AUC of a normal logistic regression may looks good, it still cannot assure the model is satisfying if the classifier that only predicts one outcome have a similar AUC. This normally happen if the dataset is extremly unbalanced. \n",
    "\n",
    "\n",
    "As described in the dataset distribution section, most of the users do log in the platform and listen to music, but not much of them tend to click on the recommendation card and keep vie\n",
    "\n",
    "\n",
    "In my first trial, the comparison provides \n",
    "Dummy logistic regression provide a baseline assesment of the logisticregression model we \n",
    "By testing on a dummy model,"
   ]
  },
  {
   "cell_type": "markdown",
   "metadata": {},
   "source": [
    "### KNN"
   ]
  },
  {
   "cell_type": "markdown",
   "metadata": {},
   "source": [
    "k = 100"
   ]
  },
  {
   "cell_type": "code",
   "execution_count": 107,
   "metadata": {},
   "outputs": [
    {
     "name": "stdout",
     "output_type": "stream",
     "text": [
      "accuracy_knn 0.5322222222222223\n"
     ]
    }
   ],
   "source": [
    "from sklearn.neighbors import KNeighborsClassifier\n",
    "# from sklearn.preprocessing import StandardScaler\n",
    "\n",
    "scaler = StandardScaler().fit(X_train)\n",
    "X_train_st = scaler.transform(X_train)\n",
    "X_test_st = scaler.transform(X_test)\n",
    "\n",
    "scaler_p = StandardScaler().fit(X)\n",
    "df_user_2 = df_user.drop(columns = ['Avg_Cli','userId','Cli'])\n",
    "df_user_2 = scaler_p.transform(df_user_2)\n",
    "\n",
    "X_st=scaler_p.transform(X)\n",
    "\n",
    "knn = KNeighborsClassifier(n_neighbors=100).fit(X_train_st,y_train)\n",
    "y_pred = knn.predict(X_test_st)\n",
    "\n",
    "accuracy_knn = knn.score(X_test_st,y_test)\n",
    "print(\"accuracy_knn\",accuracy_knn)"
   ]
  },
  {
   "cell_type": "markdown",
   "metadata": {},
   "source": [
    "k = 1"
   ]
  },
  {
   "cell_type": "code",
   "execution_count": 108,
   "metadata": {},
   "outputs": [
    {
     "name": "stdout",
     "output_type": "stream",
     "text": [
      "accuracy_knn 0.72\n"
     ]
    }
   ],
   "source": [
    "from sklearn.neighbors import KNeighborsClassifier\n",
    "# from sklearn.preprocessing import StandardScaler\n",
    "\n",
    "scaler = StandardScaler().fit(X_train)\n",
    "X_train_st = scaler.transform(X_train)\n",
    "X_test_st = scaler.transform(X_test)\n",
    "\n",
    "scaler_p = StandardScaler().fit(X)\n",
    "df_user_2 = df_user.drop(columns = ['Avg_Cli','userId','Cli'])\n",
    "df_user_2 = scaler_p.transform(df_user_2)\n",
    "\n",
    "X_st=scaler_p.transform(X)\n",
    "\n",
    "knn_1 = KNeighborsClassifier(n_neighbors=1).fit(X_train_st,y_train)\n",
    "y_pred = knn.predict(X_test_st)\n",
    "\n",
    "accuracy_knn = knn_1.score(X_test_st,y_test)\n",
    "print(\"accuracy_knn\",accuracy_knn)"
   ]
  },
  {
   "cell_type": "code",
   "execution_count": 109,
   "metadata": {},
   "outputs": [
    {
     "name": "stdout",
     "output_type": "stream",
     "text": [
      "The out-of-sample AUC for the 1nn is 0.7229\n"
     ]
    },
    {
     "data": {
      "text/plain": [
       "<matplotlib.legend.Legend at 0x7fde3a3cd6a0>"
      ]
     },
     "execution_count": 109,
     "metadata": {},
     "output_type": "execute_result"
    },
    {
     "data": {
      "image/png": "[encoded data removed]",
      "text/plain": [
       "<Figure size 720x720 with 1 Axes>"
      ]
     },
     "metadata": {
      "needs_background": "light"
     },
     "output_type": "display_data"
    }
   ],
   "source": [
    "y_score =knn_1 .predict_proba(X_test_st)\n",
    "fpr,tpr,thresholds = roc_curve(y_test,y_score[:,1])\n",
    "roc_auc = auc(fpr,tpr)\n",
    "\n",
    "print(\"The out-of-sample AUC for the 1nn is %0.4f\" % roc_auc)\n",
    "\n",
    "plt.figure(figsize=(10,10))\n",
    "plt.plot(fpr,tpr,color = 'darkorange',lw =2, label = 'ROC curve(AUC=%0.4f)'%roc_auc)\n",
    "plt.plot([0,1],[0,1],color = 'navy',lw=2,linestyle = '--')\n",
    "plt.xlim([0.0,1.0])\n",
    "plt.ylim([0.0,1.05])\n",
    "plt.xlabel('False Postive Rate')\n",
    "plt.ylabel('True Positive Rate')\n",
    "plt.title('Receiver Operating Charateristic')\n",
    "plt.legend(loc='lower right')\n"
   ]
  },
  {
   "cell_type": "markdown",
   "metadata": {},
   "source": [
    "k=2"
   ]
  },
  {
   "cell_type": "code",
   "execution_count": 110,
   "metadata": {},
   "outputs": [
    {
     "name": "stdout",
     "output_type": "stream",
     "text": [
      "accuracy_knn_2 0.6588888888888889\n"
     ]
    }
   ],
   "source": [
    "from sklearn.neighbors import KNeighborsClassifier\n",
    "# from sklearn.preprocessing import StandardScaler\n",
    "\n",
    "scaler = StandardScaler().fit(X_train)\n",
    "X_train_st = scaler.transform(X_train)\n",
    "X_test_st = scaler.transform(X_test)\n",
    "\n",
    "scaler_p = StandardScaler().fit(X)\n",
    "df_user_2 = df_user.drop(columns = ['Avg_Cli','userId','Cli'])\n",
    "df_user_2 = scaler_p.transform(df_user_2)\n",
    "\n",
    "X_st=scaler_p.transform(X)\n",
    "\n",
    "knn = KNeighborsClassifier(n_neighbors=2).fit(X_train_st,y_train)\n",
    "y_pred = knn.predict(X_test_st)\n",
    "\n",
    "accuracy_knn = knn.score(X_test_st,y_test)\n",
    "print(\"accuracy_knn_2\",accuracy_knn)"
   ]
  },
  {
   "cell_type": "code",
   "execution_count": 111,
   "metadata": {},
   "outputs": [
    {
     "name": "stdout",
     "output_type": "stream",
     "text": [
      "Mean Accuracy: 0.727 (0.014)\n"
     ]
    },
    {
     "data": {
      "image/png": "[encoded data removed]",
      "text/plain": [
       "<Figure size 720x360 with 1 Axes>"
      ]
     },
     "metadata": {
      "needs_background": "light"
     },
     "output_type": "display_data"
    },
    {
     "name": "stdout",
     "output_type": "stream",
     "text": [
      "23.331756317000327 seconds\n"
     ]
    }
   ],
   "source": [
    "cv = ShuffleSplit(n_splits=50, test_size=0.3, random_state=0)\n",
    "fig, axes = plt.subplots(figsize=(10, 5))\n",
    "title = \"kNN_1\"\n",
    "estimator = knn_1\n",
    "scores = cross_val_score(estimator, X_st, y, scoring='accuracy', cv=cv, n_jobs=-1)\n",
    "# summarize result\n",
    "print('Mean Accuracy: %.3f (%.3f)' % (mean(scores), std(scores)))\n",
    "start = timeit.default_timer()\n",
    "plot_learning_curve(estimator, title, X_st, y, axes=axes, ylim=(0.4,1), cv=cv, n_jobs=4)\n",
    "stop = timeit.default_timer()\n",
    "plt.show()\n",
    "print(stop - start, \"seconds\")"
   ]
  },
  {
   "cell_type": "code",
   "execution_count": 112,
   "metadata": {},
   "outputs": [
    {
     "data": {
      "image/png": "[encoded data removed]",
      "text/plain": [
       "<Figure size 432x288 with 2 Axes>"
      ]
     },
     "metadata": {
      "needs_background": "light"
     },
     "output_type": "display_data"
    }
   ],
   "source": [
    "# Visualizing Confusion Matrix\n",
    "tn,fp,fn,tp = confusion_matrix(y_test,y_pred).ravel()\n",
    "cm = confusion_matrix(y_test,y_pred,labels = knn_1.classes_)\n",
    "disp = ConfusionMatrixDisplay(confusion_matrix=cm,display_labels=knn.classes_)\n",
    "disp.plot()\n",
    "plt.show()"
   ]
  },
  {
   "cell_type": "markdown",
   "metadata": {},
   "source": [
    "k- Nearest Neighbor(k-NN) model is also a widely used model for classification. This model estimates P[Y=1|X] directly and builds a classifer by local averaging. The key assumption of the k-NN model is that the distance in the feature space reliably reflects similarities in the outcomes."
   ]
  },
  {
   "cell_type": "markdown",
   "metadata": {},
   "source": [
    "### Decision Tree"
   ]
  },
  {
   "cell_type": "code",
   "execution_count": 113,
   "metadata": {},
   "outputs": [
    {
     "name": "stdout",
     "output_type": "stream",
     "text": [
      "The out-of-sample AUC for Decision Tree is 0.7331\n"
     ]
    },
    {
     "data": {
      "text/plain": [
       "<matplotlib.legend.Legend at 0x7fdb72ff5100>"
      ]
     },
     "execution_count": 113,
     "metadata": {},
     "output_type": "execute_result"
    },
    {
     "data": {
      "image/png": "[encoded data removed]",
      "text/plain": [
       "<Figure size 720x720 with 1 Axes>"
      ]
     },
     "metadata": {
      "needs_background": "light"
     },
     "output_type": "display_data"
    }
   ],
   "source": [
    "# Decision Tree\n",
    "from sklearn.tree import DecisionTreeClassifier\n",
    "tree=DecisionTreeClassifier(max_depth= 1000)\n",
    "tree.fit(X_train,y_train)\n",
    "y_pred=tree.predict(X_test)\n",
    "\n",
    "y_score =tree.predict_proba(X_test)\n",
    "fpr,tpr,thresholds = roc_curve(y_test,y_score[:,1])\n",
    "roc_auc = auc(fpr,tpr)\n",
    "\n",
    "print(\"The out-of-sample AUC for Decision Tree is %0.4f\" % roc_auc)\n",
    "\n",
    "plt.figure(figsize=(10,10))\n",
    "plt.plot(fpr,tpr,color = 'darkorange',lw =2, label = 'ROC curve(AUC=%0.4f)'%roc_auc)\n",
    "plt.plot([0,1],[0,1],color = 'navy',lw=2,linestyle = '--')\n",
    "plt.xlim([0.0,1.0])\n",
    "plt.ylim([0.0,1.05])\n",
    "plt.xlabel('False Postive Rate')\n",
    "plt.ylabel('True Positive Rate')\n",
    "plt.title('Receiver Operating Charateristic(Decision Tree)')\n",
    "plt.legend(loc='lower right')"
   ]
  },
  {
   "cell_type": "code",
   "execution_count": 114,
   "metadata": {},
   "outputs": [
    {
     "data": {
      "image/png": "[encoded data removed]",
      "text/plain": [
       "<Figure size 432x288 with 2 Axes>"
      ]
     },
     "metadata": {
      "needs_background": "light"
     },
     "output_type": "display_data"
    }
   ],
   "source": [
    "# Visualizing Confusion Matrix\n",
    "tn,fp,fn,tp = confusion_matrix(y_test,y_pred).ravel()\n",
    "cm = confusion_matrix(y_test,y_pred,labels = tree.classes_)\n",
    "disp = ConfusionMatrixDisplay(confusion_matrix=cm,display_labels=tree.classes_)\n",
    "disp.plot()\n",
    "plt.show()"
   ]
  },
  {
   "cell_type": "markdown",
   "metadata": {},
   "source": [
    "### Random Forest"
   ]
  },
  {
   "cell_type": "code",
   "execution_count": 115,
   "metadata": {},
   "outputs": [
    {
     "name": "stdout",
     "output_type": "stream",
     "text": [
      "accuracy_Random Forest 0.7355555555555555\n",
      "The out-of-sample AUC for the Random Forest is 0.8460\n"
     ]
    },
    {
     "data": {
      "text/plain": [
       "<matplotlib.legend.Legend at 0x7fdb72a3d790>"
      ]
     },
     "execution_count": 115,
     "metadata": {},
     "output_type": "execute_result"
    },
    {
     "data": {
      "image/png": "[encoded data removed]",
      "text/plain": [
       "<Figure size 720x720 with 1 Axes>"
      ]
     },
     "metadata": {
      "needs_background": "light"
     },
     "output_type": "display_data"
    }
   ],
   "source": [
    "from sklearn.ensemble import RandomForestClassifier\n",
    "\n",
    "Forest_cli = RandomForestClassifier(n_estimators = 100)\n",
    "Forest_cli.fit(X_train,y_train)\n",
    "y_pred=Forest_cli.predict(X_test)\n",
    "\n",
    "accuracy_RandomForest = Forest_cli.score(X_test,y_test)\n",
    "print(\"accuracy_Random Forest\",accuracy_RandomForest)\n",
    "\n",
    "y_score =Forest_cli .predict_proba(X_test)\n",
    "fpr,tpr,thresholds = roc_curve(y_test,y_score[:,1])\n",
    "roc_auc = auc(fpr,tpr)\n",
    "\n",
    "print(\"The out-of-sample AUC for the Random Forest is %0.4f\" % roc_auc)\n",
    "\n",
    "plt.figure(figsize=(10,10))\n",
    "plt.plot(fpr,tpr,color = 'darkorange',lw =2, label = 'ROC curve(AUC=%0.4f)'%roc_auc)\n",
    "plt.plot([0,1],[0,1],color = 'navy',lw=2,linestyle = '--')\n",
    "plt.xlim([0.0,1.0])\n",
    "plt.ylim([0.0,1.05])\n",
    "plt.xlabel('False Postive Rate')\n",
    "plt.ylabel('True Positive Rate')\n",
    "plt.title('Receiver Operating Charateristic(Random Forest)')\n",
    "plt.legend(loc='lower right')"
   ]
  },
  {
   "cell_type": "code",
   "execution_count": 116,
   "metadata": {},
   "outputs": [
    {
     "data": {
      "text/html": [
       "<style type=\"text/css\">\n",
       "</style>\n",
       "<table id=\"T_3f90f_\">\n",
       "  <thead>\n",
       "    <tr>\n",
       "      <th class=\"col_heading level0 col0\" >Feature</th>\n",
       "      <th class=\"col_heading level0 col1\" >Importance</th>\n",
       "    </tr>\n",
       "  </thead>\n",
       "  <tbody>\n",
       "    <tr>\n",
       "      <td id=\"T_3f90f_row0_col0\" class=\"data row0 col0\" >Avg_IPH</td>\n",
       "      <td id=\"T_3f90f_row0_col1\" class=\"data row0 col1\" >0.002441</td>\n",
       "    </tr>\n",
       "    <tr>\n",
       "      <td id=\"T_3f90f_row1_col0\" class=\"data row1 col0\" >Avg_Com</td>\n",
       "      <td id=\"T_3f90f_row1_col1\" class=\"data row1 col1\" >0.001363</td>\n",
       "    </tr>\n",
       "    <tr>\n",
       "      <td id=\"T_3f90f_row2_col0\" class=\"data row2 col0\" >Avg_S</td>\n",
       "      <td id=\"T_3f90f_row2_col1\" class=\"data row2 col1\" >0.000984</td>\n",
       "    </tr>\n",
       "    <tr>\n",
       "      <td id=\"T_3f90f_row3_col0\" class=\"data row3 col0\" >Avg_VC</td>\n",
       "      <td id=\"T_3f90f_row3_col1\" class=\"data row3 col1\" >0.019226</td>\n",
       "    </tr>\n",
       "    <tr>\n",
       "      <td id=\"T_3f90f_row4_col0\" class=\"data row4 col0\" >Avg_L</td>\n",
       "      <td id=\"T_3f90f_row4_col1\" class=\"data row4 col1\" >0.007385</td>\n",
       "    </tr>\n",
       "    <tr>\n",
       "      <td id=\"T_3f90f_row5_col0\" class=\"data row5 col0\" >Avg_View_Time</td>\n",
       "      <td id=\"T_3f90f_row5_col1\" class=\"data row5 col1\" >0.107666</td>\n",
       "    </tr>\n",
       "    <tr>\n",
       "      <td id=\"T_3f90f_row6_col0\" class=\"data row6 col0\" >Age</td>\n",
       "      <td id=\"T_3f90f_row6_col1\" class=\"data row6 col1\" >0.136532</td>\n",
       "    </tr>\n",
       "    <tr>\n",
       "      <td id=\"T_3f90f_row7_col0\" class=\"data row7 col0\" >G_female</td>\n",
       "      <td id=\"T_3f90f_row7_col1\" class=\"data row7 col1\" >0.013740</td>\n",
       "    </tr>\n",
       "    <tr>\n",
       "      <td id=\"T_3f90f_row8_col0\" class=\"data row8 col0\" >G_male</td>\n",
       "      <td id=\"T_3f90f_row8_col1\" class=\"data row8 col1\" >0.014658</td>\n",
       "    </tr>\n",
       "    <tr>\n",
       "      <td id=\"T_3f90f_row9_col0\" class=\"data row9 col0\" >G_U</td>\n",
       "      <td id=\"T_3f90f_row9_col1\" class=\"data row9 col1\" >0.002925</td>\n",
       "    </tr>\n",
       "    <tr>\n",
       "      <td id=\"T_3f90f_row10_col0\" class=\"data row10 col0\" >Level</td>\n",
       "      <td id=\"T_3f90f_row10_col1\" class=\"data row10 col1\" >0.098352</td>\n",
       "    </tr>\n",
       "    <tr>\n",
       "      <td id=\"T_3f90f_row11_col0\" class=\"data row11 col0\" >followCnt</td>\n",
       "      <td id=\"T_3f90f_row11_col1\" class=\"data row11 col1\" >0.312437</td>\n",
       "    </tr>\n",
       "    <tr>\n",
       "      <td id=\"T_3f90f_row12_col0\" class=\"data row12 col0\" >R_Month</td>\n",
       "      <td id=\"T_3f90f_row12_col1\" class=\"data row12 col1\" >0.282290</td>\n",
       "    </tr>\n",
       "  </tbody>\n",
       "</table>\n"
      ],
      "text/plain": [
       "<pandas.io.formats.style.Styler at 0x7fde39e866d0>"
      ]
     },
     "execution_count": 116,
     "metadata": {},
     "output_type": "execute_result"
    }
   ],
   "source": [
    "df_coeff_rf = pd.DataFrame({\n",
    "    'Feature':df_user.columns.to_list()[2:15],\n",
    "    'Importance': Forest_cli.feature_importances_\n",
    "})\n",
    "\n",
    "df_coeff_rf.style.hide_index()\n",
    "\n",
    "# The feature_importance report the average amount of decrease in Gini index associated with the split on different features used to train the random forest. The larger the decrease, the more important the feature.\n",
    "# As we can see from the results, for the random forest model, the feature        makes the most important contribution to predicting the future clicking probability.\n"
   ]
  },
  {
   "cell_type": "code",
   "execution_count": 117,
   "metadata": {},
   "outputs": [
    {
     "name": "stdout",
     "output_type": "stream",
     "text": [
      "Mean Accuracy: 0.744 (0.014)\n"
     ]
    },
    {
     "data": {
      "image/png": "[encoded data removed]",
      "text/plain": [
       "<Figure size 720x360 with 1 Axes>"
      ]
     },
     "metadata": {
      "needs_background": "light"
     },
     "output_type": "display_data"
    },
    {
     "name": "stdout",
     "output_type": "stream",
     "text": [
      "56.39649534 seconds\n"
     ]
    }
   ],
   "source": [
    "cv = ShuffleSplit(n_splits=50, test_size=0.3, random_state=0)\n",
    "fig, axes = plt.subplots(figsize=(10, 5))\n",
    "title = \"Random Forest\"\n",
    "estimator = Forest_cli\n",
    "scores = cross_val_score(estimator, X_st, y, scoring='accuracy', cv=cv, n_jobs=-1)\n",
    "# summarize result\n",
    "print('Mean Accuracy: %.3f (%.3f)' % (mean(scores), std(scores)))\n",
    "start = timeit.default_timer()\n",
    "plot_learning_curve(estimator, title, X_st, y, axes=axes, ylim=(0.4,1), cv=cv, n_jobs=4)\n",
    "stop = timeit.default_timer()\n",
    "plt.show()\n",
    "print(stop - start, \"seconds\")"
   ]
  },
  {
   "cell_type": "markdown",
   "metadata": {},
   "source": [
    "### XgBoost"
   ]
  },
  {
   "cell_type": "code",
   "execution_count": 118,
   "metadata": {},
   "outputs": [
    {
     "name": "stdout",
     "output_type": "stream",
     "text": [
      "[20:17:12] WARNING: /Users/runner/work/xgboost/xgboost/src/learner.cc:1115: Starting in XGBoost 1.3.0, the default evaluation metric used with the objective 'binary:logistic' was changed from 'error' to 'logloss'. Explicitly set eval_metric if you'd like to restore the old behavior.\n"
     ]
    },
    {
     "name": "stderr",
     "output_type": "stream",
     "text": [
      "/Users/lijialin/opt/anaconda3/lib/python3.8/site-packages/xgboost/sklearn.py:1224: UserWarning: The use of label encoder in XGBClassifier is deprecated and will be removed in a future release. To remove this warning, do the following: 1) Pass option use_label_encoder=False when constructing XGBClassifier object; and 2) Encode your labels (y) as integers starting with 0, i.e. 0, 1, 2, ..., [num_class - 1].\n",
      "  warnings.warn(label_encoder_deprecation_msg, UserWarning)\n"
     ]
    },
    {
     "name": "stdout",
     "output_type": "stream",
     "text": [
      "accuracy_xgbt 0.7388888888888889\n",
      "The out-of-sample AUC for the XGBT is 0.7764\n"
     ]
    },
    {
     "data": {
      "text/plain": [
       "<matplotlib.legend.Legend at 0x7fdb74bb1e80>"
      ]
     },
     "execution_count": 118,
     "metadata": {},
     "output_type": "execute_result"
    },
    {
     "data": {
      "image/png": "[encoded data removed]",
      "text/plain": [
       "<Figure size 720x720 with 1 Axes>"
      ]
     },
     "metadata": {
      "needs_background": "light"
     },
     "output_type": "display_data"
    }
   ],
   "source": [
    "import xgboost as xgb\n",
    "data_train=xgb.DMatrix(data=X_train,label=y_train)\n",
    "data_test=xgb.DMatrix(data=X_test,label=y_test)\n",
    "\n",
    "xgbt=xgb.XGBClassifier(n_estimators = 1000).fit(X_train,y_train)\n",
    "y_pred=xgbt.predict(X_test)\n",
    "\n",
    "accuracy_xgbt = xgbt.score(X_test,y_test)\n",
    "print(\"accuracy_xgbt\",accuracy_xgbt)\n",
    "\n",
    "y_score = xgbt.predict_proba(X_test)\n",
    "fpr,tpr,thresholds = roc_curve(y_test,y_score[:,1])\n",
    "roc_auc = auc(fpr,tpr)\n",
    "\n",
    "print(\"The out-of-sample AUC for the XGBT is %0.4f\" % roc_auc)\n",
    "\n",
    "plt.figure(figsize=(10,10))\n",
    "plt.plot(fpr,tpr,color = 'darkorange',lw =2, label = 'ROC curve(AUC=%0.4f)'%roc_auc)\n",
    "plt.plot([0,1],[0,1],color = 'navy',lw=2,linestyle = '--')\n",
    "plt.xlim([0.0,1.0])\n",
    "plt.ylim([0.0,1.05])\n",
    "plt.xlabel('False Postive Rate')\n",
    "plt.ylabel('True Positive Rate')\n",
    "plt.title('Receiver Operating Charateristic')\n",
    "plt.legend(loc='lower right')"
   ]
  },
  {
   "cell_type": "code",
   "execution_count": 119,
   "metadata": {},
   "outputs": [
    {
     "data": {
      "image/png": "[encoded data removed]",
      "text/plain": [
       "<Figure size 432x288 with 2 Axes>"
      ]
     },
     "metadata": {
      "needs_background": "light"
     },
     "output_type": "display_data"
    }
   ],
   "source": [
    "# Visualizing Confusion Matrix\n",
    "from sklearn.metrics import confusion_matrix,ConfusionMatrixDisplay\n",
    "tn,fp,fn,tp = confusion_matrix(y_test,y_pred).ravel()\n",
    "cm = confusion_matrix(y_test,y_pred,labels = xgbt.classes_)\n",
    "disp = ConfusionMatrixDisplay(confusion_matrix=cm,display_labels=xgbt.classes_)\n",
    "disp.plot()\n",
    "plt.show()"
   ]
  },
  {
   "cell_type": "code",
   "execution_count": 120,
   "metadata": {},
   "outputs": [
    {
     "name": "stdout",
     "output_type": "stream",
     "text": [
      "Accuracy: 73.89%\n"
     ]
    },
    {
     "data": {
      "image/png": "[encoded data removed]",
      "text/plain": [
       "<Figure size 864x864 with 1 Axes>"
      ]
     },
     "metadata": {},
     "output_type": "display_data"
    },
    {
     "data": {
      "image/png": "[encoded data removed]",
      "text/plain": [
       "<Figure size 864x864 with 1 Axes>"
      ]
     },
     "metadata": {},
     "output_type": "display_data"
    }
   ],
   "source": [
    "def Learning_curve_for_XGboost(): \n",
    "    import warnings\n",
    "    warnings.filterwarnings(\"ignore\")\n",
    "    from matplotlib import pyplot\n",
    "    import matplotlib.pyplot as plt \n",
    "    from numpy import loadtxt\n",
    "    from sklearn.metrics import accuracy_score  \n",
    "    plt.style.use('ggplot')    \n",
    "    \n",
    "    # fit model no training data\n",
    "    model = xgbt\n",
    "    eval_set = [(X_train, y_train), (X_test, y_test)]\n",
    "    model.fit(X_train, y_train, eval_metric=[\"error\", \"logloss\"], eval_set=eval_set, verbose=False)\n",
    "    \n",
    "    # make predictions for test data\n",
    "    y_pred = model.predict(X_test)\n",
    "    predictions = [round(value) for value in y_pred]\n",
    "    \n",
    "    # evaluate predictions\n",
    "    accuracy = accuracy_score(y_test, predictions)\n",
    "    print(\"Accuracy: %.2f%%\" % (accuracy * 100.0))\n",
    "    \n",
    "    # retrieve performance metrics\n",
    "    results = model.evals_result()\n",
    "    epochs = len(results['validation_0']['error'])\n",
    "    x_axis = range(0, epochs)\n",
    "    \n",
    "    # plot log loss\n",
    "    fig, ax = pyplot.subplots(figsize=(12,12))\n",
    "    ax.plot(x_axis, results['validation_0']['logloss'], label='Train')\n",
    "    ax.plot(x_axis, results['validation_1']['logloss'], label='Test')\n",
    "    ax.legend()\n",
    "    \n",
    "    pyplot.ylabel('Log Loss')\n",
    "    pyplot.title('XGBoost Log Loss')\n",
    "    pyplot.show()\n",
    "    \n",
    "    \n",
    "    # plot classification error\n",
    "    fig, ax = pyplot.subplots(figsize=(12,12))\n",
    "    ax.plot(x_axis, results['validation_0']['error'], label='Train')\n",
    "    ax.plot(x_axis, results['validation_1']['error'], label='Test')\n",
    "    ax.legend()\n",
    "    \n",
    "    pyplot.ylabel('Classification Error')\n",
    "    pyplot.title('XGBoost Classification Error')\n",
    "    pyplot.show()\n",
    "Learning_curve_for_XGboost()"
   ]
  },
  {
   "cell_type": "markdown",
   "metadata": {},
   "source": [
    "Method:\n",
    "\n",
    "In general, boosting algorithm takes a group of weak classifiers(e.g. decision stumps) and add them into a strong classifier while reweighting their contribution. Meanwhile, each weak classifer focus more on the data points that are incorrectly classified by the preceeding weak classifier.\n",
    "\n",
    "In core, a gradient boosting tree adaptively train a series of simple decision trees and transform them into a strong tree with the objective to minimize the sum of the total training loss and the total regularization penalty. The extreme gradient boosting tree (XGBT) is normally expected to more accurate than random forest.\n",
    "\n",
    "\n",
    "xgboost provides the most satisfying result among all models with an out-of-sample AUC of 0.7935. "
   ]
  },
  {
   "cell_type": "markdown",
   "metadata": {},
   "source": [
    "### Gaussian Naive Bayes"
   ]
  },
  {
   "cell_type": "code",
   "execution_count": 121,
   "metadata": {},
   "outputs": [
    {
     "name": "stdout",
     "output_type": "stream",
     "text": [
      "Mean Accuracy: 0.495 (0.016)\n"
     ]
    },
    {
     "data": {
      "image/png": "[encoded data removed]",
      "text/plain": [
       "<Figure size 720x360 with 1 Axes>"
      ]
     },
     "metadata": {},
     "output_type": "display_data"
    },
    {
     "name": "stdout",
     "output_type": "stream",
     "text": [
      "5.799124187000416 seconds\n"
     ]
    }
   ],
   "source": [
    "from sklearn.naive_bayes import GaussianNB\n",
    "\n",
    "cv = ShuffleSplit(n_splits=50, test_size=0.3, random_state=0)\n",
    "fig, axes = plt.subplots(figsize=(10, 5))\n",
    "title = \"Gausian Naive Bayes\"\n",
    "estimator = GaussianNB()\n",
    "scores = cross_val_score(estimator, X, y, scoring='accuracy', cv=cv, n_jobs=-1)\n",
    "# summarize result\n",
    "print('Mean Accuracy: %.3f (%.3f)' % (mean(scores), std(scores)))\n",
    "start = timeit.default_timer()\n",
    "plot_learning_curve(estimator, title, X, y, axes=axes, ylim=(0.4,0.8), cv=cv, n_jobs=4)\n",
    "stop = timeit.default_timer()\n",
    "plt.show()\n",
    "print(stop - start, \"seconds\")"
   ]
  },
  {
   "cell_type": "markdown",
   "metadata": {},
   "source": [
    "# Compare with deep learning OR neural Network"
   ]
  }
 ],
 "metadata": {
  "interpreter": {
   "hash": "a0c90e3c9acc9e2e0b667a0e48c58992102aca03f015a96ece60b09a312bac60"
  },
  "kernelspec": {
   "display_name": "Python 3.7.7 64-bit",
   "language": "python",
   "name": "python3"
  },
  "language_info": {
   "codemirror_mode": {
    "name": "ipython",
    "version": 3
   },
   "file_extension": ".py",
   "mimetype": "text/x-python",
   "name": "python",
   "nbconvert_exporter": "python",
   "pygments_lexer": "ipython3",
   "version": "3.8.8"
  },
  "metadata": {
   "interpreter": {
    "hash": "cb421fcbfbaf0104cacf837c3c93e5a1272efcec6efbfe33617a554fafda64f9"
   }
  },
  "orig_nbformat": 2
 },
 "nbformat": 4,
 "nbformat_minor": 2
}
